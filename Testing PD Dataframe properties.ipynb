{
 "cells": [
  {
   "cell_type": "code",
   "execution_count": 215,
   "metadata": {
    "collapsed": true
   },
   "outputs": [],
   "source": [
    "import numpy as np\n",
    "import pandas as pd\n",
    "\n",
    "from skimage.io import imread"
   ]
  },
  {
   "cell_type": "code",
   "execution_count": 72,
   "metadata": {
    "collapsed": true
   },
   "outputs": [],
   "source": [
    "class ObjectWrapper(object):\n",
    "    def __init__(self, s):\n",
    "        self.s = s\n",
    "        self.type = type(s[0])"
   ]
  },
  {
   "cell_type": "code",
   "execution_count": 323,
   "metadata": {},
   "outputs": [],
   "source": [
    "def check_all_elements_have_the_same_property(array, func):\n",
    "    if len(array) == 0:\n",
    "        return True, None\n",
    "    try:\n",
    "        first_element_type = func(array[0])\n",
    "    except:\n",
    "        return True, None\n",
    "    do_all_have_property = all(func(x) == first_element_type\n",
    "                               for x in array)\n",
    "\n",
    "    return do_all_have_property, first_element_type\n",
    "\n",
    "\n",
    "class ObjectWrapper(object):\n",
    "    def __init__(self, obj):\n",
    "        self.obj = obj\n",
    "        self.type = type(obj)\n",
    "\n",
    "\n",
    "class CustomSeries(pd.Series):\n",
    "    _metadata = ['data_type']\n",
    "\n",
    "    @property\n",
    "    def _constructor(self):\n",
    "        return CustomSeries\n",
    "\n",
    "    @property\n",
    "    def _constructor_expanddim(self):\n",
    "        return CustomDataFrame\n",
    "        \n",
    "    def __init__(self, *args, **kwargs):\n",
    "        super(CustomSeries, self).__init__(*args, **kwargs)\n",
    "        \n",
    "        data = kwargs.get('data')\n",
    "        if data is None:\n",
    "            data = args[0]\n",
    "        \n",
    "        check_result, data_type = check_all_elements_have_the_same_property(data, type)\n",
    "        if not check_result:\n",
    "            raise ValueError('Not all elements the same type')\n",
    "                \n",
    "        if data_type is not None:\n",
    "            self.data_type = data_type\n",
    "        else:            \n",
    "            self.data_type = type(data._values[0])\n",
    "            \n",
    "            \n",
    "class CustomDataFrame(pd.DataFrame):\n",
    "    @property\n",
    "    def _constructor(self):\n",
    "        return CustomDataFrame\n",
    "\n",
    "    @property\n",
    "    def _constructor_sliced(self):\n",
    "        return CustomSeries\n",
    "    \n",
    "    \n",
    "    def __init__(self, *args, **kwargs):\n",
    "        data = kwargs.get('data')\n",
    "        if data is None:\n",
    "            data = args[0]\n",
    "        \n",
    "        data_to_check = []\n",
    "        if isinstance(data, list):\n",
    "            data_to_check = data\n",
    "        elif isinstance(data, dict):\n",
    "            data_to_check = data.values()\n",
    "        \n",
    "        for d in data_to_check:\n",
    "            if not isinstance(d, CustomSeries):\n",
    "                raise ValueError('All data must be CustomSeries instances')            \n",
    "        super(CustomDataFrame, self).__init__(*args, **kwargs)\n",
    "        \n",
    "        \n",
    "    def get_columns_of_type(self, column_type):\n",
    "        columns_to_select = [\n",
    "            col_name for col_name in self.columns\n",
    "            if self[col_name].data_type == column_type\n",
    "        ]\n",
    "        \n",
    "        return self[columns_to_select]        "
   ]
  },
  {
   "cell_type": "code",
   "execution_count": 352,
   "metadata": {},
   "outputs": [
    {
     "name": "stdout",
     "output_type": "stream",
     "text": [
      "<class 'numpy.int64'>\n"
     ]
    }
   ],
   "source": [
    "s1 = CustomSeries([pd.Series([1, 2, 3], index=['a', 'b', 'c']),\n",
    "                   pd.Series([4, 5, 6], index=['d', 'e', 'g'])])\n",
    "s2 = CustomSeries([1, 2, 3])\n",
    "s3 = CustomSeries([{\"k1\": \"v1\"}, {\"k2\": 'v2'}])\n",
    "s4 = CustomSeries([imread('/Users/iwitaly/Downloads/1.jpg')])\n",
    "\n",
    "\n",
    "df = CustomDataFrame({\n",
    "    'first': s1,\n",
    "    'second': s2,\n",
    "    'third': s3,\n",
    "    'fouth': s4\n",
    "})\n",
    "\n",
    "# df = CustomDataFrame([\n",
    "#        s1, s2, s3, s4\n",
    "# ])\n",
    "# s = df['third']\n",
    "\n",
    "print(\n",
    "    df['second'].data_type\n",
    ")"
   ]
  },
  {
   "cell_type": "code",
   "execution_count": 351,
   "metadata": {},
   "outputs": [
    {
     "data": {
      "text/plain": [
       "False"
      ]
     },
     "execution_count": 351,
     "metadata": {},
     "output_type": "execute_result"
    }
   ],
   "source": [
    "isinstance(1, np.int64)"
   ]
  },
  {
   "cell_type": "code",
   "execution_count": null,
   "metadata": {
    "collapsed": true
   },
   "outputs": [],
   "source": []
  },
  {
   "cell_type": "code",
   "execution_count": null,
   "metadata": {
    "collapsed": true
   },
   "outputs": [],
   "source": []
  },
  {
   "cell_type": "code",
   "execution_count": null,
   "metadata": {
    "collapsed": true
   },
   "outputs": [],
   "source": []
  }
 ],
 "metadata": {
  "kernelspec": {
   "display_name": "Python 3",
   "language": "python",
   "name": "python3"
  },
  "language_info": {
   "codemirror_mode": {
    "name": "ipython",
    "version": 3
   },
   "file_extension": ".py",
   "mimetype": "text/x-python",
   "name": "python",
   "nbconvert_exporter": "python",
   "pygments_lexer": "ipython3",
   "version": "3.6.1"
  }
 },
 "nbformat": 4,
 "nbformat_minor": 2
}
