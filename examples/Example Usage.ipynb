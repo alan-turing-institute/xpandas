{
 "cells": [
  {
   "cell_type": "markdown",
   "metadata": {},
   "source": [
    "# Description"
   ]
  },
  {
   "cell_type": "markdown",
   "metadata": {},
   "source": [
    "This example shows basic usage of **transformer** project."
   ]
  },
  {
   "cell_type": "markdown",
   "metadata": {},
   "source": [
    "## Read data"
   ]
  },
  {
   "cell_type": "code",
   "execution_count": 5,
   "metadata": {},
   "outputs": [
    {
     "name": "stderr",
     "output_type": "stream",
     "text": [
      "/Users/iwitaly/anaconda/lib/python3.6/site-packages/statsmodels/compat/pandas.py:56: FutureWarning: The pandas.core.datetools module is deprecated and will be removed in a future version. Please use the pandas.tseries module instead.\n",
      "  from pandas.core import datetools\n"
     ]
    }
   ],
   "source": [
    "from io import BytesIO\n",
    "from zipfile import ZipFile\n",
    "from urllib.request import urlopen\n",
    "\n",
    "import numpy as np\n",
    "import pandas as pd\n",
    "import os, sys\n",
    "import requests\n",
    "\n",
    "sys.path.insert(0, '..')\n",
    "\n",
    "from XPandas.data_container import *\n",
    "from XPandas.transformers import TimeSeriesTransformer, TimeSeriesWindowTransformer"
   ]
  },
  {
   "cell_type": "markdown",
   "metadata": {},
   "source": [
    "Usage example will be shown based on open source time series [data set](http://timeseriesclassification.com/Downloads/FordA.zip).\n",
    "\n",
    "First think one need to do is read data. We use `urlopen` function from built in urllib Python package to download data set in memory. We also shrink the length of each series."
   ]
  },
  {
   "cell_type": "code",
   "execution_count": 6,
   "metadata": {
    "collapsed": true
   },
   "outputs": [],
   "source": [
    "url = \"http://timeseriesclassification.com/Downloads/FordA.zip\"\n",
    "series_offset = 505"
   ]
  },
  {
   "cell_type": "code",
   "execution_count": 7,
   "metadata": {
    "collapsed": true
   },
   "outputs": [],
   "source": [
    "url = urlopen(url)\n",
    "zipfile = ZipFile(BytesIO(url.read()))\n",
    "lines = zipfile.open('FordA/FordA.csv').readlines()\n",
    "lines = [l.decode('utf-8') for l in lines]\n",
    "lines = lines[series_offset:]"
   ]
  },
  {
   "cell_type": "markdown",
   "metadata": {},
   "source": [
    "**lines** now is a list of strings with of timeseries in comma separeted format\n",
    "\n",
    "505 is a offset for the beginning of seriases"
   ]
  },
  {
   "cell_type": "code",
   "execution_count": 8,
   "metadata": {
    "collapsed": true
   },
   "outputs": [],
   "source": [
    "lines = [list(map(float, l.split(','))) for l in lines]"
   ]
  },
  {
   "cell_type": "code",
   "execution_count": 9,
   "metadata": {},
   "outputs": [
    {
     "data": {
      "text/plain": [
       "[1.1871,\n",
       " 0.4096,\n",
       " -0.43154,\n",
       " -1.231,\n",
       " -1.9055,\n",
       " -2.3824,\n",
       " -2.588,\n",
       " -2.5018,\n",
       " -2.1353,\n",
       " -1.574]"
      ]
     },
     "execution_count": 9,
     "metadata": {},
     "output_type": "execute_result"
    }
   ],
   "source": [
    "lines[0][:10]"
   ]
  },
  {
   "cell_type": "markdown",
   "metadata": {},
   "source": [
    "Now **lines** is a list of list of floats. Let's convert each embedded list into more convince pandas.Series object."
   ]
  },
  {
   "cell_type": "code",
   "execution_count": 10,
   "metadata": {},
   "outputs": [],
   "source": [
    "lines = [pd.Series(l) for l in lines]"
   ]
  },
  {
   "cell_type": "code",
   "execution_count": 11,
   "metadata": {},
   "outputs": [
    {
     "data": {
      "text/plain": [
       "0    1.18710\n",
       "1    0.40960\n",
       "2   -0.43154\n",
       "3   -1.23100\n",
       "4   -1.90550\n",
       "5   -2.38240\n",
       "6   -2.58800\n",
       "7   -2.50180\n",
       "8   -2.13530\n",
       "9   -1.57400\n",
       "dtype: float64"
      ]
     },
     "execution_count": 11,
     "metadata": {},
     "output_type": "execute_result"
    }
   ],
   "source": [
    "lines[0][:10]"
   ]
  },
  {
   "cell_type": "markdown",
   "metadata": {},
   "source": [
    "## Main usage"
   ]
  },
  {
   "cell_type": "markdown",
   "metadata": {},
   "source": [
    "Now we have a list of pandas.Series objects. Next thing we do is encapsulate list into another series called XSeries. Thus list of lists of float became into XSeries of pandas.Series objects.\n",
    "\n",
    "We have a global indes for MuiltiSeries and each pandas.Series has it's own index."
   ]
  },
  {
   "cell_type": "code",
   "execution_count": 12,
   "metadata": {},
   "outputs": [],
   "source": [
    "X = XSeries(lines)"
   ]
  },
  {
   "cell_type": "code",
   "execution_count": 13,
   "metadata": {},
   "outputs": [
    {
     "data": {
      "text/plain": [
       "0    0      1.187100\n",
       "1      0.409600\n",
       "2     -0.43154...\n",
       "1    0      0.094261\n",
       "1      0.310310\n",
       "2      0.53060...\n",
       "2    0     -1.157000\n",
       "1     -1.592600\n",
       "2     -1.50960...\n",
       "3    0      0.356960\n",
       "1      0.300850\n",
       "2      0.24314...\n",
       "4    0      0.307980\n",
       "1      0.370350\n",
       "2      0.26015...\n",
       "dtype: object\n",
       "data_type: <class 'pandas.core.series.Series'>"
      ]
     },
     "execution_count": 13,
     "metadata": {},
     "output_type": "execute_result"
    }
   ],
   "source": [
    "X.head()"
   ]
  },
  {
   "cell_type": "markdown",
   "metadata": {},
   "source": [
    "Output might seems a bit messy. It prints XSeries of pandas.Series and **data_type** property. This property shown the type of underlying data into XSeries.\n",
    "\n",
    "**X** now is a XSeries of pd.Serieses. It means, that every element of this XSeries is pd.Series.\n",
    "\n",
    "**X** supports all methods as basic pd.Series does."
   ]
  },
  {
   "cell_type": "markdown",
   "metadata": {},
   "source": [
    "## Transformers"
   ]
  },
  {
   "cell_type": "markdown",
   "metadata": {},
   "source": [
    "One of the common task in data science that was a motivation for this project is to extract features from some complex objects (for example series) and than do a fancy machine learning.\n",
    "\n",
    "Having a XSeries of pandas.Series one would like to extract features from each Series or do kind of feature extraction. That's where **Transformers** take place. Let's try on example."
   ]
  },
  {
   "cell_type": "markdown",
   "metadata": {},
   "source": [
    "The first simple example of transformer is *TimeSeriesWindowTransformer*. This transformer calculates moving average with given window size."
   ]
  },
  {
   "cell_type": "code",
   "execution_count": 14,
   "metadata": {
    "collapsed": true
   },
   "outputs": [],
   "source": [
    "tr = TimeSeriesWindowTransformer(windows_size=5)\n",
    "tr.fit(X)\n",
    "transformed_series = tr.transform(X)"
   ]
  },
  {
   "cell_type": "code",
   "execution_count": 15,
   "metadata": {},
   "outputs": [
    {
     "data": {
      "text/plain": [
       "0    4     -0.394268\n",
       "5     -1.108168\n",
       "6     -1.70768...\n",
       "1    4      0.509686\n",
       "5      0.680500\n",
       "6      0.80574...\n",
       "2    4     -1.098344\n",
       "5     -0.755320\n",
       "6     -0.21608...\n",
       "3    4      0.234223\n",
       "5      0.165730\n",
       "6      0.09269...\n",
       "4    4      0.202701\n",
       "5      0.154336\n",
       "6      0.14082...\n",
       "dtype: object\n",
       "data_type: <class 'pandas.core.series.Series'>"
      ]
     },
     "execution_count": 15,
     "metadata": {},
     "output_type": "execute_result"
    }
   ],
   "source": [
    "transformed_series.head()"
   ]
  },
  {
   "cell_type": "markdown",
   "metadata": {},
   "source": [
    "Of course, with a windows_size = 5 first 4 elements are NaN."
   ]
  },
  {
   "cell_type": "code",
   "execution_count": 16,
   "metadata": {},
   "outputs": [
    {
     "data": {
      "text/plain": [
       "4    -0.394268\n",
       "5    -1.108168\n",
       "6    -1.707688\n",
       "7    -2.121740\n",
       "8    -2.302600\n",
       "9    -2.236300\n",
       "10   -1.942152\n",
       "11   -1.469980\n",
       "12   -0.891442\n",
       "13   -0.287676\n",
       "dtype: float64"
      ]
     },
     "execution_count": 16,
     "metadata": {},
     "output_type": "execute_result"
    }
   ],
   "source": [
    "transformed_series[0].head(10)"
   ]
  },
  {
   "cell_type": "markdown",
   "metadata": {},
   "source": [
    "Let's try another transformer, probably the most common. It extract several quantitative features from each pandas.Series like mean, std, quantiles. You can pass you own list of features. As a result we have an object **XDataFrame**."
   ]
  },
  {
   "cell_type": "code",
   "execution_count": 17,
   "metadata": {
    "collapsed": true
   },
   "outputs": [],
   "source": [
    "tr = TimeSeriesTransformer()\n",
    "tr.fit(X)\n",
    "transformed_series = tr.transform(X)"
   ]
  },
  {
   "cell_type": "code",
   "execution_count": 18,
   "metadata": {},
   "outputs": [
    {
     "data": {
      "text/plain": [
       "XPandas.data_container.data_container.XDataFrame"
      ]
     },
     "execution_count": 18,
     "metadata": {},
     "output_type": "execute_result"
    }
   ],
   "source": [
    "type(transformed_series)"
   ]
  },
  {
   "cell_type": "code",
   "execution_count": 19,
   "metadata": {},
   "outputs": [
    {
     "data": {
      "text/html": [
       "<div>\n",
       "<style>\n",
       "    .dataframe thead tr:only-child th {\n",
       "        text-align: right;\n",
       "    }\n",
       "\n",
       "    .dataframe thead th {\n",
       "        text-align: left;\n",
       "    }\n",
       "\n",
       "    .dataframe tbody tr th {\n",
       "        vertical-align: top;\n",
       "    }\n",
       "</style>\n",
       "<table border=\"1\" class=\"dataframe\">\n",
       "  <thead>\n",
       "    <tr style=\"text-align: right;\">\n",
       "      <th></th>\n",
       "      <th>TimeSeriesTransformer_max</th>\n",
       "      <th>TimeSeriesTransformer_mean</th>\n",
       "      <th>TimeSeriesTransformer_median</th>\n",
       "      <th>TimeSeriesTransformer_min</th>\n",
       "      <th>TimeSeriesTransformer_quantile_25</th>\n",
       "      <th>TimeSeriesTransformer_quantile_75</th>\n",
       "      <th>TimeSeriesTransformer_quantile_90</th>\n",
       "      <th>TimeSeriesTransformer_quantile_95</th>\n",
       "      <th>TimeSeriesTransformer_std</th>\n",
       "    </tr>\n",
       "  </thead>\n",
       "  <tbody>\n",
       "    <tr>\n",
       "      <th>0</th>\n",
       "      <td>2.5263</td>\n",
       "      <td>0.001995</td>\n",
       "      <td>0.011186</td>\n",
       "      <td>-2.7875</td>\n",
       "      <td>-0.73635</td>\n",
       "      <td>0.74192</td>\n",
       "      <td>1.2534</td>\n",
       "      <td>1.5463</td>\n",
       "      <td>0.999998</td>\n",
       "    </tr>\n",
       "    <tr>\n",
       "      <th>1</th>\n",
       "      <td>2.6291</td>\n",
       "      <td>0.001997</td>\n",
       "      <td>-0.024726</td>\n",
       "      <td>-2.4357</td>\n",
       "      <td>-0.67411</td>\n",
       "      <td>0.65808</td>\n",
       "      <td>1.3478</td>\n",
       "      <td>1.6595</td>\n",
       "      <td>0.999997</td>\n",
       "    </tr>\n",
       "    <tr>\n",
       "      <th>2</th>\n",
       "      <td>2.6072</td>\n",
       "      <td>-0.001996</td>\n",
       "      <td>0.060685</td>\n",
       "      <td>-3.0132</td>\n",
       "      <td>-0.67588</td>\n",
       "      <td>0.70123</td>\n",
       "      <td>1.2591</td>\n",
       "      <td>1.5184</td>\n",
       "      <td>1.000000</td>\n",
       "    </tr>\n",
       "    <tr>\n",
       "      <th>3</th>\n",
       "      <td>2.6431</td>\n",
       "      <td>-0.001997</td>\n",
       "      <td>-0.022668</td>\n",
       "      <td>-2.7275</td>\n",
       "      <td>-0.66265</td>\n",
       "      <td>0.56858</td>\n",
       "      <td>1.4102</td>\n",
       "      <td>1.8094</td>\n",
       "      <td>0.999997</td>\n",
       "    </tr>\n",
       "    <tr>\n",
       "      <th>4</th>\n",
       "      <td>3.2398</td>\n",
       "      <td>-0.001995</td>\n",
       "      <td>-0.048518</td>\n",
       "      <td>-3.0085</td>\n",
       "      <td>-0.70775</td>\n",
       "      <td>0.64898</td>\n",
       "      <td>1.2540</td>\n",
       "      <td>1.6699</td>\n",
       "      <td>1.000001</td>\n",
       "    </tr>\n",
       "  </tbody>\n",
       "</table>\n",
       "</div>"
      ],
      "text/plain": [
       "   TimeSeriesTransformer_max  TimeSeriesTransformer_mean  \\\n",
       "0                     2.5263                    0.001995   \n",
       "1                     2.6291                    0.001997   \n",
       "2                     2.6072                   -0.001996   \n",
       "3                     2.6431                   -0.001997   \n",
       "4                     3.2398                   -0.001995   \n",
       "\n",
       "   TimeSeriesTransformer_median  TimeSeriesTransformer_min  \\\n",
       "0                      0.011186                    -2.7875   \n",
       "1                     -0.024726                    -2.4357   \n",
       "2                      0.060685                    -3.0132   \n",
       "3                     -0.022668                    -2.7275   \n",
       "4                     -0.048518                    -3.0085   \n",
       "\n",
       "   TimeSeriesTransformer_quantile_25  TimeSeriesTransformer_quantile_75  \\\n",
       "0                           -0.73635                            0.74192   \n",
       "1                           -0.67411                            0.65808   \n",
       "2                           -0.67588                            0.70123   \n",
       "3                           -0.66265                            0.56858   \n",
       "4                           -0.70775                            0.64898   \n",
       "\n",
       "   TimeSeriesTransformer_quantile_90  TimeSeriesTransformer_quantile_95  \\\n",
       "0                             1.2534                             1.5463   \n",
       "1                             1.3478                             1.6595   \n",
       "2                             1.2591                             1.5184   \n",
       "3                             1.4102                             1.8094   \n",
       "4                             1.2540                             1.6699   \n",
       "\n",
       "   TimeSeriesTransformer_std  \n",
       "0                   0.999998  \n",
       "1                   0.999997  \n",
       "2                   1.000000  \n",
       "3                   0.999997  \n",
       "4                   1.000001  "
      ]
     },
     "execution_count": 19,
     "metadata": {},
     "output_type": "execute_result"
    }
   ],
   "source": [
    "transformed_series.head()"
   ]
  },
  {
   "cell_type": "markdown",
   "metadata": {},
   "source": [
    "Also one can try TSFresh transformer"
   ]
  },
  {
   "cell_type": "code",
   "execution_count": 21,
   "metadata": {},
   "outputs": [],
   "source": [
    "from XPandas.transformers import TsFreshSeriesTransformer"
   ]
  },
  {
   "cell_type": "code",
   "execution_count": 22,
   "metadata": {
    "collapsed": true
   },
   "outputs": [],
   "source": [
    "tr = TsFreshSeriesTransformer()\n",
    "tr.fit(X.head())\n",
    "transformed_series = tr.transform(X.head())"
   ]
  },
  {
   "cell_type": "code",
   "execution_count": 23,
   "metadata": {},
   "outputs": [
    {
     "data": {
      "text/html": [
       "<div>\n",
       "<style>\n",
       "    .dataframe thead tr:only-child th {\n",
       "        text-align: right;\n",
       "    }\n",
       "\n",
       "    .dataframe thead th {\n",
       "        text-align: left;\n",
       "    }\n",
       "\n",
       "    .dataframe tbody tr th {\n",
       "        vertical-align: top;\n",
       "    }\n",
       "</style>\n",
       "<table border=\"1\" class=\"dataframe\">\n",
       "  <thead>\n",
       "    <tr style=\"text-align: right;\">\n",
       "      <th></th>\n",
       "      <th>None__abs_energy</th>\n",
       "      <th>None__absolute_sum_of_changes</th>\n",
       "      <th>None__agg_autocorrelation__f_agg_\"mean\"</th>\n",
       "      <th>None__agg_autocorrelation__f_agg_\"median\"</th>\n",
       "      <th>None__agg_autocorrelation__f_agg_\"var\"</th>\n",
       "      <th>None__agg_linear_trend__f_agg_\"max\"__chunk_len_10__attr_\"intercept\"</th>\n",
       "      <th>None__agg_linear_trend__f_agg_\"max\"__chunk_len_10__attr_\"rvalue\"</th>\n",
       "      <th>None__agg_linear_trend__f_agg_\"max\"__chunk_len_10__attr_\"slope\"</th>\n",
       "      <th>None__agg_linear_trend__f_agg_\"max\"__chunk_len_10__attr_\"stderr\"</th>\n",
       "      <th>None__agg_linear_trend__f_agg_\"max\"__chunk_len_50__attr_\"intercept\"</th>\n",
       "      <th>...</th>\n",
       "      <th>None__time_reversal_asymmetry_statistic__lag_1</th>\n",
       "      <th>None__time_reversal_asymmetry_statistic__lag_2</th>\n",
       "      <th>None__time_reversal_asymmetry_statistic__lag_3</th>\n",
       "      <th>None__value_count__value_-inf</th>\n",
       "      <th>None__value_count__value_0</th>\n",
       "      <th>None__value_count__value_1</th>\n",
       "      <th>None__value_count__value_inf</th>\n",
       "      <th>None__value_count__value_nan</th>\n",
       "      <th>None__variance</th>\n",
       "      <th>None__variance_larger_than_standard_deviation</th>\n",
       "    </tr>\n",
       "  </thead>\n",
       "  <tbody>\n",
       "    <tr>\n",
       "      <th>0</th>\n",
       "      <td>500.000126</td>\n",
       "      <td>134.513280</td>\n",
       "      <td>-0.012049</td>\n",
       "      <td>0.020975</td>\n",
       "      <td>0.129473</td>\n",
       "      <td>0.949115</td>\n",
       "      <td>-0.027843</td>\n",
       "      <td>-0.001282</td>\n",
       "      <td>0.006577</td>\n",
       "      <td>1.719095</td>\n",
       "      <td>...</td>\n",
       "      <td>-0.007374</td>\n",
       "      <td>-0.012282</td>\n",
       "      <td>-0.015967</td>\n",
       "      <td>0</td>\n",
       "      <td>0</td>\n",
       "      <td>1</td>\n",
       "      <td>0</td>\n",
       "      <td>0</td>\n",
       "      <td>0.998000</td>\n",
       "      <td>False</td>\n",
       "    </tr>\n",
       "    <tr>\n",
       "      <th>1</th>\n",
       "      <td>499.999290</td>\n",
       "      <td>114.289925</td>\n",
       "      <td>0.003075</td>\n",
       "      <td>-0.001312</td>\n",
       "      <td>0.227381</td>\n",
       "      <td>0.810495</td>\n",
       "      <td>0.014560</td>\n",
       "      <td>0.000742</td>\n",
       "      <td>0.007283</td>\n",
       "      <td>1.736565</td>\n",
       "      <td>...</td>\n",
       "      <td>0.000400</td>\n",
       "      <td>-0.002280</td>\n",
       "      <td>-0.011068</td>\n",
       "      <td>0</td>\n",
       "      <td>0</td>\n",
       "      <td>1</td>\n",
       "      <td>0</td>\n",
       "      <td>0</td>\n",
       "      <td>0.997999</td>\n",
       "      <td>False</td>\n",
       "    </tr>\n",
       "    <tr>\n",
       "      <th>2</th>\n",
       "      <td>500.001514</td>\n",
       "      <td>164.089622</td>\n",
       "      <td>-0.013172</td>\n",
       "      <td>-0.005309</td>\n",
       "      <td>0.066725</td>\n",
       "      <td>1.065365</td>\n",
       "      <td>-0.088829</td>\n",
       "      <td>-0.004117</td>\n",
       "      <td>0.006595</td>\n",
       "      <td>2.183568</td>\n",
       "      <td>...</td>\n",
       "      <td>0.004354</td>\n",
       "      <td>0.003302</td>\n",
       "      <td>-0.017264</td>\n",
       "      <td>0</td>\n",
       "      <td>0</td>\n",
       "      <td>0</td>\n",
       "      <td>0</td>\n",
       "      <td>0</td>\n",
       "      <td>0.998003</td>\n",
       "      <td>False</td>\n",
       "    </tr>\n",
       "    <tr>\n",
       "      <th>3</th>\n",
       "      <td>499.999445</td>\n",
       "      <td>103.510040</td>\n",
       "      <td>-0.005639</td>\n",
       "      <td>-0.022600</td>\n",
       "      <td>0.281820</td>\n",
       "      <td>1.141145</td>\n",
       "      <td>-0.214194</td>\n",
       "      <td>-0.012728</td>\n",
       "      <td>0.008292</td>\n",
       "      <td>2.641368</td>\n",
       "      <td>...</td>\n",
       "      <td>-0.002460</td>\n",
       "      <td>0.000917</td>\n",
       "      <td>0.012002</td>\n",
       "      <td>0</td>\n",
       "      <td>0</td>\n",
       "      <td>0</td>\n",
       "      <td>0</td>\n",
       "      <td>0</td>\n",
       "      <td>0.997999</td>\n",
       "      <td>False</td>\n",
       "    </tr>\n",
       "    <tr>\n",
       "      <th>4</th>\n",
       "      <td>500.003011</td>\n",
       "      <td>154.299542</td>\n",
       "      <td>0.001552</td>\n",
       "      <td>0.006698</td>\n",
       "      <td>0.060942</td>\n",
       "      <td>0.842727</td>\n",
       "      <td>0.119359</td>\n",
       "      <td>0.007096</td>\n",
       "      <td>0.008432</td>\n",
       "      <td>2.007018</td>\n",
       "      <td>...</td>\n",
       "      <td>0.000949</td>\n",
       "      <td>0.005811</td>\n",
       "      <td>0.019023</td>\n",
       "      <td>0</td>\n",
       "      <td>0</td>\n",
       "      <td>0</td>\n",
       "      <td>0</td>\n",
       "      <td>0</td>\n",
       "      <td>0.998006</td>\n",
       "      <td>False</td>\n",
       "    </tr>\n",
       "  </tbody>\n",
       "</table>\n",
       "<p>5 rows × 788 columns</p>\n",
       "</div>"
      ],
      "text/plain": [
       "   None__abs_energy  None__absolute_sum_of_changes  \\\n",
       "0        500.000126                     134.513280   \n",
       "1        499.999290                     114.289925   \n",
       "2        500.001514                     164.089622   \n",
       "3        499.999445                     103.510040   \n",
       "4        500.003011                     154.299542   \n",
       "\n",
       "   None__agg_autocorrelation__f_agg_\"mean\"  \\\n",
       "0                                -0.012049   \n",
       "1                                 0.003075   \n",
       "2                                -0.013172   \n",
       "3                                -0.005639   \n",
       "4                                 0.001552   \n",
       "\n",
       "   None__agg_autocorrelation__f_agg_\"median\"  \\\n",
       "0                                   0.020975   \n",
       "1                                  -0.001312   \n",
       "2                                  -0.005309   \n",
       "3                                  -0.022600   \n",
       "4                                   0.006698   \n",
       "\n",
       "   None__agg_autocorrelation__f_agg_\"var\"  \\\n",
       "0                                0.129473   \n",
       "1                                0.227381   \n",
       "2                                0.066725   \n",
       "3                                0.281820   \n",
       "4                                0.060942   \n",
       "\n",
       "   None__agg_linear_trend__f_agg_\"max\"__chunk_len_10__attr_\"intercept\"  \\\n",
       "0                                           0.949115                     \n",
       "1                                           0.810495                     \n",
       "2                                           1.065365                     \n",
       "3                                           1.141145                     \n",
       "4                                           0.842727                     \n",
       "\n",
       "   None__agg_linear_trend__f_agg_\"max\"__chunk_len_10__attr_\"rvalue\"  \\\n",
       "0                                          -0.027843                  \n",
       "1                                           0.014560                  \n",
       "2                                          -0.088829                  \n",
       "3                                          -0.214194                  \n",
       "4                                           0.119359                  \n",
       "\n",
       "   None__agg_linear_trend__f_agg_\"max\"__chunk_len_10__attr_\"slope\"  \\\n",
       "0                                          -0.001282                 \n",
       "1                                           0.000742                 \n",
       "2                                          -0.004117                 \n",
       "3                                          -0.012728                 \n",
       "4                                           0.007096                 \n",
       "\n",
       "   None__agg_linear_trend__f_agg_\"max\"__chunk_len_10__attr_\"stderr\"  \\\n",
       "0                                           0.006577                  \n",
       "1                                           0.007283                  \n",
       "2                                           0.006595                  \n",
       "3                                           0.008292                  \n",
       "4                                           0.008432                  \n",
       "\n",
       "   None__agg_linear_trend__f_agg_\"max\"__chunk_len_50__attr_\"intercept\"  \\\n",
       "0                                           1.719095                     \n",
       "1                                           1.736565                     \n",
       "2                                           2.183568                     \n",
       "3                                           2.641368                     \n",
       "4                                           2.007018                     \n",
       "\n",
       "                       ...                        \\\n",
       "0                      ...                         \n",
       "1                      ...                         \n",
       "2                      ...                         \n",
       "3                      ...                         \n",
       "4                      ...                         \n",
       "\n",
       "   None__time_reversal_asymmetry_statistic__lag_1  \\\n",
       "0                                       -0.007374   \n",
       "1                                        0.000400   \n",
       "2                                        0.004354   \n",
       "3                                       -0.002460   \n",
       "4                                        0.000949   \n",
       "\n",
       "   None__time_reversal_asymmetry_statistic__lag_2  \\\n",
       "0                                       -0.012282   \n",
       "1                                       -0.002280   \n",
       "2                                        0.003302   \n",
       "3                                        0.000917   \n",
       "4                                        0.005811   \n",
       "\n",
       "   None__time_reversal_asymmetry_statistic__lag_3  \\\n",
       "0                                       -0.015967   \n",
       "1                                       -0.011068   \n",
       "2                                       -0.017264   \n",
       "3                                        0.012002   \n",
       "4                                        0.019023   \n",
       "\n",
       "   None__value_count__value_-inf  None__value_count__value_0  \\\n",
       "0                              0                           0   \n",
       "1                              0                           0   \n",
       "2                              0                           0   \n",
       "3                              0                           0   \n",
       "4                              0                           0   \n",
       "\n",
       "   None__value_count__value_1  None__value_count__value_inf  \\\n",
       "0                           1                             0   \n",
       "1                           1                             0   \n",
       "2                           0                             0   \n",
       "3                           0                             0   \n",
       "4                           0                             0   \n",
       "\n",
       "   None__value_count__value_nan  None__variance  \\\n",
       "0                             0        0.998000   \n",
       "1                             0        0.997999   \n",
       "2                             0        0.998003   \n",
       "3                             0        0.997999   \n",
       "4                             0        0.998006   \n",
       "\n",
       "   None__variance_larger_than_standard_deviation  \n",
       "0                                          False  \n",
       "1                                          False  \n",
       "2                                          False  \n",
       "3                                          False  \n",
       "4                                          False  \n",
       "\n",
       "[5 rows x 788 columns]"
      ]
     },
     "execution_count": 23,
     "metadata": {},
     "output_type": "execute_result"
    }
   ],
   "source": [
    "transformed_series"
   ]
  },
  {
   "cell_type": "markdown",
   "metadata": {},
   "source": [
    "One may ask a question \"Well, it's a nice transformer, but can I do a pipeline like useing scikit-learn [Pipeline](http://scikit-learn.org/stable/modules/generated/sklearn.pipeline.Pipeline.html)\".\n",
    "\n",
    "Sure! Let's see on example. We try to combine TimeSeriesTransformer and TimeSeriesWindowTransformer into one pipeline. That's where **PipeLineChain** comes for help."
   ]
  },
  {
   "cell_type": "code",
   "execution_count": 25,
   "metadata": {},
   "outputs": [],
   "source": [
    "from XPandas.transformers import PipeLineChain"
   ]
  },
  {
   "cell_type": "code",
   "execution_count": 26,
   "metadata": {},
   "outputs": [
    {
     "data": {
      "text/plain": [
       "PipeLineChain(steps=[('moving average trans', TimeSeriesWindowTransformer(windows_size=5)), ('extract features', TimeSeriesTransformer(features=None))])"
      ]
     },
     "execution_count": 26,
     "metadata": {},
     "output_type": "execute_result"
    }
   ],
   "source": [
    "chain = PipeLineChain([\n",
    "    ('moving average trans', TimeSeriesWindowTransformer(windows_size=5)),\n",
    "    ('extract features', TimeSeriesTransformer())\n",
    "])\n",
    "chain.fit(X)"
   ]
  },
  {
   "cell_type": "code",
   "execution_count": 27,
   "metadata": {},
   "outputs": [
    {
     "data": {
      "text/plain": [
       "<bound method Pipeline.get_params of PipeLineChain(steps=[('moving average trans', TimeSeriesWindowTransformer(windows_size=5)), ('extract features', TimeSeriesTransformer(features=None))])>"
      ]
     },
     "execution_count": 27,
     "metadata": {},
     "output_type": "execute_result"
    }
   ],
   "source": [
    "chain.get_params"
   ]
  },
  {
   "cell_type": "code",
   "execution_count": 28,
   "metadata": {
    "collapsed": true
   },
   "outputs": [],
   "source": [
    "transformed_X = chain.transform(X)"
   ]
  },
  {
   "cell_type": "code",
   "execution_count": 29,
   "metadata": {},
   "outputs": [
    {
     "data": {
      "text/html": [
       "<div>\n",
       "<style>\n",
       "    .dataframe thead tr:only-child th {\n",
       "        text-align: right;\n",
       "    }\n",
       "\n",
       "    .dataframe thead th {\n",
       "        text-align: left;\n",
       "    }\n",
       "\n",
       "    .dataframe tbody tr th {\n",
       "        vertical-align: top;\n",
       "    }\n",
       "</style>\n",
       "<table border=\"1\" class=\"dataframe\">\n",
       "  <thead>\n",
       "    <tr style=\"text-align: right;\">\n",
       "      <th></th>\n",
       "      <th>TimeSeriesTransformer_max</th>\n",
       "      <th>TimeSeriesTransformer_mean</th>\n",
       "      <th>TimeSeriesTransformer_median</th>\n",
       "      <th>TimeSeriesTransformer_min</th>\n",
       "      <th>TimeSeriesTransformer_quantile_25</th>\n",
       "      <th>TimeSeriesTransformer_quantile_75</th>\n",
       "      <th>TimeSeriesTransformer_quantile_90</th>\n",
       "      <th>TimeSeriesTransformer_quantile_95</th>\n",
       "      <th>TimeSeriesTransformer_std</th>\n",
       "    </tr>\n",
       "  </thead>\n",
       "  <tbody>\n",
       "    <tr>\n",
       "      <th>0</th>\n",
       "      <td>2.16144</td>\n",
       "      <td>0.002078</td>\n",
       "      <td>0.017664</td>\n",
       "      <td>-2.48536</td>\n",
       "      <td>-0.633164</td>\n",
       "      <td>0.658680</td>\n",
       "      <td>1.156081</td>\n",
       "      <td>1.403896</td>\n",
       "      <td>0.896272</td>\n",
       "    </tr>\n",
       "    <tr>\n",
       "      <th>1</th>\n",
       "      <td>2.39636</td>\n",
       "      <td>-0.002229</td>\n",
       "      <td>-0.030936</td>\n",
       "      <td>-2.27418</td>\n",
       "      <td>-0.649324</td>\n",
       "      <td>0.596704</td>\n",
       "      <td>1.193813</td>\n",
       "      <td>1.580243</td>\n",
       "      <td>0.924516</td>\n",
       "    </tr>\n",
       "    <tr>\n",
       "      <th>2</th>\n",
       "      <td>2.32512</td>\n",
       "      <td>0.005656</td>\n",
       "      <td>0.057383</td>\n",
       "      <td>-2.43876</td>\n",
       "      <td>-0.567000</td>\n",
       "      <td>0.615622</td>\n",
       "      <td>1.025741</td>\n",
       "      <td>1.343563</td>\n",
       "      <td>0.855456</td>\n",
       "    </tr>\n",
       "    <tr>\n",
       "      <th>3</th>\n",
       "      <td>2.44430</td>\n",
       "      <td>0.000632</td>\n",
       "      <td>-0.006893</td>\n",
       "      <td>-2.51592</td>\n",
       "      <td>-0.628024</td>\n",
       "      <td>0.544161</td>\n",
       "      <td>1.332912</td>\n",
       "      <td>1.674656</td>\n",
       "      <td>0.938187</td>\n",
       "    </tr>\n",
       "    <tr>\n",
       "      <th>4</th>\n",
       "      <td>2.64094</td>\n",
       "      <td>-0.001295</td>\n",
       "      <td>-0.036442</td>\n",
       "      <td>-2.47826</td>\n",
       "      <td>-0.587780</td>\n",
       "      <td>0.594925</td>\n",
       "      <td>1.130192</td>\n",
       "      <td>1.429327</td>\n",
       "      <td>0.860424</td>\n",
       "    </tr>\n",
       "  </tbody>\n",
       "</table>\n",
       "</div>"
      ],
      "text/plain": [
       "   TimeSeriesTransformer_max  TimeSeriesTransformer_mean  \\\n",
       "0                    2.16144                    0.002078   \n",
       "1                    2.39636                   -0.002229   \n",
       "2                    2.32512                    0.005656   \n",
       "3                    2.44430                    0.000632   \n",
       "4                    2.64094                   -0.001295   \n",
       "\n",
       "   TimeSeriesTransformer_median  TimeSeriesTransformer_min  \\\n",
       "0                      0.017664                   -2.48536   \n",
       "1                     -0.030936                   -2.27418   \n",
       "2                      0.057383                   -2.43876   \n",
       "3                     -0.006893                   -2.51592   \n",
       "4                     -0.036442                   -2.47826   \n",
       "\n",
       "   TimeSeriesTransformer_quantile_25  TimeSeriesTransformer_quantile_75  \\\n",
       "0                          -0.633164                           0.658680   \n",
       "1                          -0.649324                           0.596704   \n",
       "2                          -0.567000                           0.615622   \n",
       "3                          -0.628024                           0.544161   \n",
       "4                          -0.587780                           0.594925   \n",
       "\n",
       "   TimeSeriesTransformer_quantile_90  TimeSeriesTransformer_quantile_95  \\\n",
       "0                           1.156081                           1.403896   \n",
       "1                           1.193813                           1.580243   \n",
       "2                           1.025741                           1.343563   \n",
       "3                           1.332912                           1.674656   \n",
       "4                           1.130192                           1.429327   \n",
       "\n",
       "   TimeSeriesTransformer_std  \n",
       "0                   0.896272  \n",
       "1                   0.924516  \n",
       "2                   0.855456  \n",
       "3                   0.938187  \n",
       "4                   0.860424  "
      ]
     },
     "execution_count": 29,
     "metadata": {},
     "output_type": "execute_result"
    }
   ],
   "source": [
    "transformed_X.head()"
   ]
  },
  {
   "cell_type": "markdown",
   "metadata": {
    "collapsed": true
   },
   "source": [
    "All right! Let's try to add scikit-learn transformer to the PipeLineChain. For example, let's do PCA on transformed_X."
   ]
  },
  {
   "cell_type": "code",
   "execution_count": 30,
   "metadata": {
    "collapsed": true
   },
   "outputs": [],
   "source": [
    "from sklearn.decomposition import PCA"
   ]
  },
  {
   "cell_type": "code",
   "execution_count": 31,
   "metadata": {},
   "outputs": [
    {
     "data": {
      "text/plain": [
       "PipeLineChain(steps=[('moving average trans', TimeSeriesWindowTransformer(windows_size=5)), ('extract features', TimeSeriesTransformer(features=None)), ('pca', PCA(copy=True, iterated_power='auto', n_components=5, random_state=None,\n",
       "  svd_solver='auto', tol=0.0, whiten=False))])"
      ]
     },
     "execution_count": 31,
     "metadata": {},
     "output_type": "execute_result"
    }
   ],
   "source": [
    "chain = PipeLineChain([\n",
    "    ('moving average trans', TimeSeriesWindowTransformer(windows_size=5)),\n",
    "    ('extract features', TimeSeriesTransformer()),\n",
    "    ('pca', PCA(n_components=5))\n",
    "])\n",
    "chain.fit(X)"
   ]
  },
  {
   "cell_type": "code",
   "execution_count": 32,
   "metadata": {
    "collapsed": true
   },
   "outputs": [],
   "source": [
    "transformed_X = chain.transform(X)"
   ]
  },
  {
   "cell_type": "code",
   "execution_count": 33,
   "metadata": {},
   "outputs": [
    {
     "data": {
      "text/html": [
       "<div>\n",
       "<style>\n",
       "    .dataframe thead tr:only-child th {\n",
       "        text-align: right;\n",
       "    }\n",
       "\n",
       "    .dataframe thead th {\n",
       "        text-align: left;\n",
       "    }\n",
       "\n",
       "    .dataframe tbody tr th {\n",
       "        vertical-align: top;\n",
       "    }\n",
       "</style>\n",
       "<table border=\"1\" class=\"dataframe\">\n",
       "  <thead>\n",
       "    <tr style=\"text-align: right;\">\n",
       "      <th></th>\n",
       "      <th>0</th>\n",
       "      <th>1</th>\n",
       "      <th>2</th>\n",
       "      <th>3</th>\n",
       "      <th>4</th>\n",
       "    </tr>\n",
       "  </thead>\n",
       "  <tbody>\n",
       "    <tr>\n",
       "      <th>0</th>\n",
       "      <td>-0.133152</td>\n",
       "      <td>-0.242552</td>\n",
       "      <td>0.097523</td>\n",
       "      <td>-0.004435</td>\n",
       "      <td>-0.009747</td>\n",
       "    </tr>\n",
       "    <tr>\n",
       "      <th>1</th>\n",
       "      <td>-0.125413</td>\n",
       "      <td>0.076021</td>\n",
       "      <td>-0.089267</td>\n",
       "      <td>0.010531</td>\n",
       "      <td>0.017437</td>\n",
       "    </tr>\n",
       "    <tr>\n",
       "      <th>2</th>\n",
       "      <td>-0.028607</td>\n",
       "      <td>-0.088828</td>\n",
       "      <td>0.205043</td>\n",
       "      <td>0.098009</td>\n",
       "      <td>0.032338</td>\n",
       "    </tr>\n",
       "    <tr>\n",
       "      <th>3</th>\n",
       "      <td>0.071478</td>\n",
       "      <td>-0.058813</td>\n",
       "      <td>-0.247669</td>\n",
       "      <td>-0.023550</td>\n",
       "      <td>-0.052968</td>\n",
       "    </tr>\n",
       "    <tr>\n",
       "      <th>4</th>\n",
       "      <td>0.200611</td>\n",
       "      <td>0.110884</td>\n",
       "      <td>0.064200</td>\n",
       "      <td>0.012187</td>\n",
       "      <td>-0.038497</td>\n",
       "    </tr>\n",
       "  </tbody>\n",
       "</table>\n",
       "</div>"
      ],
      "text/plain": [
       "          0         1         2         3         4\n",
       "0 -0.133152 -0.242552  0.097523 -0.004435 -0.009747\n",
       "1 -0.125413  0.076021 -0.089267  0.010531  0.017437\n",
       "2 -0.028607 -0.088828  0.205043  0.098009  0.032338\n",
       "3  0.071478 -0.058813 -0.247669 -0.023550 -0.052968\n",
       "4  0.200611  0.110884  0.064200  0.012187 -0.038497"
      ]
     },
     "execution_count": 33,
     "metadata": {},
     "output_type": "execute_result"
    }
   ],
   "source": [
    "transformed_X.head()"
   ]
  },
  {
   "cell_type": "markdown",
   "metadata": {},
   "source": [
    "Let's do even more interesting things! Let's try to add a scikit-learn estimator at the end of PipeLineChain!"
   ]
  },
  {
   "cell_type": "code",
   "execution_count": 34,
   "metadata": {
    "collapsed": true
   },
   "outputs": [],
   "source": [
    "from sklearn.linear_model import LogisticRegression\n",
    "from sklearn.model_selection import train_test_split\n",
    "from sklearn.metrics import accuracy_score"
   ]
  },
  {
   "cell_type": "code",
   "execution_count": 36,
   "metadata": {
    "collapsed": true
   },
   "outputs": [],
   "source": [
    "Y = np.random.binomial(1, 0.5, X.shape[0])"
   ]
  },
  {
   "cell_type": "code",
   "execution_count": 37,
   "metadata": {},
   "outputs": [],
   "source": [
    "X_train, X_test, y_train, y_test = train_test_split(X, Y)"
   ]
  },
  {
   "cell_type": "markdown",
   "metadata": {},
   "source": [
    "Be sure that types of X_train and X_test are XSeries."
   ]
  },
  {
   "cell_type": "code",
   "execution_count": 38,
   "metadata": {},
   "outputs": [
    {
     "name": "stdout",
     "output_type": "stream",
     "text": [
      "<class 'XPandas.data_container.data_container.XSeries'>\n",
      "<class 'XPandas.data_container.data_container.XSeries'>\n"
     ]
    }
   ],
   "source": [
    "print(type(X_train))\n",
    "print(type(X_test))"
   ]
  },
  {
   "cell_type": "code",
   "execution_count": 39,
   "metadata": {
    "collapsed": true
   },
   "outputs": [],
   "source": [
    "chain = PipeLineChain([\n",
    "    ('moving average trans', TimeSeriesWindowTransformer(windows_size=5)),\n",
    "    ('extract features', TimeSeriesTransformer()),\n",
    "    ('pca', PCA(n_components=5)),\n",
    "    ('logit_regression', LogisticRegression())\n",
    "    \n",
    "])\n",
    "chain = chain.fit(X_train, y_train)"
   ]
  },
  {
   "cell_type": "code",
   "execution_count": 40,
   "metadata": {
    "collapsed": true
   },
   "outputs": [],
   "source": [
    "prediction = chain.predict(X_test)"
   ]
  },
  {
   "cell_type": "code",
   "execution_count": 41,
   "metadata": {},
   "outputs": [
    {
     "data": {
      "text/plain": [
       "0.48822095857026809"
      ]
     },
     "execution_count": 41,
     "metadata": {},
     "output_type": "execute_result"
    }
   ],
   "source": [
    "accuracy_score(y_test, prediction)"
   ]
  },
  {
   "cell_type": "markdown",
   "metadata": {},
   "source": [
    "It works! \n",
    "\n",
    "One can also create inline CustomTransfomer like this"
   ]
  },
  {
   "cell_type": "code",
   "execution_count": 42,
   "metadata": {
    "collapsed": true
   },
   "outputs": [],
   "source": [
    "from XPandas.transformers import CustomTransformer"
   ]
  },
  {
   "cell_type": "code",
   "execution_count": 43,
   "metadata": {
    "collapsed": true
   },
   "outputs": [],
   "source": [
    "my_awesome_transfomer = CustomTransformer(transform_function=lambda x: x.std())"
   ]
  },
  {
   "cell_type": "code",
   "execution_count": 44,
   "metadata": {},
   "outputs": [
    {
     "data": {
      "text/plain": [
       "CustomTransformer(data_types=None, name='CustomTransformer',\n",
       "         transform_function=<function <lambda> at 0x115e8c950>)"
      ]
     },
     "execution_count": 44,
     "metadata": {},
     "output_type": "execute_result"
    }
   ],
   "source": [
    "my_awesome_transfomer.fit(X)"
   ]
  },
  {
   "cell_type": "code",
   "execution_count": 45,
   "metadata": {},
   "outputs": [
    {
     "data": {
      "text/plain": [
       "0    0.999998\n",
       "1    0.999997\n",
       "2    1.000000\n",
       "3    0.999997\n",
       "4    1.000001\n",
       "dtype: float64\n",
       "data_type: <class 'numpy.float64'>"
      ]
     },
     "execution_count": 45,
     "metadata": {},
     "output_type": "execute_result"
    }
   ],
   "source": [
    "my_awesome_transfomer.transform(X).head()"
   ]
  },
  {
   "cell_type": "markdown",
   "metadata": {},
   "source": [
    "If you want to create your custom transformer with any complex logic, please take a look at internal implementation of transformers."
   ]
  },
  {
   "cell_type": "markdown",
   "metadata": {},
   "source": [
    "Now let's take a look at **XDataFrame** class."
   ]
  },
  {
   "cell_type": "markdown",
   "metadata": {},
   "source": [
    "## XDataFrame class"
   ]
  },
  {
   "cell_type": "markdown",
   "metadata": {},
   "source": [
    "**XDataFrame** is an abstract container based on pandas.DataFrame that can store **XSeries** objects.\n",
    "\n",
    "The main feature of **XDataFrame** is that you have columns of **XSeries** of any **data_type** with ANY objects. For example, one may has a data set Serieses, Images, Texts, plain Numbers, any custom objects. Imagine a 2d data container that stores it. That one would like to write a chain of transformers to create a simple 2d matrix with number ready-to-sklearn predictor.\n",
    "\n",
    "Let's see an example with that. First, let's create a **XDataFrame**.\n",
    "\n",
    "Let's **Y** will be a labels for each row."
   ]
  },
  {
   "cell_type": "code",
   "execution_count": 46,
   "metadata": {
    "collapsed": true
   },
   "outputs": [],
   "source": [
    "Y = XSeries(Y)"
   ]
  },
  {
   "cell_type": "code",
   "execution_count": 47,
   "metadata": {
    "collapsed": true
   },
   "outputs": [],
   "source": [
    "df = XDataFrame({\n",
    "    'X': X,\n",
    "    'Y': Y\n",
    "})"
   ]
  },
  {
   "cell_type": "code",
   "execution_count": 48,
   "metadata": {},
   "outputs": [
    {
     "data": {
      "text/html": [
       "<div>\n",
       "<style>\n",
       "    .dataframe thead tr:only-child th {\n",
       "        text-align: right;\n",
       "    }\n",
       "\n",
       "    .dataframe thead th {\n",
       "        text-align: left;\n",
       "    }\n",
       "\n",
       "    .dataframe tbody tr th {\n",
       "        vertical-align: top;\n",
       "    }\n",
       "</style>\n",
       "<table border=\"1\" class=\"dataframe\">\n",
       "  <thead>\n",
       "    <tr style=\"text-align: right;\">\n",
       "      <th></th>\n",
       "      <th>X</th>\n",
       "      <th>Y</th>\n",
       "    </tr>\n",
       "  </thead>\n",
       "  <tbody>\n",
       "    <tr>\n",
       "      <th>0</th>\n",
       "      <td>0      1.187100\n",
       "1      0.409600\n",
       "2     -0.43154...</td>\n",
       "      <td>1</td>\n",
       "    </tr>\n",
       "    <tr>\n",
       "      <th>1</th>\n",
       "      <td>0      0.094261\n",
       "1      0.310310\n",
       "2      0.53060...</td>\n",
       "      <td>0</td>\n",
       "    </tr>\n",
       "    <tr>\n",
       "      <th>2</th>\n",
       "      <td>0     -1.157000\n",
       "1     -1.592600\n",
       "2     -1.50960...</td>\n",
       "      <td>1</td>\n",
       "    </tr>\n",
       "    <tr>\n",
       "      <th>3</th>\n",
       "      <td>0      0.356960\n",
       "1      0.300850\n",
       "2      0.24314...</td>\n",
       "      <td>0</td>\n",
       "    </tr>\n",
       "    <tr>\n",
       "      <th>4</th>\n",
       "      <td>0      0.307980\n",
       "1      0.370350\n",
       "2      0.26015...</td>\n",
       "      <td>1</td>\n",
       "    </tr>\n",
       "  </tbody>\n",
       "</table>\n",
       "</div>"
      ],
      "text/plain": [
       "                                                   X  Y\n",
       "0  0      1.187100\n",
       "1      0.409600\n",
       "2     -0.43154...  1\n",
       "1  0      0.094261\n",
       "1      0.310310\n",
       "2      0.53060...  0\n",
       "2  0     -1.157000\n",
       "1     -1.592600\n",
       "2     -1.50960...  1\n",
       "3  0      0.356960\n",
       "1      0.300850\n",
       "2      0.24314...  0\n",
       "4  0      0.307980\n",
       "1      0.370350\n",
       "2      0.26015...  1"
      ]
     },
     "execution_count": 48,
     "metadata": {},
     "output_type": "execute_result"
    }
   ],
   "source": [
    "df.head()"
   ]
  },
  {
   "cell_type": "markdown",
   "metadata": {},
   "source": [
    "Add new column to XDataFrame."
   ]
  },
  {
   "cell_type": "code",
   "execution_count": 49,
   "metadata": {
    "collapsed": true
   },
   "outputs": [],
   "source": [
    "df['X_1'] = XSeries([\n",
    "    pd.Series(np.random.normal(size=100))\n",
    "    for _ in range(X.shape[0])\n",
    "])"
   ]
  },
  {
   "cell_type": "markdown",
   "metadata": {},
   "source": [
    "If one wants to transform **XDataFrame** one has to specify transformation logic for a columns needed to be transformed. One can do this using **DataFrameTransformer**.\n",
    "\n",
    "For examplem lets apply **TimeSeriesWindowTransformer** to X column and **TimeSeriesTransformer** to $X_1$ column."
   ]
  },
  {
   "cell_type": "code",
   "execution_count": 50,
   "metadata": {
    "collapsed": true
   },
   "outputs": [],
   "source": [
    "from XPandas.transformers import DataFrameTransformer"
   ]
  },
  {
   "cell_type": "code",
   "execution_count": 51,
   "metadata": {
    "collapsed": true
   },
   "outputs": [],
   "source": [
    "df_transformer = DataFrameTransformer({\n",
    "    'X': TimeSeriesWindowTransformer(windows_size=4),\n",
    "    'X_1': TimeSeriesTransformer()\n",
    "})"
   ]
  },
  {
   "cell_type": "code",
   "execution_count": 52,
   "metadata": {},
   "outputs": [
    {
     "data": {
      "text/plain": [
       "DataFrameTransformer(transformations={'X': TimeSeriesWindowTransformer(windows_size=4), 'X_1': TimeSeriesTransformer(features=None)})"
      ]
     },
     "execution_count": 52,
     "metadata": {},
     "output_type": "execute_result"
    }
   ],
   "source": [
    "df_transformer.fit(df)"
   ]
  },
  {
   "cell_type": "code",
   "execution_count": 53,
   "metadata": {
    "collapsed": true
   },
   "outputs": [],
   "source": [
    "transformed_df = df_transformer.transform(df)"
   ]
  },
  {
   "cell_type": "code",
   "execution_count": 54,
   "metadata": {},
   "outputs": [
    {
     "data": {
      "text/html": [
       "<div>\n",
       "<style>\n",
       "    .dataframe thead tr:only-child th {\n",
       "        text-align: right;\n",
       "    }\n",
       "\n",
       "    .dataframe thead th {\n",
       "        text-align: left;\n",
       "    }\n",
       "\n",
       "    .dataframe tbody tr th {\n",
       "        vertical-align: top;\n",
       "    }\n",
       "</style>\n",
       "<table border=\"1\" class=\"dataframe\">\n",
       "  <thead>\n",
       "    <tr style=\"text-align: right;\">\n",
       "      <th></th>\n",
       "      <th>X</th>\n",
       "      <th>Y</th>\n",
       "      <th>TimeSeriesTransformer_max</th>\n",
       "      <th>TimeSeriesTransformer_mean</th>\n",
       "      <th>TimeSeriesTransformer_median</th>\n",
       "      <th>TimeSeriesTransformer_min</th>\n",
       "      <th>TimeSeriesTransformer_quantile_25</th>\n",
       "      <th>TimeSeriesTransformer_quantile_75</th>\n",
       "      <th>TimeSeriesTransformer_quantile_90</th>\n",
       "      <th>TimeSeriesTransformer_quantile_95</th>\n",
       "      <th>TimeSeriesTransformer_std</th>\n",
       "    </tr>\n",
       "  </thead>\n",
       "  <tbody>\n",
       "    <tr>\n",
       "      <th>0</th>\n",
       "      <td>3     -0.016460\n",
       "4     -0.789610\n",
       "5     -1.48761...</td>\n",
       "      <td>1</td>\n",
       "      <td>1.947551</td>\n",
       "      <td>-0.015840</td>\n",
       "      <td>0.071164</td>\n",
       "      <td>-2.564157</td>\n",
       "      <td>-0.730519</td>\n",
       "      <td>0.689059</td>\n",
       "      <td>1.144133</td>\n",
       "      <td>1.407224</td>\n",
       "      <td>0.961483</td>\n",
       "    </tr>\n",
       "    <tr>\n",
       "      <th>1</th>\n",
       "      <td>3      0.416408\n",
       "4      0.613542\n",
       "5      0.77304...</td>\n",
       "      <td>0</td>\n",
       "      <td>2.327146</td>\n",
       "      <td>0.098496</td>\n",
       "      <td>0.165579</td>\n",
       "      <td>-2.499361</td>\n",
       "      <td>-0.507944</td>\n",
       "      <td>0.770032</td>\n",
       "      <td>1.166795</td>\n",
       "      <td>1.797573</td>\n",
       "      <td>0.988724</td>\n",
       "    </tr>\n",
       "    <tr>\n",
       "      <th>2</th>\n",
       "      <td>3     -1.315175\n",
       "4     -1.083680\n",
       "5     -0.54600...</td>\n",
       "      <td>1</td>\n",
       "      <td>3.257576</td>\n",
       "      <td>0.137199</td>\n",
       "      <td>0.090058</td>\n",
       "      <td>-2.053543</td>\n",
       "      <td>-0.560547</td>\n",
       "      <td>0.785426</td>\n",
       "      <td>1.292849</td>\n",
       "      <td>1.550931</td>\n",
       "      <td>0.954297</td>\n",
       "    </tr>\n",
       "    <tr>\n",
       "      <th>3</th>\n",
       "      <td>3      0.268788\n",
       "4      0.203539\n",
       "5      0.13194...</td>\n",
       "      <td>0</td>\n",
       "      <td>2.850513</td>\n",
       "      <td>-0.048726</td>\n",
       "      <td>-0.018989</td>\n",
       "      <td>-2.990853</td>\n",
       "      <td>-0.718245</td>\n",
       "      <td>0.692489</td>\n",
       "      <td>1.368423</td>\n",
       "      <td>1.762179</td>\n",
       "      <td>1.090315</td>\n",
       "    </tr>\n",
       "    <tr>\n",
       "      <th>4</th>\n",
       "      <td>3      0.255629\n",
       "4      0.176381\n",
       "5      0.10033...</td>\n",
       "      <td>1</td>\n",
       "      <td>2.648693</td>\n",
       "      <td>-0.076139</td>\n",
       "      <td>-0.152326</td>\n",
       "      <td>-2.695419</td>\n",
       "      <td>-0.750743</td>\n",
       "      <td>0.544101</td>\n",
       "      <td>1.405485</td>\n",
       "      <td>1.706039</td>\n",
       "      <td>1.076105</td>\n",
       "    </tr>\n",
       "  </tbody>\n",
       "</table>\n",
       "</div>"
      ],
      "text/plain": [
       "                                                   X  Y  \\\n",
       "0  3     -0.016460\n",
       "4     -0.789610\n",
       "5     -1.48761...  1   \n",
       "1  3      0.416408\n",
       "4      0.613542\n",
       "5      0.77304...  0   \n",
       "2  3     -1.315175\n",
       "4     -1.083680\n",
       "5     -0.54600...  1   \n",
       "3  3      0.268788\n",
       "4      0.203539\n",
       "5      0.13194...  0   \n",
       "4  3      0.255629\n",
       "4      0.176381\n",
       "5      0.10033...  1   \n",
       "\n",
       "   TimeSeriesTransformer_max  TimeSeriesTransformer_mean  \\\n",
       "0                   1.947551                   -0.015840   \n",
       "1                   2.327146                    0.098496   \n",
       "2                   3.257576                    0.137199   \n",
       "3                   2.850513                   -0.048726   \n",
       "4                   2.648693                   -0.076139   \n",
       "\n",
       "   TimeSeriesTransformer_median  TimeSeriesTransformer_min  \\\n",
       "0                      0.071164                  -2.564157   \n",
       "1                      0.165579                  -2.499361   \n",
       "2                      0.090058                  -2.053543   \n",
       "3                     -0.018989                  -2.990853   \n",
       "4                     -0.152326                  -2.695419   \n",
       "\n",
       "   TimeSeriesTransformer_quantile_25  TimeSeriesTransformer_quantile_75  \\\n",
       "0                          -0.730519                           0.689059   \n",
       "1                          -0.507944                           0.770032   \n",
       "2                          -0.560547                           0.785426   \n",
       "3                          -0.718245                           0.692489   \n",
       "4                          -0.750743                           0.544101   \n",
       "\n",
       "   TimeSeriesTransformer_quantile_90  TimeSeriesTransformer_quantile_95  \\\n",
       "0                           1.144133                           1.407224   \n",
       "1                           1.166795                           1.797573   \n",
       "2                           1.292849                           1.550931   \n",
       "3                           1.368423                           1.762179   \n",
       "4                           1.405485                           1.706039   \n",
       "\n",
       "   TimeSeriesTransformer_std  \n",
       "0                   0.961483  \n",
       "1                   0.988724  \n",
       "2                   0.954297  \n",
       "3                   1.090315  \n",
       "4                   1.076105  "
      ]
     },
     "execution_count": 54,
     "metadata": {},
     "output_type": "execute_result"
    }
   ],
   "source": [
    "transformed_df.head()"
   ]
  },
  {
   "cell_type": "code",
   "execution_count": null,
   "metadata": {
    "collapsed": true
   },
   "outputs": [],
   "source": []
  }
 ],
 "metadata": {
  "kernelspec": {
   "display_name": "Python 3",
   "language": "python",
   "name": "python3"
  },
  "language_info": {
   "codemirror_mode": {
    "name": "ipython",
    "version": 3
   },
   "file_extension": ".py",
   "mimetype": "text/x-python",
   "name": "python",
   "nbconvert_exporter": "python",
   "pygments_lexer": "ipython3",
   "version": "3.6.1"
  }
 },
 "nbformat": 4,
 "nbformat_minor": 2
}
