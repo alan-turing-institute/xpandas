{
 "cells": [
  {
   "cell_type": "code",
   "execution_count": 23,
   "metadata": {},
   "outputs": [],
   "source": [
    "from io import BytesIO\n",
    "from zipfile import ZipFile\n",
    "from urllib.request import urlopen\n",
    "\n",
    "import numpy as np\n",
    "import pandas as pd\n",
    "import os, sys\n",
    "import requests\n",
    "\n",
    "sys.path.insert(0, '..')\n",
    "\n",
    "from transformers.data_container import *\n",
    "from transformers.transformers import TimeSeriesTransformer, MeanSeriesTransformer, TimeSeriesWindowTransformer"
   ]
  },
  {
   "cell_type": "code",
   "execution_count": 5,
   "metadata": {
    "collapsed": true
   },
   "outputs": [],
   "source": [
    "# Read a TimeSeries from URL\n",
    "url = urlopen(\"http://timeseriesclassification.com/Downloads/FordA.zip\")\n",
    "zipfile = ZipFile(BytesIO(url.read()))\n",
    "lines = zipfile.open('FordA/FordA.csv').readlines()\n",
    "lines = [l.decode('utf-8') for l in lines]\n",
    "lines = lines[505:]\n",
    "# lines now is a list of strings with of timeseries in comma separeted format\n",
    "# 505 is a offset for the beginning of seriases\n",
    "\n",
    "lines = [list(map(float, l.split(','))) for l in lines]"
   ]
  },
  {
   "cell_type": "code",
   "execution_count": 7,
   "metadata": {},
   "outputs": [
    {
     "data": {
      "text/plain": [
       "[1.1871,\n",
       " 0.4096,\n",
       " -0.43154,\n",
       " -1.231,\n",
       " -1.9055,\n",
       " -2.3824,\n",
       " -2.588,\n",
       " -2.5018,\n",
       " -2.1353,\n",
       " -1.574]"
      ]
     },
     "execution_count": 7,
     "metadata": {},
     "output_type": "execute_result"
    }
   ],
   "source": [
    "lines[0][:10]"
   ]
  },
  {
   "cell_type": "code",
   "execution_count": 8,
   "metadata": {
    "collapsed": true
   },
   "outputs": [],
   "source": [
    "# now let's create a list of pd.Series\n",
    "lines = [pd.Series(l) for l in lines]"
   ]
  },
  {
   "cell_type": "code",
   "execution_count": 11,
   "metadata": {},
   "outputs": [
    {
     "data": {
      "text/plain": [
       "0    1.18710\n",
       "1    0.40960\n",
       "2   -0.43154\n",
       "3   -1.23100\n",
       "4   -1.90550\n",
       "5   -2.38240\n",
       "6   -2.58800\n",
       "7   -2.50180\n",
       "8   -2.13530\n",
       "9   -1.57400\n",
       "dtype: float64"
      ]
     },
     "execution_count": 11,
     "metadata": {},
     "output_type": "execute_result"
    }
   ],
   "source": [
    "lines[0][:10]"
   ]
  },
  {
   "cell_type": "markdown",
   "metadata": {},
   "source": [
    "create a MultiSeries series of pd.Series objects"
   ]
  },
  {
   "cell_type": "code",
   "execution_count": 12,
   "metadata": {
    "collapsed": true
   },
   "outputs": [],
   "source": [
    "X = MultiSeries(lines)"
   ]
  },
  {
   "cell_type": "code",
   "execution_count": 15,
   "metadata": {},
   "outputs": [
    {
     "data": {
      "text/plain": [
       "0    0      1.187100\n",
       "1      0.409600\n",
       "2     -0.43154...\n",
       "1    0      0.094261\n",
       "1      0.310310\n",
       "2      0.53060...\n",
       "2    0     -1.157000\n",
       "1     -1.592600\n",
       "2     -1.50960...\n",
       "3    0      0.356960\n",
       "1      0.300850\n",
       "2      0.24314...\n",
       "4    0      0.307980\n",
       "1      0.370350\n",
       "2      0.26015...\n",
       "dtype: object\n",
       "data_type: <class 'pandas.core.series.Series'>"
      ]
     },
     "execution_count": 15,
     "metadata": {},
     "output_type": "execute_result"
    }
   ],
   "source": [
    "X.head()"
   ]
  },
  {
   "cell_type": "markdown",
   "metadata": {},
   "source": [
    "X now is a Series of pd.Serieses. It means, that every element of this Series is pd.Series.\n",
    "Let's try some transformers over it.\n",
    "First transformer is a windows transformer. This transformer calculated rolling mean with a given windows size (or defaul) and return new series."
   ]
  },
  {
   "cell_type": "code",
   "execution_count": 16,
   "metadata": {
    "collapsed": true
   },
   "outputs": [],
   "source": [
    "tr = TimeSeriesWindowTransformer(windows_size=5)\n",
    "tr.fit()\n",
    "transformed_series = tr.transform(X)"
   ]
  },
  {
   "cell_type": "code",
   "execution_count": 17,
   "metadata": {},
   "outputs": [
    {
     "data": {
      "text/plain": [
       "0    0           NaN\n",
       "1           NaN\n",
       "2           Na...\n",
       "1    0           NaN\n",
       "1           NaN\n",
       "2           Na...\n",
       "2    0           NaN\n",
       "1           NaN\n",
       "2           Na...\n",
       "3    0           NaN\n",
       "1           NaN\n",
       "2           Na...\n",
       "4    0           NaN\n",
       "1           NaN\n",
       "2           Na...\n",
       "dtype: object\n",
       "data_type: <class 'pandas.core.series.Series'>"
      ]
     },
     "execution_count": 17,
     "metadata": {},
     "output_type": "execute_result"
    }
   ],
   "source": [
    "transformed_series.head()"
   ]
  },
  {
   "cell_type": "markdown",
   "metadata": {},
   "source": [
    "Of course, with a widndows_zie = 5 first 4 elements are NaN."
   ]
  },
  {
   "cell_type": "code",
   "execution_count": 18,
   "metadata": {},
   "outputs": [
    {
     "data": {
      "text/plain": [
       "0         NaN\n",
       "1         NaN\n",
       "2         NaN\n",
       "3         NaN\n",
       "4   -0.394268\n",
       "5   -1.108168\n",
       "6   -1.707688\n",
       "7   -2.121740\n",
       "8   -2.302600\n",
       "9   -2.236300\n",
       "dtype: float64"
      ]
     },
     "execution_count": 18,
     "metadata": {},
     "output_type": "execute_result"
    }
   ],
   "source": [
    "transformed_series[0].head(10)"
   ]
  },
  {
   "cell_type": "markdown",
   "metadata": {},
   "source": [
    "Let's try another transformer, that extracts mean and std from series and transform series into DataFrame"
   ]
  },
  {
   "cell_type": "code",
   "execution_count": 19,
   "metadata": {
    "collapsed": true
   },
   "outputs": [],
   "source": [
    "tr = TimeSeriesTransformer()\n",
    "tr.fit()\n",
    "transformed_series = tr.transform(X)"
   ]
  },
  {
   "cell_type": "code",
   "execution_count": 20,
   "metadata": {},
   "outputs": [
    {
     "data": {
      "text/plain": [
       "transformers.data_container.data_container.MultiDataFrame"
      ]
     },
     "execution_count": 20,
     "metadata": {},
     "output_type": "execute_result"
    }
   ],
   "source": [
    "type(transformed_series)"
   ]
  },
  {
   "cell_type": "markdown",
   "metadata": {},
   "source": [
    "And last example of transformer — transformer with params"
   ]
  },
  {
   "cell_type": "code",
   "execution_count": 21,
   "metadata": {
    "collapsed": true
   },
   "outputs": [],
   "source": [
    "tr = MeanSeriesTransformer()\n",
    "tr.fit(X)\n",
    "transformed_series = tr.transform(X)"
   ]
  },
  {
   "cell_type": "code",
   "execution_count": 22,
   "metadata": {},
   "outputs": [
    {
     "data": {
      "text/plain": [
       "0    0.002049\n",
       "1    0.002051\n",
       "2   -0.001942\n",
       "3   -0.001943\n",
       "4   -0.001941\n",
       "5    0.002050\n",
       "6    0.002051\n",
       "7   -0.001943\n",
       "8   -0.001942\n",
       "9   -0.001943\n",
       "dtype: float64\n",
       "data_type: <class 'numpy.float64'>"
      ]
     },
     "execution_count": 22,
     "metadata": {},
     "output_type": "execute_result"
    }
   ],
   "source": [
    "transformed_series.head(10)"
   ]
  },
  {
   "cell_type": "markdown",
   "metadata": {},
   "source": [
    "The most frequeте transformer will be TimeSeriesTransformer. It extracts ~10 most popular quantitative features from TS."
   ]
  },
  {
   "cell_type": "code",
   "execution_count": 24,
   "metadata": {
    "collapsed": true
   },
   "outputs": [],
   "source": [
    "tr = TimeSeriesTransformer()\n",
    "tr.fit(X)\n",
    "transformed_series = tr.transform(X)"
   ]
  },
  {
   "cell_type": "code",
   "execution_count": 28,
   "metadata": {},
   "outputs": [
    {
     "data": {
      "text/html": [
       "<div>\n",
       "<style>\n",
       "    .dataframe thead tr:only-child th {\n",
       "        text-align: right;\n",
       "    }\n",
       "\n",
       "    .dataframe thead th {\n",
       "        text-align: left;\n",
       "    }\n",
       "\n",
       "    .dataframe tbody tr th {\n",
       "        vertical-align: top;\n",
       "    }\n",
       "</style>\n",
       "<table border=\"1\" class=\"dataframe\">\n",
       "  <thead>\n",
       "    <tr style=\"text-align: right;\">\n",
       "      <th></th>\n",
       "      <th>max</th>\n",
       "      <th>mean</th>\n",
       "      <th>median</th>\n",
       "      <th>min</th>\n",
       "      <th>quantile_25</th>\n",
       "      <th>quantile_75</th>\n",
       "      <th>quantile_90</th>\n",
       "      <th>quantile_95</th>\n",
       "      <th>std</th>\n",
       "    </tr>\n",
       "  </thead>\n",
       "  <tbody>\n",
       "    <tr>\n",
       "      <th>0</th>\n",
       "      <td>2.5263</td>\n",
       "      <td>0.001995</td>\n",
       "      <td>0.011186</td>\n",
       "      <td>-2.7875</td>\n",
       "      <td>-0.73635</td>\n",
       "      <td>0.74192</td>\n",
       "      <td>1.2534</td>\n",
       "      <td>1.5463</td>\n",
       "      <td>0.999998</td>\n",
       "    </tr>\n",
       "    <tr>\n",
       "      <th>1</th>\n",
       "      <td>2.6291</td>\n",
       "      <td>0.001997</td>\n",
       "      <td>-0.024726</td>\n",
       "      <td>-2.4357</td>\n",
       "      <td>-0.67411</td>\n",
       "      <td>0.65808</td>\n",
       "      <td>1.3478</td>\n",
       "      <td>1.6595</td>\n",
       "      <td>0.999997</td>\n",
       "    </tr>\n",
       "    <tr>\n",
       "      <th>2</th>\n",
       "      <td>2.6072</td>\n",
       "      <td>-0.001996</td>\n",
       "      <td>0.060685</td>\n",
       "      <td>-3.0132</td>\n",
       "      <td>-0.67588</td>\n",
       "      <td>0.70123</td>\n",
       "      <td>1.2591</td>\n",
       "      <td>1.5184</td>\n",
       "      <td>1.000000</td>\n",
       "    </tr>\n",
       "    <tr>\n",
       "      <th>3</th>\n",
       "      <td>2.6431</td>\n",
       "      <td>-0.001997</td>\n",
       "      <td>-0.022668</td>\n",
       "      <td>-2.7275</td>\n",
       "      <td>-0.66265</td>\n",
       "      <td>0.56858</td>\n",
       "      <td>1.4102</td>\n",
       "      <td>1.8094</td>\n",
       "      <td>0.999997</td>\n",
       "    </tr>\n",
       "    <tr>\n",
       "      <th>4</th>\n",
       "      <td>3.2398</td>\n",
       "      <td>-0.001995</td>\n",
       "      <td>-0.048518</td>\n",
       "      <td>-3.0085</td>\n",
       "      <td>-0.70775</td>\n",
       "      <td>0.64898</td>\n",
       "      <td>1.2540</td>\n",
       "      <td>1.6699</td>\n",
       "      <td>1.000001</td>\n",
       "    </tr>\n",
       "  </tbody>\n",
       "</table>\n",
       "</div>"
      ],
      "text/plain": [
       "      max      mean    median     min  quantile_25  quantile_75  quantile_90  \\\n",
       "0  2.5263  0.001995  0.011186 -2.7875     -0.73635      0.74192       1.2534   \n",
       "1  2.6291  0.001997 -0.024726 -2.4357     -0.67411      0.65808       1.3478   \n",
       "2  2.6072 -0.001996  0.060685 -3.0132     -0.67588      0.70123       1.2591   \n",
       "3  2.6431 -0.001997 -0.022668 -2.7275     -0.66265      0.56858       1.4102   \n",
       "4  3.2398 -0.001995 -0.048518 -3.0085     -0.70775      0.64898       1.2540   \n",
       "\n",
       "   quantile_95       std  \n",
       "0       1.5463  0.999998  \n",
       "1       1.6595  0.999997  \n",
       "2       1.5184  1.000000  \n",
       "3       1.8094  0.999997  \n",
       "4       1.6699  1.000001  "
      ]
     },
     "execution_count": 28,
     "metadata": {},
     "output_type": "execute_result"
    }
   ],
   "source": [
    "transformed_series.head()"
   ]
  }
 ],
 "metadata": {
  "kernelspec": {
   "display_name": "Python 3",
   "language": "python",
   "name": "python3"
  },
  "language_info": {
   "codemirror_mode": {
    "name": "ipython",
    "version": 3
   },
   "file_extension": ".py",
   "mimetype": "text/x-python",
   "name": "python",
   "nbconvert_exporter": "python",
   "pygments_lexer": "ipython3",
   "version": "3.6.1"
  }
 },
 "nbformat": 4,
 "nbformat_minor": 2
}
