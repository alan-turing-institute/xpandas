{
 "cells": [
  {
   "cell_type": "markdown",
   "metadata": {},
   "source": [
    "# Description"
   ]
  },
  {
   "cell_type": "markdown",
   "metadata": {},
   "source": [
    "This example shows basic usage of **transformer** project."
   ]
  },
  {
   "cell_type": "markdown",
   "metadata": {},
   "source": [
    "## Read data"
   ]
  },
  {
   "cell_type": "code",
   "execution_count": 5,
   "metadata": {},
   "outputs": [
    {
     "name": "stderr",
     "output_type": "stream",
     "text": [
      "/Users/iwitaly/anaconda/lib/python3.6/site-packages/statsmodels/compat/pandas.py:56: FutureWarning: The pandas.core.datetools module is deprecated and will be removed in a future version. Please use the pandas.tseries module instead.\n",
      "  from pandas.core import datetools\n"
     ]
    }
   ],
   "source": [
    "from io import BytesIO\n",
    "from zipfile import ZipFile\n",
    "from urllib.request import urlopen\n",
    "\n",
    "import numpy as np\n",
    "import pandas as pd\n",
    "import os, sys\n",
    "import requests\n",
    "\n",
    "sys.path.insert(0, '..')\n",
    "\n",
    "from XPandas.data_container import *\n",
    "from XPandas.transformers import TimeSeriesTransformer, TimeSeriesWindowTransformer"
   ]
  },
  {
   "cell_type": "markdown",
   "metadata": {},
   "source": [
    "Usage example will be shown based on open source time series [data set](http://timeseriesclassification.com/Downloads/FordA.zip).\n",
    "\n",
    "First think one need to do is read data. We use `urlopen` function from built in urllib Python package to download data set in memory. We also shrink the length of each series."
   ]
  },
  {
   "cell_type": "code",
   "execution_count": 6,
   "metadata": {
    "collapsed": true
   },
   "outputs": [],
   "source": [
    "url = \"http://timeseriesclassification.com/Downloads/FordA.zip\"\n",
    "series_offset = 505"
   ]
  },
  {
   "cell_type": "code",
   "execution_count": 7,
   "metadata": {
    "collapsed": true
   },
   "outputs": [],
   "source": [
    "url = urlopen(url)\n",
    "zipfile = ZipFile(BytesIO(url.read()))\n",
    "lines = zipfile.open('FordA/FordA.csv').readlines()\n",
    "lines = [l.decode('utf-8') for l in lines]\n",
    "lines = lines[series_offset:]"
   ]
  },
  {
   "cell_type": "markdown",
   "metadata": {},
   "source": [
    "**lines** now is a list of strings with of timeseries in comma separeted format\n",
    "\n",
    "505 is a offset for the beginning of seriases"
   ]
  },
  {
   "cell_type": "code",
   "execution_count": 8,
   "metadata": {
    "collapsed": true
   },
   "outputs": [],
   "source": [
    "lines = [list(map(float, l.split(','))) for l in lines]"
   ]
  },
  {
   "cell_type": "code",
   "execution_count": 9,
   "metadata": {},
   "outputs": [
    {
     "data": {
      "text/plain": [
       "[1.1871,\n",
       " 0.4096,\n",
       " -0.43154,\n",
       " -1.231,\n",
       " -1.9055,\n",
       " -2.3824,\n",
       " -2.588,\n",
       " -2.5018,\n",
       " -2.1353,\n",
       " -1.574]"
      ]
     },
     "execution_count": 9,
     "metadata": {},
     "output_type": "execute_result"
    }
   ],
   "source": [
    "lines[0][:10]"
   ]
  },
  {
   "cell_type": "markdown",
   "metadata": {},
   "source": [
    "Now **lines** is a list of list of floats. Let's convert each embedded list into more convince pandas.Series object."
   ]
  },
  {
   "cell_type": "code",
   "execution_count": 10,
   "metadata": {},
   "outputs": [],
   "source": [
    "lines = [pd.Series(l) for l in lines]"
   ]
  },
  {
   "cell_type": "code",
   "execution_count": 11,
   "metadata": {},
   "outputs": [
    {
     "data": {
      "text/plain": [
       "0    1.18710\n",
       "1    0.40960\n",
       "2   -0.43154\n",
       "3   -1.23100\n",
       "4   -1.90550\n",
       "5   -2.38240\n",
       "6   -2.58800\n",
       "7   -2.50180\n",
       "8   -2.13530\n",
       "9   -1.57400\n",
       "dtype: float64"
      ]
     },
     "execution_count": 11,
     "metadata": {},
     "output_type": "execute_result"
    }
   ],
   "source": [
    "lines[0][:10]"
   ]
  },
  {
   "cell_type": "markdown",
   "metadata": {},
   "source": [
    "## Main usage"
   ]
  },
  {
   "cell_type": "markdown",
   "metadata": {},
   "source": [
    "Now we have a list of pandas.Series objects. Next thing we do is encapsulate list into another series called XSeries. Thus list of lists of float became into XSeries of pandas.Series objects.\n",
    "\n",
    "We have a global indes for MuiltiSeries and each pandas.Series has it's own index."
   ]
  },
  {
   "cell_type": "code",
   "execution_count": 12,
   "metadata": {},
   "outputs": [],
   "source": [
    "X = XSeries(lines)"
   ]
  },
  {
   "cell_type": "code",
   "execution_count": 13,
   "metadata": {},
   "outputs": [
    {
     "data": {
      "text/plain": [
       "0    0      1.187100\n",
       "1      0.409600\n",
       "2     -0.43154...\n",
       "1    0      0.094261\n",
       "1      0.310310\n",
       "2      0.53060...\n",
       "2    0     -1.157000\n",
       "1     -1.592600\n",
       "2     -1.50960...\n",
       "3    0      0.356960\n",
       "1      0.300850\n",
       "2      0.24314...\n",
       "4    0      0.307980\n",
       "1      0.370350\n",
       "2      0.26015...\n",
       "dtype: object\n",
       "data_type: <class 'pandas.core.series.Series'>"
      ]
     },
     "execution_count": 13,
     "metadata": {},
     "output_type": "execute_result"
    }
   ],
   "source": [
    "X.head()"
   ]
  },
  {
   "cell_type": "markdown",
   "metadata": {},
   "source": [
    "Output might seems a bit messy. It prints XSeries of pandas.Series and **data_type** property. This property shown the type of underlying data into XSeries.\n",
    "\n",
    "**X** now is a XSeries of pd.Serieses. It means, that every element of this XSeries is pd.Series.\n",
    "\n",
    "**X** supports all methods as basic pd.Series does."
   ]
  },
  {
   "cell_type": "markdown",
   "metadata": {},
   "source": [
    "## Transformers"
   ]
  },
  {
   "cell_type": "markdown",
   "metadata": {},
   "source": [
    "One of the common task in data science that was a motivation for this project is to extract features from some complex objects (for example series) and than do a fancy machine learning.\n",
    "\n",
    "Having a XSeries of pandas.Series one would like to extract features from each Series or do kind of feature extraction. That's where **Transformers** take place. Let's try on example."
   ]
  },
  {
   "cell_type": "markdown",
   "metadata": {},
   "source": [
    "The first simple example of transformer is *TimeSeriesWindowTransformer*. This transformer calculates moving average with given window size."
   ]
  },
  {
   "cell_type": "code",
   "execution_count": 14,
   "metadata": {
    "collapsed": true
   },
   "outputs": [],
   "source": [
    "tr = TimeSeriesWindowTransformer(windows_size=5)\n",
    "tr.fit(X)\n",
    "transformed_series = tr.transform(X)"
   ]
  },
  {
   "cell_type": "code",
   "execution_count": 15,
   "metadata": {},
   "outputs": [
    {
     "data": {
      "text/plain": [
       "0    4     -0.394268\n",
       "5     -1.108168\n",
       "6     -1.70768...\n",
       "1    4      0.509686\n",
       "5      0.680500\n",
       "6      0.80574...\n",
       "2    4     -1.098344\n",
       "5     -0.755320\n",
       "6     -0.21608...\n",
       "3    4      0.234223\n",
       "5      0.165730\n",
       "6      0.09269...\n",
       "4    4      0.202701\n",
       "5      0.154336\n",
       "6      0.14082...\n",
       "dtype: object\n",
       "data_type: <class 'pandas.core.series.Series'>"
      ]
     },
     "execution_count": 15,
     "metadata": {},
     "output_type": "execute_result"
    }
   ],
   "source": [
    "transformed_series.head()"
   ]
  },
  {
   "cell_type": "markdown",
   "metadata": {},
   "source": [
    "Of course, with a windows_size = 5 first 4 elements are NaN."
   ]
  },
  {
   "cell_type": "code",
   "execution_count": 16,
   "metadata": {},
   "outputs": [
    {
     "data": {
      "text/plain": [
       "4    -0.394268\n",
       "5    -1.108168\n",
       "6    -1.707688\n",
       "7    -2.121740\n",
       "8    -2.302600\n",
       "9    -2.236300\n",
       "10   -1.942152\n",
       "11   -1.469980\n",
       "12   -0.891442\n",
       "13   -0.287676\n",
       "dtype: float64"
      ]
     },
     "execution_count": 16,
     "metadata": {},
     "output_type": "execute_result"
    }
   ],
   "source": [
    "transformed_series[0].head(10)"
   ]
  },
  {
   "cell_type": "markdown",
   "metadata": {},
   "source": [
    "Let's try another transformer, probably the most common. It extract several quantitative features from each pandas.Series like mean, std, quantiles. You can pass you own list of features. As a result we have an object **XDataFrame**."
   ]
  },
  {
   "cell_type": "code",
   "execution_count": 17,
   "metadata": {
    "collapsed": true
   },
   "outputs": [],
   "source": [
    "tr = TimeSeriesTransformer()\n",
    "tr.fit(X)\n",
    "transformed_series = tr.transform(X)"
   ]
  },
  {
   "cell_type": "code",
   "execution_count": 18,
   "metadata": {},
   "outputs": [
    {
     "data": {
      "text/plain": [
       "XPandas.data_container.data_container.XDataFrame"
      ]
     },
     "execution_count": 18,
     "metadata": {},
     "output_type": "execute_result"
    }
   ],
   "source": [
    "type(transformed_series)"
   ]
  },
  {
   "cell_type": "code",
   "execution_count": 19,
   "metadata": {},
   "outputs": [
    {
     "data": {
      "text/html": [
       "<div>\n",
       "<style>\n",
       "    .dataframe thead tr:only-child th {\n",
       "        text-align: right;\n",
       "    }\n",
       "\n",
       "    .dataframe thead th {\n",
       "        text-align: left;\n",
       "    }\n",
       "\n",
       "    .dataframe tbody tr th {\n",
       "        vertical-align: top;\n",
       "    }\n",
       "</style>\n",
       "<table border=\"1\" class=\"dataframe\">\n",
       "  <thead>\n",
       "    <tr style=\"text-align: right;\">\n",
       "      <th></th>\n",
       "      <th>TimeSeriesTransformer_max</th>\n",
       "      <th>TimeSeriesTransformer_mean</th>\n",
       "      <th>TimeSeriesTransformer_median</th>\n",
       "      <th>TimeSeriesTransformer_min</th>\n",
       "      <th>TimeSeriesTransformer_quantile_25</th>\n",
       "      <th>TimeSeriesTransformer_quantile_75</th>\n",
       "      <th>TimeSeriesTransformer_quantile_90</th>\n",
       "      <th>TimeSeriesTransformer_quantile_95</th>\n",
       "      <th>TimeSeriesTransformer_std</th>\n",
       "    </tr>\n",
       "  </thead>\n",
       "  <tbody>\n",
       "    <tr>\n",
       "      <th>0</th>\n",
       "      <td>2.5263</td>\n",
       "      <td>0.001995</td>\n",
       "      <td>0.011186</td>\n",
       "      <td>-2.7875</td>\n",
       "      <td>-0.73635</td>\n",
       "      <td>0.74192</td>\n",
       "      <td>1.2534</td>\n",
       "      <td>1.5463</td>\n",
       "      <td>0.999998</td>\n",
       "    </tr>\n",
       "    <tr>\n",
       "      <th>1</th>\n",
       "      <td>2.6291</td>\n",
       "      <td>0.001997</td>\n",
       "      <td>-0.024726</td>\n",
       "      <td>-2.4357</td>\n",
       "      <td>-0.67411</td>\n",
       "      <td>0.65808</td>\n",
       "      <td>1.3478</td>\n",
       "      <td>1.6595</td>\n",
       "      <td>0.999997</td>\n",
       "    </tr>\n",
       "    <tr>\n",
       "      <th>2</th>\n",
       "      <td>2.6072</td>\n",
       "      <td>-0.001996</td>\n",
       "      <td>0.060685</td>\n",
       "      <td>-3.0132</td>\n",
       "      <td>-0.67588</td>\n",
       "      <td>0.70123</td>\n",
       "      <td>1.2591</td>\n",
       "      <td>1.5184</td>\n",
       "      <td>1.000000</td>\n",
       "    </tr>\n",
       "    <tr>\n",
       "      <th>3</th>\n",
       "      <td>2.6431</td>\n",
       "      <td>-0.001997</td>\n",
       "      <td>-0.022668</td>\n",
       "      <td>-2.7275</td>\n",
       "      <td>-0.66265</td>\n",
       "      <td>0.56858</td>\n",
       "      <td>1.4102</td>\n",
       "      <td>1.8094</td>\n",
       "      <td>0.999997</td>\n",
       "    </tr>\n",
       "    <tr>\n",
       "      <th>4</th>\n",
       "      <td>3.2398</td>\n",
       "      <td>-0.001995</td>\n",
       "      <td>-0.048518</td>\n",
       "      <td>-3.0085</td>\n",
       "      <td>-0.70775</td>\n",
       "      <td>0.64898</td>\n",
       "      <td>1.2540</td>\n",
       "      <td>1.6699</td>\n",
       "      <td>1.000001</td>\n",
       "    </tr>\n",
       "  </tbody>\n",
       "</table>\n",
       "</div>"
      ],
      "text/plain": [
       "   TimeSeriesTransformer_max  TimeSeriesTransformer_mean  \\\n",
       "0                     2.5263                    0.001995   \n",
       "1                     2.6291                    0.001997   \n",
       "2                     2.6072                   -0.001996   \n",
       "3                     2.6431                   -0.001997   \n",
       "4                     3.2398                   -0.001995   \n",
       "\n",
       "   TimeSeriesTransformer_median  TimeSeriesTransformer_min  \\\n",
       "0                      0.011186                    -2.7875   \n",
       "1                     -0.024726                    -2.4357   \n",
       "2                      0.060685                    -3.0132   \n",
       "3                     -0.022668                    -2.7275   \n",
       "4                     -0.048518                    -3.0085   \n",
       "\n",
       "   TimeSeriesTransformer_quantile_25  TimeSeriesTransformer_quantile_75  \\\n",
       "0                           -0.73635                            0.74192   \n",
       "1                           -0.67411                            0.65808   \n",
       "2                           -0.67588                            0.70123   \n",
       "3                           -0.66265                            0.56858   \n",
       "4                           -0.70775                            0.64898   \n",
       "\n",
       "   TimeSeriesTransformer_quantile_90  TimeSeriesTransformer_quantile_95  \\\n",
       "0                             1.2534                             1.5463   \n",
       "1                             1.3478                             1.6595   \n",
       "2                             1.2591                             1.5184   \n",
       "3                             1.4102                             1.8094   \n",
       "4                             1.2540                             1.6699   \n",
       "\n",
       "   TimeSeriesTransformer_std  \n",
       "0                   0.999998  \n",
       "1                   0.999997  \n",
       "2                   1.000000  \n",
       "3                   0.999997  \n",
       "4                   1.000001  "
      ]
     },
     "execution_count": 19,
     "metadata": {},
     "output_type": "execute_result"
    }
   ],
   "source": [
    "transformed_series.head()"
   ]
  },
  {
   "cell_type": "markdown",
   "metadata": {},
   "source": [
    "Also one can try TSFresh transformer"
   ]
  },
  {
   "cell_type": "code",
   "execution_count": 20,
   "metadata": {},
   "outputs": [
    {
     "ename": "ModuleNotFoundError",
     "evalue": "No module named 'transformers'",
     "output_type": "error",
     "traceback": [
      "\u001b[0;31m---------------------------------------------------------------------------\u001b[0m",
      "\u001b[0;31mModuleNotFoundError\u001b[0m                       Traceback (most recent call last)",
      "\u001b[0;32m<ipython-input-20-618a8b758500>\u001b[0m in \u001b[0;36m<module>\u001b[0;34m()\u001b[0m\n\u001b[0;32m----> 1\u001b[0;31m \u001b[0;32mfrom\u001b[0m \u001b[0mtransformers\u001b[0m\u001b[0;34m.\u001b[0m\u001b[0mtransformers\u001b[0m \u001b[0;32mimport\u001b[0m \u001b[0mTsFreshSeriesTransformer\u001b[0m\u001b[0;34m\u001b[0m\u001b[0m\n\u001b[0m",
      "\u001b[0;31mModuleNotFoundError\u001b[0m: No module named 'transformers'"
     ]
    }
   ],
   "source": [
    "from transformers.transformers import TsFreshSeriesTransformer"
   ]
  },
  {
   "cell_type": "code",
   "execution_count": null,
   "metadata": {
    "collapsed": true
   },
   "outputs": [],
   "source": [
    "tr = TsFreshSeriesTransformer()\n",
    "tr.fit(X.head())\n",
    "transformed_series = tr.transform(X.head())"
   ]
  },
  {
   "cell_type": "code",
   "execution_count": null,
   "metadata": {},
   "outputs": [],
   "source": [
    "transformed_series"
   ]
  },
  {
   "cell_type": "markdown",
   "metadata": {},
   "source": [
    "One may ask a question \"Well, it's a nice transformer, but can I do a pipeline like useing scikit-learn [Pipeline](http://scikit-learn.org/stable/modules/generated/sklearn.pipeline.Pipeline.html)\".\n",
    "\n",
    "Sure! Let's see on example. We try to combine TimeSeriesTransformer and TimeSeriesWindowTransformer into one pipeline. That's where **PipeLineChain** comes for help."
   ]
  },
  {
   "cell_type": "code",
   "execution_count": null,
   "metadata": {
    "collapsed": true
   },
   "outputs": [],
   "source": [
    "from transformers.transformers import PipeLineChain"
   ]
  },
  {
   "cell_type": "code",
   "execution_count": null,
   "metadata": {},
   "outputs": [],
   "source": [
    "chain = PipeLineChain([\n",
    "    ('moving average trans', TimeSeriesWindowTransformer(windows_size=5)),\n",
    "    ('extract features', TimeSeriesTransformer())\n",
    "])\n",
    "chain.fit(X)"
   ]
  },
  {
   "cell_type": "code",
   "execution_count": null,
   "metadata": {},
   "outputs": [],
   "source": [
    "chain.get_params"
   ]
  },
  {
   "cell_type": "code",
   "execution_count": null,
   "metadata": {
    "collapsed": true
   },
   "outputs": [],
   "source": [
    "transformed_X = chain.transform(X)"
   ]
  },
  {
   "cell_type": "code",
   "execution_count": null,
   "metadata": {},
   "outputs": [],
   "source": [
    "transformed_X.head()"
   ]
  },
  {
   "cell_type": "markdown",
   "metadata": {
    "collapsed": true
   },
   "source": [
    "All right! Let's try to add scikit-learn transformer to the PipeLineChain. For example, let's do PCA on transformed_X."
   ]
  },
  {
   "cell_type": "code",
   "execution_count": null,
   "metadata": {
    "collapsed": true
   },
   "outputs": [],
   "source": [
    "from sklearn.decomposition import PCA"
   ]
  },
  {
   "cell_type": "code",
   "execution_count": null,
   "metadata": {},
   "outputs": [],
   "source": [
    "chain = PipeLineChain([\n",
    "    ('moving average trans', TimeSeriesWindowTransformer(windows_size=5)),\n",
    "    ('extract features', TimeSeriesTransformer()),\n",
    "    ('pca', PCA(n_components=5))\n",
    "])\n",
    "chain.fit(X)"
   ]
  },
  {
   "cell_type": "code",
   "execution_count": null,
   "metadata": {
    "collapsed": true
   },
   "outputs": [],
   "source": [
    "transformed_X = chain.transform(X)"
   ]
  },
  {
   "cell_type": "code",
   "execution_count": null,
   "metadata": {},
   "outputs": [],
   "source": [
    "transformed_X.head()"
   ]
  },
  {
   "cell_type": "markdown",
   "metadata": {},
   "source": [
    "Let's do even more interesting things! Let's try to add a scikit-learn estimator at the end of PipeLineChain!"
   ]
  },
  {
   "cell_type": "code",
   "execution_count": null,
   "metadata": {
    "collapsed": true
   },
   "outputs": [],
   "source": [
    "from sklearn.linear_model import LogisticRegression\n",
    "from sklearn.model_selection import train_test_split\n",
    "from sklearn.metrics import accuracy_score"
   ]
  },
  {
   "cell_type": "code",
   "execution_count": null,
   "metadata": {
    "collapsed": true
   },
   "outputs": [],
   "source": [
    "X_train, X_test, y_train, y_test = train_test_split(X, Y)"
   ]
  },
  {
   "cell_type": "markdown",
   "metadata": {},
   "source": [
    "Be sure that types of X_train and X_test are XSeries."
   ]
  },
  {
   "cell_type": "code",
   "execution_count": null,
   "metadata": {},
   "outputs": [],
   "source": [
    "print(type(X_train))\n",
    "print(type(X_test))"
   ]
  },
  {
   "cell_type": "code",
   "execution_count": null,
   "metadata": {
    "collapsed": true
   },
   "outputs": [],
   "source": [
    "chain = PipeLineChain([\n",
    "    ('moving average trans', TimeSeriesWindowTransformer(windows_size=5)),\n",
    "    ('extract features', TimeSeriesTransformer()),\n",
    "    ('pca', PCA(n_components=5)),\n",
    "    ('logit_regression', LogisticRegression())\n",
    "    \n",
    "])\n",
    "chain = chain.fit(X_train, y_train)"
   ]
  },
  {
   "cell_type": "code",
   "execution_count": null,
   "metadata": {
    "collapsed": true
   },
   "outputs": [],
   "source": [
    "prediction = chain.predict(X_test)"
   ]
  },
  {
   "cell_type": "code",
   "execution_count": null,
   "metadata": {},
   "outputs": [],
   "source": [
    "accuracy_score(y_test, prediction)"
   ]
  },
  {
   "cell_type": "markdown",
   "metadata": {},
   "source": [
    "It works! \n",
    "\n",
    "One can also create inline CustomTransfomer like this"
   ]
  },
  {
   "cell_type": "code",
   "execution_count": null,
   "metadata": {
    "collapsed": true
   },
   "outputs": [],
   "source": [
    "from transformers.transformers import CustomTransformer"
   ]
  },
  {
   "cell_type": "code",
   "execution_count": null,
   "metadata": {
    "collapsed": true
   },
   "outputs": [],
   "source": [
    "my_awesome_transfomer = CustomTransformer(transform_function=lambda x: x.std())"
   ]
  },
  {
   "cell_type": "code",
   "execution_count": null,
   "metadata": {},
   "outputs": [],
   "source": [
    "my_awesome_transfomer.fit(X)"
   ]
  },
  {
   "cell_type": "code",
   "execution_count": null,
   "metadata": {},
   "outputs": [],
   "source": [
    "my_awesome_transfomer.transform(X).head()"
   ]
  },
  {
   "cell_type": "markdown",
   "metadata": {},
   "source": [
    "If you want to create your custom transformer with any complex logic, please take a look at internal implementation of transformers."
   ]
  },
  {
   "cell_type": "markdown",
   "metadata": {},
   "source": [
    "Now let's take a look at **XDataFrame** class."
   ]
  },
  {
   "cell_type": "markdown",
   "metadata": {},
   "source": [
    "## XDataFrame class"
   ]
  },
  {
   "cell_type": "markdown",
   "metadata": {},
   "source": [
    "**XDataFrame** is an abstract container based on pandas.DataFrame that can store **XSeries** objects.\n",
    "\n",
    "The main feature of **XDataFrame** is that you have columns of **XSeries** of any **data_type** with ANY objects. For example, one may has a data set Serieses, Images, Texts, plain Numbers, any custom objects. Imagine a 2d data container that stores it. That one would like to write a chain of transformers to create a simple 2d matrix with number ready-to-sklearn predictor.\n",
    "\n",
    "Let's see an example with that. First, let's create a **XDataFrame**.\n",
    "\n",
    "Let's **Y** will be a labels for each row."
   ]
  },
  {
   "cell_type": "code",
   "execution_count": null,
   "metadata": {
    "collapsed": true
   },
   "outputs": [],
   "source": [
    "Y = np.random.binomial(1, 0.5, X.shape[0])\n",
    "Y = XSeries(Y)"
   ]
  },
  {
   "cell_type": "code",
   "execution_count": null,
   "metadata": {
    "collapsed": true
   },
   "outputs": [],
   "source": [
    "df = XDataFrame({\n",
    "    'X': X,\n",
    "    'Y': Y\n",
    "})"
   ]
  },
  {
   "cell_type": "code",
   "execution_count": null,
   "metadata": {},
   "outputs": [],
   "source": [
    "df.head()"
   ]
  },
  {
   "cell_type": "markdown",
   "metadata": {},
   "source": [
    "Add new column to XDataFrame."
   ]
  },
  {
   "cell_type": "code",
   "execution_count": null,
   "metadata": {
    "collapsed": true
   },
   "outputs": [],
   "source": [
    "df['X_1'] = XSeries([\n",
    "    pd.Series(np.random.normal(size=100))\n",
    "    for _ in range(X.shape[0])\n",
    "])"
   ]
  },
  {
   "cell_type": "markdown",
   "metadata": {},
   "source": [
    "If one wants to transform **XDataFrame** one has to specify transformation logic for a columns needed to be transformed. One can do this using **DataFrameTransformer**.\n",
    "\n",
    "For examplem lets apply **TimeSeriesWindowTransformer** to X column and **TimeSeriesTransformer** to $X_1$ column."
   ]
  },
  {
   "cell_type": "code",
   "execution_count": null,
   "metadata": {
    "collapsed": true
   },
   "outputs": [],
   "source": [
    "from XPandas.transformers import DataFrameTransformer"
   ]
  },
  {
   "cell_type": "code",
   "execution_count": null,
   "metadata": {
    "collapsed": true
   },
   "outputs": [],
   "source": [
    "df_transformer = DataFrameTransformer({\n",
    "    'X': TimeSeriesWindowTransformer(windows_size=4),\n",
    "    'X_1': TimeSeriesTransformer()\n",
    "})"
   ]
  },
  {
   "cell_type": "code",
   "execution_count": null,
   "metadata": {},
   "outputs": [],
   "source": [
    "df_transformer.fit(df)"
   ]
  },
  {
   "cell_type": "code",
   "execution_count": null,
   "metadata": {
    "collapsed": true
   },
   "outputs": [],
   "source": [
    "transformed_df = df_transformer.transform(df)"
   ]
  },
  {
   "cell_type": "code",
   "execution_count": null,
   "metadata": {},
   "outputs": [],
   "source": [
    "transformed_df.head()"
   ]
  },
  {
   "cell_type": "code",
   "execution_count": null,
   "metadata": {
    "collapsed": true
   },
   "outputs": [],
   "source": []
  }
 ],
 "metadata": {
  "kernelspec": {
   "display_name": "Python 3",
   "language": "python",
   "name": "python3"
  },
  "language_info": {
   "codemirror_mode": {
    "name": "ipython",
    "version": 3
   },
   "file_extension": ".py",
   "mimetype": "text/x-python",
   "name": "python",
   "nbconvert_exporter": "python",
   "pygments_lexer": "ipython3",
   "version": "3.6.1"
  }
 },
 "nbformat": 4,
 "nbformat_minor": 2
}
