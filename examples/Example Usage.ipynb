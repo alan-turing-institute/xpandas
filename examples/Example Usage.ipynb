{
 "cells": [
  {
   "cell_type": "code",
   "execution_count": 1,
   "metadata": {},
   "outputs": [
    {
     "name": "stderr",
     "output_type": "stream",
     "text": [
      "/Users/iwitaly/anaconda/lib/python3.6/site-packages/statsmodels/compat/pandas.py:56: FutureWarning: The pandas.core.datetools module is deprecated and will be removed in a future version. Please use the pandas.tseries module instead.\n",
      "  from pandas.core import datetools\n"
     ]
    }
   ],
   "source": [
    "from io import BytesIO\n",
    "from zipfile import ZipFile\n",
    "from urllib.request import urlopen\n",
    "\n",
    "import numpy as np\n",
    "import pandas as pd\n",
    "import os, sys\n",
    "import requests\n",
    "\n",
    "sys.path.insert(0, '..')\n",
    "\n",
    "from transformers.data_container import *\n",
    "from transformers.transformers import TimeSeriesTransformer, MeanSeriesTransformer, TimeSeriesWindowTransformer"
   ]
  },
  {
   "cell_type": "markdown",
   "metadata": {},
   "source": [
    "Usage example will be shown based on open source time series [data set](http://timeseriesclassification.com/Downloads/FordA.zip).\n",
    "\n",
    "First think one need to do is read data. We use `urlopen` function from built in urllib Python package to download data set in memory. We also shring the length of each series."
   ]
  },
  {
   "cell_type": "code",
   "execution_count": 2,
   "metadata": {
    "collapsed": true
   },
   "outputs": [],
   "source": [
    "url = \"http://timeseriesclassification.com/Downloads/FordA.zip\"\n",
    "series_offset = 505"
   ]
  },
  {
   "cell_type": "code",
   "execution_count": 3,
   "metadata": {
    "collapsed": true
   },
   "outputs": [],
   "source": [
    "url = urlopen(url)\n",
    "zipfile = ZipFile(BytesIO(url.read()))\n",
    "lines = zipfile.open('FordA/FordA.csv').readlines()\n",
    "lines = [l.decode('utf-8') for l in lines]\n",
    "lines = lines[series_offset:]"
   ]
  },
  {
   "cell_type": "markdown",
   "metadata": {},
   "source": [
    "**lines** now is a list of strings with of timeseries in comma separeted format\n",
    "\n",
    "505 is a offset for the beginning of seriases"
   ]
  },
  {
   "cell_type": "code",
   "execution_count": 4,
   "metadata": {
    "collapsed": true
   },
   "outputs": [],
   "source": [
    "lines = [list(map(float, l.split(','))) for l in lines]"
   ]
  },
  {
   "cell_type": "code",
   "execution_count": 5,
   "metadata": {},
   "outputs": [
    {
     "data": {
      "text/plain": [
       "[1.1871,\n",
       " 0.4096,\n",
       " -0.43154,\n",
       " -1.231,\n",
       " -1.9055,\n",
       " -2.3824,\n",
       " -2.588,\n",
       " -2.5018,\n",
       " -2.1353,\n",
       " -1.574]"
      ]
     },
     "execution_count": 5,
     "metadata": {},
     "output_type": "execute_result"
    }
   ],
   "source": [
    "lines[0][:10]"
   ]
  },
  {
   "cell_type": "markdown",
   "metadata": {},
   "source": [
    "Now **lines** is a list of list of floats. Let's convert each embedded list into more convince pandas.Series object."
   ]
  },
  {
   "cell_type": "code",
   "execution_count": 6,
   "metadata": {
    "collapsed": true
   },
   "outputs": [],
   "source": [
    "lines = [pd.Series(l) for l in lines]"
   ]
  },
  {
   "cell_type": "code",
   "execution_count": 7,
   "metadata": {},
   "outputs": [
    {
     "data": {
      "text/plain": [
       "0    1.18710\n",
       "1    0.40960\n",
       "2   -0.43154\n",
       "3   -1.23100\n",
       "4   -1.90550\n",
       "5   -2.38240\n",
       "6   -2.58800\n",
       "7   -2.50180\n",
       "8   -2.13530\n",
       "9   -1.57400\n",
       "dtype: float64"
      ]
     },
     "execution_count": 7,
     "metadata": {},
     "output_type": "execute_result"
    }
   ],
   "source": [
    "lines[0][:10]"
   ]
  },
  {
   "cell_type": "markdown",
   "metadata": {},
   "source": [
    "Now we have a list of pandas.Series objects. Next thing we do is encapsulate list into another series called MultiSeries. Thus list of lists of float became into MultiSeries of pandas.Series objects.\n",
    "\n",
    "We have a global indes for MuiltiSeries and each pandas.Series has it's own index."
   ]
  },
  {
   "cell_type": "code",
   "execution_count": 8,
   "metadata": {
    "collapsed": true
   },
   "outputs": [],
   "source": [
    "X = MultiSeries(lines)"
   ]
  },
  {
   "cell_type": "code",
   "execution_count": 9,
   "metadata": {},
   "outputs": [
    {
     "data": {
      "text/plain": [
       "0    0      1.187100\n",
       "1      0.409600\n",
       "2     -0.43154...\n",
       "1    0      0.094261\n",
       "1      0.310310\n",
       "2      0.53060...\n",
       "2    0     -1.157000\n",
       "1     -1.592600\n",
       "2     -1.50960...\n",
       "3    0      0.356960\n",
       "1      0.300850\n",
       "2      0.24314...\n",
       "4    0      0.307980\n",
       "1      0.370350\n",
       "2      0.26015...\n",
       "dtype: object\n",
       "data_type: <class 'pandas.core.series.Series'>"
      ]
     },
     "execution_count": 9,
     "metadata": {},
     "output_type": "execute_result"
    }
   ],
   "source": [
    "X.head()"
   ]
  },
  {
   "cell_type": "markdown",
   "metadata": {},
   "source": [
    "Output might seems a bit messy. It prints MultiSeries of pandas.Series and **data_type** property. This property shown the type of underlying data into MultiSeries.\n",
    "\n",
    "**X** now is a MultiSeries of pd.Serieses. It means, that every element of this MultiSeries is pd.Series.\n",
    "\n",
    "**X** supports all methods as general pd.Series does."
   ]
  },
  {
   "cell_type": "markdown",
   "metadata": {},
   "source": [
    "## Transformers"
   ]
  },
  {
   "cell_type": "markdown",
   "metadata": {},
   "source": [
    "One of the common task in data science that was a motivation for this project is to extract features from some complex objects (for example series) and than do a fancy machine learning.\n",
    "\n",
    "Having a MultiSeries of pandas.Series one would like to extract features from each Series. That's where Transformers take place. Let's try on example."
   ]
  },
  {
   "cell_type": "markdown",
   "metadata": {},
   "source": [
    "The first simple example of transformer is *TimeSeriesWindowTransformer*. This transformer calculates moving average with given window size."
   ]
  },
  {
   "cell_type": "code",
   "execution_count": 10,
   "metadata": {},
   "outputs": [],
   "source": [
    "tr = TimeSeriesWindowTransformer(windows_size=5)\n",
    "tr.fit(X)\n",
    "transformed_series = tr.transform(X)"
   ]
  },
  {
   "cell_type": "code",
   "execution_count": 11,
   "metadata": {},
   "outputs": [
    {
     "data": {
      "text/plain": [
       "0    0           NaN\n",
       "1           NaN\n",
       "2           Na...\n",
       "1    0           NaN\n",
       "1           NaN\n",
       "2           Na...\n",
       "2    0           NaN\n",
       "1           NaN\n",
       "2           Na...\n",
       "3    0           NaN\n",
       "1           NaN\n",
       "2           Na...\n",
       "4    0           NaN\n",
       "1           NaN\n",
       "2           Na...\n",
       "dtype: object\n",
       "data_type: <class 'pandas.core.series.Series'>"
      ]
     },
     "execution_count": 11,
     "metadata": {},
     "output_type": "execute_result"
    }
   ],
   "source": [
    "transformed_series.head()"
   ]
  },
  {
   "cell_type": "markdown",
   "metadata": {},
   "source": [
    "Of course, with a windows_size = 5 first 4 elements are NaN."
   ]
  },
  {
   "cell_type": "code",
   "execution_count": 12,
   "metadata": {},
   "outputs": [
    {
     "data": {
      "text/plain": [
       "0         NaN\n",
       "1         NaN\n",
       "2         NaN\n",
       "3         NaN\n",
       "4   -0.394268\n",
       "5   -1.108168\n",
       "6   -1.707688\n",
       "7   -2.121740\n",
       "8   -2.302600\n",
       "9   -2.236300\n",
       "dtype: float64"
      ]
     },
     "execution_count": 12,
     "metadata": {},
     "output_type": "execute_result"
    }
   ],
   "source": [
    "transformed_series[0].head(10)"
   ]
  },
  {
   "cell_type": "markdown",
   "metadata": {},
   "source": [
    "Let's try another transformer, probably the most common. It extract several quantitative features from each pandas.Series like mean, std, quantiles. You can pass you own list of features. As a result we have an object **MultiDataFrame**."
   ]
  },
  {
   "cell_type": "code",
   "execution_count": 13,
   "metadata": {},
   "outputs": [],
   "source": [
    "tr = TimeSeriesTransformer()\n",
    "tr.fit(X)\n",
    "transformed_series = tr.transform(X)"
   ]
  },
  {
   "cell_type": "code",
   "execution_count": 14,
   "metadata": {},
   "outputs": [
    {
     "data": {
      "text/plain": [
       "transformers.data_container.data_container.MultiDataFrame"
      ]
     },
     "execution_count": 14,
     "metadata": {},
     "output_type": "execute_result"
    }
   ],
   "source": [
    "type(transformed_series)"
   ]
  },
  {
   "cell_type": "code",
   "execution_count": 15,
   "metadata": {},
   "outputs": [
    {
     "data": {
      "text/html": [
       "<div>\n",
       "<style>\n",
       "    .dataframe thead tr:only-child th {\n",
       "        text-align: right;\n",
       "    }\n",
       "\n",
       "    .dataframe thead th {\n",
       "        text-align: left;\n",
       "    }\n",
       "\n",
       "    .dataframe tbody tr th {\n",
       "        vertical-align: top;\n",
       "    }\n",
       "</style>\n",
       "<table border=\"1\" class=\"dataframe\">\n",
       "  <thead>\n",
       "    <tr style=\"text-align: right;\">\n",
       "      <th></th>\n",
       "      <th>max</th>\n",
       "      <th>mean</th>\n",
       "      <th>median</th>\n",
       "      <th>min</th>\n",
       "      <th>quantile_25</th>\n",
       "      <th>quantile_75</th>\n",
       "      <th>quantile_90</th>\n",
       "      <th>quantile_95</th>\n",
       "      <th>std</th>\n",
       "    </tr>\n",
       "  </thead>\n",
       "  <tbody>\n",
       "    <tr>\n",
       "      <th>0</th>\n",
       "      <td>2.5263</td>\n",
       "      <td>0.001995</td>\n",
       "      <td>0.011186</td>\n",
       "      <td>-2.7875</td>\n",
       "      <td>-0.73635</td>\n",
       "      <td>0.74192</td>\n",
       "      <td>1.2534</td>\n",
       "      <td>1.5463</td>\n",
       "      <td>0.999998</td>\n",
       "    </tr>\n",
       "    <tr>\n",
       "      <th>1</th>\n",
       "      <td>2.6291</td>\n",
       "      <td>0.001997</td>\n",
       "      <td>-0.024726</td>\n",
       "      <td>-2.4357</td>\n",
       "      <td>-0.67411</td>\n",
       "      <td>0.65808</td>\n",
       "      <td>1.3478</td>\n",
       "      <td>1.6595</td>\n",
       "      <td>0.999997</td>\n",
       "    </tr>\n",
       "    <tr>\n",
       "      <th>2</th>\n",
       "      <td>2.6072</td>\n",
       "      <td>-0.001996</td>\n",
       "      <td>0.060685</td>\n",
       "      <td>-3.0132</td>\n",
       "      <td>-0.67588</td>\n",
       "      <td>0.70123</td>\n",
       "      <td>1.2591</td>\n",
       "      <td>1.5184</td>\n",
       "      <td>1.000000</td>\n",
       "    </tr>\n",
       "    <tr>\n",
       "      <th>3</th>\n",
       "      <td>2.6431</td>\n",
       "      <td>-0.001997</td>\n",
       "      <td>-0.022668</td>\n",
       "      <td>-2.7275</td>\n",
       "      <td>-0.66265</td>\n",
       "      <td>0.56858</td>\n",
       "      <td>1.4102</td>\n",
       "      <td>1.8094</td>\n",
       "      <td>0.999997</td>\n",
       "    </tr>\n",
       "    <tr>\n",
       "      <th>4</th>\n",
       "      <td>3.2398</td>\n",
       "      <td>-0.001995</td>\n",
       "      <td>-0.048518</td>\n",
       "      <td>-3.0085</td>\n",
       "      <td>-0.70775</td>\n",
       "      <td>0.64898</td>\n",
       "      <td>1.2540</td>\n",
       "      <td>1.6699</td>\n",
       "      <td>1.000001</td>\n",
       "    </tr>\n",
       "  </tbody>\n",
       "</table>\n",
       "</div>"
      ],
      "text/plain": [
       "      max      mean    median     min  quantile_25  quantile_75  quantile_90  \\\n",
       "0  2.5263  0.001995  0.011186 -2.7875     -0.73635      0.74192       1.2534   \n",
       "1  2.6291  0.001997 -0.024726 -2.4357     -0.67411      0.65808       1.3478   \n",
       "2  2.6072 -0.001996  0.060685 -3.0132     -0.67588      0.70123       1.2591   \n",
       "3  2.6431 -0.001997 -0.022668 -2.7275     -0.66265      0.56858       1.4102   \n",
       "4  3.2398 -0.001995 -0.048518 -3.0085     -0.70775      0.64898       1.2540   \n",
       "\n",
       "   quantile_95       std  \n",
       "0       1.5463  0.999998  \n",
       "1       1.6595  0.999997  \n",
       "2       1.5184  1.000000  \n",
       "3       1.8094  0.999997  \n",
       "4       1.6699  1.000001  "
      ]
     },
     "execution_count": 15,
     "metadata": {},
     "output_type": "execute_result"
    }
   ],
   "source": [
    "transformed_series.head()"
   ]
  },
  {
   "cell_type": "markdown",
   "metadata": {},
   "source": [
    "**MultiDataFrame** is an abstract container based on pandas.DataFrame that can store **MultiSeries** objects.\n",
    "\n",
    "The main feature of **MultiDataFrame** is that you have columns of **MultiSeries** of any **data_type** with ANY objects. For example, one may has a data set Serieses, Images, Texts, plain Numbers, any custom objects. Imagine a 2d data container that stores it. That one would like to write a chain of transformers to create a simple 2d matrix with number ready-to-sklearn predictor.\n",
    "\n",
    "Let's see an example with that. First, let's create a **MultiDataFrame**.\n",
    "\n",
    "Let's **Y** will be a labels for each row."
   ]
  },
  {
   "cell_type": "code",
   "execution_count": 16,
   "metadata": {
    "collapsed": true
   },
   "outputs": [],
   "source": [
    "Y = np.random.binomial(1, 0.5, X.shape[0])\n",
    "Y = MultiSeries(Y)"
   ]
  },
  {
   "cell_type": "code",
   "execution_count": 17,
   "metadata": {
    "collapsed": true
   },
   "outputs": [],
   "source": [
    "df = MultiDataFrame({\n",
    "    'series': X,\n",
    "    'labels': Y\n",
    "})"
   ]
  },
  {
   "cell_type": "code",
   "execution_count": 18,
   "metadata": {},
   "outputs": [
    {
     "data": {
      "text/html": [
       "<div>\n",
       "<style>\n",
       "    .dataframe thead tr:only-child th {\n",
       "        text-align: right;\n",
       "    }\n",
       "\n",
       "    .dataframe thead th {\n",
       "        text-align: left;\n",
       "    }\n",
       "\n",
       "    .dataframe tbody tr th {\n",
       "        vertical-align: top;\n",
       "    }\n",
       "</style>\n",
       "<table border=\"1\" class=\"dataframe\">\n",
       "  <thead>\n",
       "    <tr style=\"text-align: right;\">\n",
       "      <th></th>\n",
       "      <th>labels</th>\n",
       "      <th>series</th>\n",
       "    </tr>\n",
       "  </thead>\n",
       "  <tbody>\n",
       "    <tr>\n",
       "      <th>0</th>\n",
       "      <td>0</td>\n",
       "      <td>0      1.187100\n",
       "1      0.409600\n",
       "2     -0.43154...</td>\n",
       "    </tr>\n",
       "    <tr>\n",
       "      <th>1</th>\n",
       "      <td>0</td>\n",
       "      <td>0      0.094261\n",
       "1      0.310310\n",
       "2      0.53060...</td>\n",
       "    </tr>\n",
       "    <tr>\n",
       "      <th>2</th>\n",
       "      <td>1</td>\n",
       "      <td>0     -1.157000\n",
       "1     -1.592600\n",
       "2     -1.50960...</td>\n",
       "    </tr>\n",
       "    <tr>\n",
       "      <th>3</th>\n",
       "      <td>1</td>\n",
       "      <td>0      0.356960\n",
       "1      0.300850\n",
       "2      0.24314...</td>\n",
       "    </tr>\n",
       "    <tr>\n",
       "      <th>4</th>\n",
       "      <td>1</td>\n",
       "      <td>0      0.307980\n",
       "1      0.370350\n",
       "2      0.26015...</td>\n",
       "    </tr>\n",
       "  </tbody>\n",
       "</table>\n",
       "</div>"
      ],
      "text/plain": [
       "   labels                                             series\n",
       "0       0  0      1.187100\n",
       "1      0.409600\n",
       "2     -0.43154...\n",
       "1       0  0      0.094261\n",
       "1      0.310310\n",
       "2      0.53060...\n",
       "2       1  0     -1.157000\n",
       "1     -1.592600\n",
       "2     -1.50960...\n",
       "3       1  0      0.356960\n",
       "1      0.300850\n",
       "2      0.24314...\n",
       "4       1  0      0.307980\n",
       "1      0.370350\n",
       "2      0.26015..."
      ]
     },
     "execution_count": 18,
     "metadata": {},
     "output_type": "execute_result"
    }
   ],
   "source": [
    "df.head()"
   ]
  },
  {
   "cell_type": "code",
   "execution_count": 19,
   "metadata": {},
   "outputs": [],
   "source": [
    "from transformers.transformers import PipeLineChain\n",
    "from sklearn.decomposition import PCA"
   ]
  },
  {
   "cell_type": "code",
   "execution_count": 20,
   "metadata": {},
   "outputs": [
    {
     "data": {
      "text/plain": [
       "<transformers.transformers.pipeline_transformer.pipeline_transformer.PipeLineChain at 0x117659978>"
      ]
     },
     "execution_count": 20,
     "metadata": {},
     "output_type": "execute_result"
    }
   ],
   "source": [
    "chain = PipeLineChain([\n",
    "    ('moving average trans', TimeSeriesWindowTransformer(window=3)),\n",
    "    ('extract features', TimeSeriesTransformer()),\n",
    "    ('pca', PCA(n_components=5))\n",
    "])\n",
    "chain.fit(X)"
   ]
  },
  {
   "cell_type": "code",
   "execution_count": 21,
   "metadata": {},
   "outputs": [],
   "source": [
    "transformed_X = chain.transform(X)"
   ]
  },
  {
   "cell_type": "code",
   "execution_count": 23,
   "metadata": {},
   "outputs": [
    {
     "data": {
      "text/html": [
       "<div>\n",
       "<style>\n",
       "    .dataframe thead tr:only-child th {\n",
       "        text-align: right;\n",
       "    }\n",
       "\n",
       "    .dataframe thead th {\n",
       "        text-align: left;\n",
       "    }\n",
       "\n",
       "    .dataframe tbody tr th {\n",
       "        vertical-align: top;\n",
       "    }\n",
       "</style>\n",
       "<table border=\"1\" class=\"dataframe\">\n",
       "  <thead>\n",
       "    <tr style=\"text-align: right;\">\n",
       "      <th></th>\n",
       "      <th>0</th>\n",
       "      <th>1</th>\n",
       "      <th>2</th>\n",
       "      <th>3</th>\n",
       "      <th>4</th>\n",
       "    </tr>\n",
       "  </thead>\n",
       "  <tbody>\n",
       "    <tr>\n",
       "      <th>0</th>\n",
       "      <td>-0.075679</td>\n",
       "      <td>-0.211572</td>\n",
       "      <td>-0.100136</td>\n",
       "      <td>0.001429</td>\n",
       "      <td>-0.002408</td>\n",
       "    </tr>\n",
       "    <tr>\n",
       "      <th>1</th>\n",
       "      <td>-0.186301</td>\n",
       "      <td>0.102065</td>\n",
       "      <td>0.086118</td>\n",
       "      <td>-0.022691</td>\n",
       "      <td>0.016804</td>\n",
       "    </tr>\n",
       "    <tr>\n",
       "      <th>2</th>\n",
       "      <td>0.107721</td>\n",
       "      <td>-0.218586</td>\n",
       "      <td>-0.138592</td>\n",
       "      <td>0.094280</td>\n",
       "      <td>0.018337</td>\n",
       "    </tr>\n",
       "    <tr>\n",
       "      <th>3</th>\n",
       "      <td>0.017658</td>\n",
       "      <td>-0.060773</td>\n",
       "      <td>0.220791</td>\n",
       "      <td>-0.101369</td>\n",
       "      <td>0.033387</td>\n",
       "    </tr>\n",
       "    <tr>\n",
       "      <th>4</th>\n",
       "      <td>0.454651</td>\n",
       "      <td>0.149669</td>\n",
       "      <td>-0.046983</td>\n",
       "      <td>-0.061386</td>\n",
       "      <td>-0.009684</td>\n",
       "    </tr>\n",
       "  </tbody>\n",
       "</table>\n",
       "</div>"
      ],
      "text/plain": [
       "          0         1         2         3         4\n",
       "0 -0.075679 -0.211572 -0.100136  0.001429 -0.002408\n",
       "1 -0.186301  0.102065  0.086118 -0.022691  0.016804\n",
       "2  0.107721 -0.218586 -0.138592  0.094280  0.018337\n",
       "3  0.017658 -0.060773  0.220791 -0.101369  0.033387\n",
       "4  0.454651  0.149669 -0.046983 -0.061386 -0.009684"
      ]
     },
     "execution_count": 23,
     "metadata": {},
     "output_type": "execute_result"
    }
   ],
   "source": [
    "transformed_X.head()"
   ]
  },
  {
   "cell_type": "markdown",
   "metadata": {},
   "source": [
    "Now this data set is ready for a plain sklearn estimators!"
   ]
  },
  {
   "cell_type": "code",
   "execution_count": null,
   "metadata": {
    "collapsed": true
   },
   "outputs": [],
   "source": []
  }
 ],
 "metadata": {
  "kernelspec": {
   "display_name": "Python 3",
   "language": "python",
   "name": "python3"
  },
  "language_info": {
   "codemirror_mode": {
    "name": "ipython",
    "version": 3
   },
   "file_extension": ".py",
   "mimetype": "text/x-python",
   "name": "python",
   "nbconvert_exporter": "python",
   "pygments_lexer": "ipython3",
   "version": "3.6.1"
  }
 },
 "nbformat": 4,
 "nbformat_minor": 2
}
