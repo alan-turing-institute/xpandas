{
 "cells": [
  {
   "cell_type": "code",
   "execution_count": 26,
   "metadata": {},
   "outputs": [],
   "source": [
    "from io import BytesIO\n",
    "from zipfile import ZipFile\n",
    "from urllib.request import urlopen\n",
    "\n",
    "import numpy as np\n",
    "import pandas as pd\n",
    "import os, sys\n",
    "import requests\n",
    "\n",
    "sys.path.insert(0, '..')\n",
    "\n",
    "from src.data_container import *\n",
    "from src.transformers.transformer import TimeSeriesTransformer, MeanSeriesTransformer, TimeSeriesWindowTransformer"
   ]
  },
  {
   "cell_type": "code",
   "execution_count": 2,
   "metadata": {
    "collapsed": true
   },
   "outputs": [],
   "source": [
    "# Read a TimeSeries from URL\n",
    "url = urlopen(\"http://timeseriesclassification.com/Downloads/FordA.zip\")\n",
    "zipfile = ZipFile(BytesIO(url.read()))\n",
    "lines = zipfile.open('FordA/FordA.csv').readlines()\n",
    "lines = [l.decode('utf-8') for l in lines]\n",
    "lines = lines[505:]\n",
    "# lines now is a list of strings with of timeseries in comma separeted format\n",
    "# 505 is a offset for the beginning of seriases\n",
    "\n",
    "lines = [list(map(float, l.split(','))) for l in lines]"
   ]
  },
  {
   "cell_type": "code",
   "execution_count": 3,
   "metadata": {},
   "outputs": [
    {
     "name": "stdout",
     "output_type": "stream",
     "text": [
      "[1.1871, 0.4096, -0.43154, -1.231, -1.9055, -2.3824, -2.588, -2.5018, -2.1353, -1.574, -0.91166, -0.22714, 0.39089, 0.88353, 1.238, 1.4727, 1.5854, 1.5933, 1.5315, 1.4036, 1.2306, 1.0142, 0.74192, 0.43362, 0.10467, -0.2137, -0.52068, -0.79469, -1.0135, -1.1783, -1.2761, -1.3088, -1.2806, -1.1731, -0.99626, -0.76029, -0.47029, -0.14312, 0.18773, 0.50561, 0.79928, 1.0324, 1.1799, 1.2534, 1.2749, 1.2402, 1.1735, 1.0902, 0.95442, 0.75877, 0.48319, 0.11091, -0.35159, -0.84831, -1.3091, -1.6437, -1.7931, -1.7212, -1.4338, -0.99613, -0.48343, 0.029891, 0.47766, 0.82164, 1.0528, 1.2022, 1.2865, 1.3139, 1.2876, 1.1994, 1.0033, 0.68395, 0.24401, -0.28083, -0.83819, -1.3471, -1.7308, -1.9242, -1.8969, -1.666, -1.2413, -0.67011, -0.023588, 0.65044, 1.2781, 1.7832, 2.0965, 2.1715, 1.9864, 1.536, 0.86777, 0.082829, -0.70826, -1.3856, -1.8466, -2.012, -1.8724, -1.4558, -0.84879, -0.14262, 0.54696, 1.1013, 1.4682, 1.6087, 1.5331, 1.2713, 0.88522, 0.42504, -0.041895, -0.47022, -0.80565, -1.0163, -1.0884, -1.0203, -0.84213, -0.59961, -0.36369, -0.17527, -0.061426, -0.024328, -0.024593, -0.028638, 0.017907, 0.15547, 0.3726, 0.62632, 0.8494, 1.0045, 1.0487, 0.97111, 0.79406, 0.55865, 0.3335, 0.16167, 0.037835, -0.03716, -0.096717, -0.18555, -0.32598, -0.52573, -0.78153, -1.0492, -1.2742, -1.4274, -1.4751, -1.4064, -1.2073, -0.88656, -0.47323, 0.005212, 0.5157, 1.0276, 1.4778, 1.8063, 1.9829, 1.9882, 1.8369, 1.5463, 1.1515, 0.68828, 0.19867, -0.29135, -0.73563, -1.0931, -1.3194, -1.379, -1.2512, -0.95422, -0.55234, -0.13131, 0.21137, 0.39713, 0.3931, 0.21394, -0.075051, -0.38805, -0.63547, -0.75802, -0.73423, -0.58742, -0.36821, -0.15869, 0.010033, 0.1479, 0.29232, 0.48247, 0.74475, 1.0596, 1.3555, 1.5265, 1.4979, 1.2313, 0.74707, 0.14075, -0.45953, -0.92485, -1.186, -1.2283, -1.0845, -0.82837, -0.54354, -0.29758, -0.12115, -0.01955, 0.037859, 0.07093, 0.092682, 0.11013, 0.13557, 0.15279, 0.15651, 0.15642, 0.16714, 0.19858, 0.25461, 0.32273, 0.3936, 0.43845, 0.43878, 0.388, 0.27977, 0.11053, -0.086031, -0.28407, -0.4736, -0.64232, -0.74099, -0.75823, -0.6951, -0.54223, -0.32335, -0.068786, 0.15723, 0.29117, 0.31366, 0.23537, 0.087973, -0.055938, -0.11942, -0.059666, 0.13835, 0.42955, 0.73128, 0.95201, 1.0443, 0.98377, 0.78962, 0.51178, 0.20175, -0.081821, -0.31557, -0.51919, -0.72425, -0.93802, -1.1338, -1.2739, -1.2856, -1.1156, -0.7379, -0.1936, 0.42007, 0.97831, 1.3496, 1.4383, 1.2282, 0.78316, 0.22333, -0.32155, -0.73907, -0.9488, -0.93756, -0.75003, -0.44059, -0.088842, 0.25969, 0.58572, 0.86163, 1.0804, 1.219, 1.2419, 1.1134, 0.82352, 0.40594, -0.08153, -0.56641, -0.9842, -1.2733, -1.4117, -1.4331, -1.3552, -1.2021, -0.99332, -0.73635, -0.4246, -0.069352, 0.32051, 0.67548, 0.94376, 1.0884, 1.0795, 0.94168, 0.73114, 0.5364, 0.4345, 0.4642, 0.58937, 0.72279, 0.77842, 0.66656, 0.3537, -0.10554, -0.59241, -0.98943, -1.213, -1.2238, -1.0386, -0.734, -0.43284, -0.19802, -0.048082, 0.034648, 0.095805, 0.19018, 0.33392, 0.51046, 0.65988, 0.71697, 0.63232, 0.41215, 0.10875, -0.20647, -0.45722, -0.60184, -0.62066, -0.53869, -0.40979, -0.28936, -0.18651, -0.098782, 0.009355, 0.1536, 0.31605, 0.46664, 0.5317, 0.45689, 0.22087, -0.15844, -0.58543, -0.9396, -1.0909, -0.95564, -0.52929, 0.10808, 0.81515, 1.4488, 1.8732, 2.0262, 1.9052, 1.5533, 1.0339, 0.41853, -0.2312, -0.89172, -1.5331, -2.1097, -2.5575, -2.7875, -2.7055, -2.2666, -1.4929, -0.48896, 0.58584, 1.5408, 2.216, 2.5263, 2.4616, 2.0625, 1.4546, 0.78352, 0.15867, -0.34555, -0.70076, -0.89137, -0.9381, -0.86041, -0.68272, -0.42691, -0.12371, 0.16124, 0.37722, 0.4867, 0.44623, 0.25722, -0.034109, -0.37838, -0.6876, -0.89403, -0.94348, -0.82028, -0.56013, -0.20528, 0.18806, 0.57106, 0.87852, 1.0775, 1.1419, 1.0692, 0.87569, 0.58149, 0.24587, -0.084391, -0.37141, -0.58201, -0.70683, -0.73071, -0.66245, -0.5502, -0.41233, -0.24428, -0.057655, 0.13177, 0.31414, 0.48164, 0.59622, 0.64057, 0.6026, 0.47471, 0.26347, -0.016148, -0.32029, -0.60749, -0.83446, -0.96826, -0.98824, -0.89801, -0.71332, -0.43871, -0.066816, 0.36691, 0.82357, 1.2364, 1.5384, 1.6515, 1.5383, 1.2024, 0.66969, 0.011186, -0.6722, -1.2876, -1.7482, -1.9949, -2.0194, -1.8464, -1.5145, -1.0572, -0.50861, 0.10459, 0.7446, 1.3549, 1.8668, 2.2147, 2.329, 2.1661, 1.7489, 1.1435, 0.45997, -0.16939, -0.65906, -0.96972, -1.1043, -1.1232, -1.098, -1.0852, -1.1051, -1.1408, -1.1612, -1.1068, -0.93222, -0.63277, -0.26312, 0.1232, 0.4604, 0.70968, 0.85789, 0.93524, 0.96753, 0.99178, 1.0237, 1.0424, 1.0417, 1.0187, 0.93878, 0.79607, 0.5856, 0.31028, -0.016134, -0.39555, -0.81689, -1.229, -1.5913, 1.0]\n"
     ]
    }
   ],
   "source": [
    "lines[0]"
   ]
  },
  {
   "cell_type": "code",
   "execution_count": 4,
   "metadata": {
    "collapsed": true
   },
   "outputs": [],
   "source": [
    "# now let's create a list of pd.Series\n",
    "lines = [pd.Series(l) for l in lines]"
   ]
  },
  {
   "cell_type": "code",
   "execution_count": 5,
   "metadata": {},
   "outputs": [
    {
     "data": {
      "text/plain": [
       "0      1.187100\n",
       "1      0.409600\n",
       "2     -0.431540\n",
       "3     -1.231000\n",
       "4     -1.905500\n",
       "5     -2.382400\n",
       "6     -2.588000\n",
       "7     -2.501800\n",
       "8     -2.135300\n",
       "9     -1.574000\n",
       "10    -0.911660\n",
       "11    -0.227140\n",
       "12     0.390890\n",
       "13     0.883530\n",
       "14     1.238000\n",
       "15     1.472700\n",
       "16     1.585400\n",
       "17     1.593300\n",
       "18     1.531500\n",
       "19     1.403600\n",
       "20     1.230600\n",
       "21     1.014200\n",
       "22     0.741920\n",
       "23     0.433620\n",
       "24     0.104670\n",
       "25    -0.213700\n",
       "26    -0.520680\n",
       "27    -0.794690\n",
       "28    -1.013500\n",
       "29    -1.178300\n",
       "         ...   \n",
       "471   -1.098000\n",
       "472   -1.085200\n",
       "473   -1.105100\n",
       "474   -1.140800\n",
       "475   -1.161200\n",
       "476   -1.106800\n",
       "477   -0.932220\n",
       "478   -0.632770\n",
       "479   -0.263120\n",
       "480    0.123200\n",
       "481    0.460400\n",
       "482    0.709680\n",
       "483    0.857890\n",
       "484    0.935240\n",
       "485    0.967530\n",
       "486    0.991780\n",
       "487    1.023700\n",
       "488    1.042400\n",
       "489    1.041700\n",
       "490    1.018700\n",
       "491    0.938780\n",
       "492    0.796070\n",
       "493    0.585600\n",
       "494    0.310280\n",
       "495   -0.016134\n",
       "496   -0.395550\n",
       "497   -0.816890\n",
       "498   -1.229000\n",
       "499   -1.591300\n",
       "500    1.000000\n",
       "Length: 501, dtype: float64"
      ]
     },
     "execution_count": 5,
     "metadata": {},
     "output_type": "execute_result"
    }
   ],
   "source": [
    "lines[0]"
   ]
  },
  {
   "cell_type": "markdown",
   "metadata": {},
   "source": [
    "create a MultiSeries series of pd.Series objects"
   ]
  },
  {
   "cell_type": "code",
   "execution_count": 9,
   "metadata": {
    "collapsed": true
   },
   "outputs": [],
   "source": [
    "X = MultiSeries(lines)"
   ]
  },
  {
   "cell_type": "code",
   "execution_count": 13,
   "metadata": {},
   "outputs": [
    {
     "data": {
      "text/plain": [
       "0    0      1.187100\n",
       "1      0.409600\n",
       "2     -0.43154...\n",
       "1    0      0.094261\n",
       "1      0.310310\n",
       "2      0.53060...\n",
       "2    0     -1.157000\n",
       "1     -1.592600\n",
       "2     -1.50960...\n",
       "3    0      0.356960\n",
       "1      0.300850\n",
       "2      0.24314...\n",
       "4    0      0.307980\n",
       "1      0.370350\n",
       "2      0.26015...\n",
       "dtype: object\n",
       "data_type: <class 'pandas.core.series.Series'>"
      ]
     },
     "execution_count": 13,
     "metadata": {},
     "output_type": "execute_result"
    }
   ],
   "source": [
    "X.head()"
   ]
  },
  {
   "cell_type": "markdown",
   "metadata": {},
   "source": [
    "X now is a Series of pd.Serieses. It means, that every element of this Series is pd.Series.\n",
    "Let's try some transformers over it.\n",
    "First transformer is a windows transformer. This transformer calculated rolling mean with a given windows size (or defaul) and return new series."
   ]
  },
  {
   "cell_type": "code",
   "execution_count": 19,
   "metadata": {
    "collapsed": true
   },
   "outputs": [],
   "source": [
    "tr = TimeSeriesWindowTransformer(windows_size=5)\n",
    "tr.fit()\n",
    "transformed_series = tr.transform(X)"
   ]
  },
  {
   "cell_type": "code",
   "execution_count": 21,
   "metadata": {},
   "outputs": [
    {
     "data": {
      "text/plain": [
       "0    0           NaN\n",
       "1           NaN\n",
       "2           Na...\n",
       "1    0           NaN\n",
       "1           NaN\n",
       "2           Na...\n",
       "2    0           NaN\n",
       "1           NaN\n",
       "2           Na...\n",
       "3    0           NaN\n",
       "1           NaN\n",
       "2           Na...\n",
       "4    0           NaN\n",
       "1           NaN\n",
       "2           Na...\n",
       "dtype: object\n",
       "data_type: <class 'pandas.core.series.Series'>"
      ]
     },
     "execution_count": 21,
     "metadata": {},
     "output_type": "execute_result"
    }
   ],
   "source": [
    "transformed_series.head()"
   ]
  },
  {
   "cell_type": "markdown",
   "metadata": {},
   "source": [
    "Of course, with a widndows_zie = 5 first 4 elements are NaN."
   ]
  },
  {
   "cell_type": "code",
   "execution_count": 23,
   "metadata": {},
   "outputs": [
    {
     "data": {
      "text/plain": [
       "0         NaN\n",
       "1         NaN\n",
       "2         NaN\n",
       "3         NaN\n",
       "4   -0.394268\n",
       "5   -1.108168\n",
       "6   -1.707688\n",
       "7   -2.121740\n",
       "8   -2.302600\n",
       "9   -2.236300\n",
       "dtype: float64"
      ]
     },
     "execution_count": 23,
     "metadata": {},
     "output_type": "execute_result"
    }
   ],
   "source": [
    "transformed_series[0].head(10)"
   ]
  },
  {
   "cell_type": "markdown",
   "metadata": {},
   "source": [
    "Let's try another transformer, that extracts mean and std from series and transform series into DataFrame"
   ]
  },
  {
   "cell_type": "code",
   "execution_count": 28,
   "metadata": {},
   "outputs": [],
   "source": [
    "tr = TimeSeriesTransformer()\n",
    "tr.fit()\n",
    "transformed_series = tr.transform(X)"
   ]
  },
  {
   "cell_type": "code",
   "execution_count": 30,
   "metadata": {},
   "outputs": [
    {
     "data": {
      "text/plain": [
       "src.data_container.MultiDataFrame"
      ]
     },
     "execution_count": 30,
     "metadata": {},
     "output_type": "execute_result"
    }
   ],
   "source": [
    "type(transformed_series)"
   ]
  },
  {
   "cell_type": "markdown",
   "metadata": {},
   "source": [
    "And last example of transformer — transformer with params"
   ]
  },
  {
   "cell_type": "code",
   "execution_count": 31,
   "metadata": {
    "collapsed": true
   },
   "outputs": [],
   "source": [
    "tr = MeanSeriesTransformer()\n",
    "tr.fit(X)\n",
    "transformed_series = tr.transform(X)"
   ]
  },
  {
   "cell_type": "code",
   "execution_count": 33,
   "metadata": {},
   "outputs": [
    {
     "data": {
      "text/plain": [
       "0   -0.002049\n",
       "1   -0.002051\n",
       "2    0.001942\n",
       "3    0.001943\n",
       "4    0.001941\n",
       "5   -0.002050\n",
       "6   -0.002051\n",
       "7    0.001943\n",
       "8    0.001942\n",
       "9    0.001943\n",
       "dtype: float64\n",
       "data_type: <class 'numpy.float64'>"
      ]
     },
     "execution_count": 33,
     "metadata": {},
     "output_type": "execute_result"
    }
   ],
   "source": [
    "transformed_series.head(10)"
   ]
  }
 ],
 "metadata": {
  "kernelspec": {
   "display_name": "Python 3",
   "language": "python",
   "name": "python3"
  },
  "language_info": {
   "codemirror_mode": {
    "name": "ipython",
    "version": 3
   },
   "file_extension": ".py",
   "mimetype": "text/x-python",
   "name": "python",
   "nbconvert_exporter": "python",
   "pygments_lexer": "ipython3",
   "version": "3.6.1"
  }
 },
 "nbformat": 4,
 "nbformat_minor": 2
}
