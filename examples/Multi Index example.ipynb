{
 "cells": [
  {
   "cell_type": "code",
   "execution_count": 1,
   "metadata": {},
   "outputs": [
    {
     "name": "stderr",
     "output_type": "stream",
     "text": [
      "/Users/iwitaly/anaconda/lib/python3.6/site-packages/statsmodels/compat/pandas.py:56: FutureWarning: The pandas.core.datetools module is deprecated and will be removed in a future version. Please use the pandas.tseries module instead.\n",
      "  from pandas.core import datetools\n"
     ]
    }
   ],
   "source": [
    "from io import BytesIO\n",
    "from zipfile import ZipFile\n",
    "from urllib.request import urlopen\n",
    "\n",
    "import numpy as np\n",
    "import pandas as pd\n",
    "import os, sys\n",
    "import requests\n",
    "\n",
    "sys.path.insert(0, '..')\n",
    "\n",
    "from XPandas.data_container import *\n",
    "from XPandas.transformers import TimeSeriesTransformer, TimeSeriesWindowTransformer"
   ]
  },
  {
   "cell_type": "code",
   "execution_count": 3,
   "metadata": {},
   "outputs": [],
   "source": [
    "url = \"http://timeseriesclassification.com/Downloads/FordA.zip\"\n",
    "series_offset = 505\n",
    "\n",
    "url = urlopen(url)\n",
    "zipfile = ZipFile(BytesIO(url.read()))\n",
    "lines = zipfile.open('FordA/FordA.csv').readlines()\n",
    "lines = [l.decode('utf-8') for l in lines]\n",
    "lines = lines[series_offset:]\n",
    "\n",
    "lines = [list(map(float, l.split(','))) for l in lines]\n",
    "lines = [pd.Series(l) for l in lines]"
   ]
  },
  {
   "cell_type": "code",
   "execution_count": 4,
   "metadata": {
    "collapsed": true
   },
   "outputs": [],
   "source": [
    "X = XSeries(lines)"
   ]
  },
  {
   "cell_type": "code",
   "execution_count": 6,
   "metadata": {},
   "outputs": [],
   "source": [
    "X = X[:100]"
   ]
  },
  {
   "cell_type": "code",
   "execution_count": 20,
   "metadata": {
    "collapsed": true
   },
   "outputs": [],
   "source": [
    "arrays = [['bar', 'bar'] * 50,\n",
    "          ['one', 'two'] * 50]"
   ]
  },
  {
   "cell_type": "code",
   "execution_count": 21,
   "metadata": {
    "collapsed": true
   },
   "outputs": [],
   "source": [
    "tuples = list(zip(*arrays))"
   ]
  },
  {
   "cell_type": "code",
   "execution_count": 22,
   "metadata": {
    "collapsed": true
   },
   "outputs": [],
   "source": [
    "index = pd.MultiIndex.from_tuples(tuples, names=['first', 'second'])"
   ]
  },
  {
   "cell_type": "code",
   "execution_count": 27,
   "metadata": {},
   "outputs": [],
   "source": [
    "X.index = index"
   ]
  },
  {
   "cell_type": "code",
   "execution_count": 36,
   "metadata": {},
   "outputs": [
    {
     "data": {
      "text/plain": [
       "one    0      1.187100\n",
       "1      0.409600\n",
       "2     -0.43154...\n",
       "one    0     -1.157000\n",
       "1     -1.592600\n",
       "2     -1.50960...\n",
       "one    0      0.307980\n",
       "1      0.370350\n",
       "2      0.26015...\n",
       "one    0     -2.177300\n",
       "1     -2.561600\n",
       "2     -2.70380...\n",
       "one    0     -0.107870\n",
       "1      0.218320\n",
       "2      0.40373...\n",
       "one    0      0.645240\n",
       "1      0.537010\n",
       "2      0.09812...\n",
       "one    0      0.314840\n",
       "1      0.392740\n",
       "2      0.46544...\n",
       "one    0      0.120580\n",
       "1      0.223730\n",
       "2      0.35442...\n",
       "one    0      0.505630\n",
       "1      0.030397\n",
       "2     -0.36203...\n",
       "one    0      0.057300\n",
       "1      0.505930\n",
       "2      0.91803...\n",
       "one    0      0.550150\n",
       "1      0.063015\n",
       "2     -0.31111...\n",
       "one    0     -1.749400\n",
       "1     -1.828000\n",
       "2     -1.71890...\n",
       "one    0     -1.075200\n",
       "1     -0.836500\n",
       "2     -0.40557...\n",
       "one    0      1.310900\n",
       "1      1.027400\n",
       "2      0.58299...\n",
       "one    0     -1.004400\n",
       "1     -1.127200\n",
       "2     -1.16520...\n",
       "one    0     -2.065800\n",
       "1     -2.112000\n",
       "2     -1.98420...\n",
       "one    0      0.334130\n",
       "1      0.241340\n",
       "2      0.02706...\n",
       "one    0      0.877030\n",
       "1      0.955150\n",
       "2      1.01560...\n",
       "one    0     -0.621050\n",
       "1     -0.378210\n",
       "2     -0.11973...\n",
       "one    0     -0.685440\n",
       "1     -0.843010\n",
       "2     -0.97298...\n",
       "one    0     -0.953890\n",
       "1     -1.487000\n",
       "2     -1.93010...\n",
       "one    0     -0.586310\n",
       "1     -0.540080\n",
       "2     -0.58513...\n",
       "one    0     -0.988660\n",
       "1     -0.877770\n",
       "2     -0.50792...\n",
       "one    0     -1.028000\n",
       "1     -0.449060\n",
       "2      0.08803...\n",
       "one    0      0.209100\n",
       "1      0.263230\n",
       "2      0.25497...\n",
       "one    0      0.908780\n",
       "1      0.770480\n",
       "2      0.58314...\n",
       "one    0     -0.738190\n",
       "1     -0.937610\n",
       "2     -1.05790...\n",
       "one    0      0.426310\n",
       "1      0.023421\n",
       "2     -0.32307...\n",
       "one    0      0.392670\n",
       "1      0.402900\n",
       "2      0.46404...\n",
       "one    0     -0.226220\n",
       "1     -0.239390\n",
       "2     -0.36100...\n",
       "one    0     -0.571160\n",
       "1     -0.399420\n",
       "2     -0.19874...\n",
       "one    0     -0.506430\n",
       "1     -0.857840\n",
       "2     -1.07530...\n",
       "one    0      2.230800\n",
       "1      1.715500\n",
       "2      1.09760...\n",
       "one    0      0.697180\n",
       "1      0.632180\n",
       "2      0.52385...\n",
       "one    0      0.100890\n",
       "1      0.319260\n",
       "2      0.51466...\n",
       "one    0     -0.517610\n",
       "1     -0.946520\n",
       "2     -1.36260...\n",
       "one    0     -0.336190\n",
       "1      0.183260\n",
       "2      0.71514...\n",
       "one    0     -1.104900\n",
       "1     -1.624400\n",
       "2     -2.00320...\n",
       "one    0      0.165800\n",
       "1     -0.115920\n",
       "2     -0.23935...\n",
       "one    0     -0.496460\n",
       "1     -0.536500\n",
       "2     -0.47456...\n",
       "one    0      2.522800\n",
       "1      2.660800\n",
       "2      2.61830...\n",
       "one    0     -1.594400\n",
       "1     -1.691700\n",
       "2     -1.48640...\n",
       "one    0      0.813040\n",
       "1      1.171000\n",
       "2      1.46050...\n",
       "one    0      1.223900\n",
       "1      0.997360\n",
       "2      0.72861...\n",
       "one    0      0.602670\n",
       "1      0.424030\n",
       "2      0.23779...\n",
       "one    0      2.058100\n",
       "1      1.730300\n",
       "2      1.20240...\n",
       "one    0     -0.517150\n",
       "1     -0.870280\n",
       "2     -1.11310...\n",
       "one    0     -0.193110\n",
       "1     -0.200420\n",
       "2     -0.20383...\n",
       "one    0     -0.573450\n",
       "1     -0.986430\n",
       "2     -1.32420...\n",
       "one    0     -1.50320\n",
       "1     -1.85420\n",
       "2     -1.91660\n",
       "3...\n",
       "dtype: object\n",
       "data_type: <class 'pandas.core.series.Series'>"
      ]
     },
     "execution_count": 36,
     "metadata": {},
     "output_type": "execute_result"
    }
   ],
   "source": [
    "X['bar']['one']"
   ]
  }
 ],
 "metadata": {
  "kernelspec": {
   "display_name": "Python 3",
   "language": "python",
   "name": "python3"
  },
  "language_info": {
   "codemirror_mode": {
    "name": "ipython",
    "version": 3
   },
   "file_extension": ".py",
   "mimetype": "text/x-python",
   "name": "python",
   "nbconvert_exporter": "python",
   "pygments_lexer": "ipython3",
   "version": "3.6.1"
  }
 },
 "nbformat": 4,
 "nbformat_minor": 2
}
