{
 "cells": [
  {
   "cell_type": "markdown",
   "metadata": {},
   "source": [
    "# User Guide"
   ]
  },
  {
   "cell_type": "markdown",
   "metadata": {},
   "source": [
    "This notebook presents basic usage examples of the XPandas package."
   ]
  },
  {
   "cell_type": "markdown",
   "metadata": {},
   "source": [
    "### Example dataset"
   ]
  },
  {
   "cell_type": "code",
   "execution_count": 1,
   "metadata": {},
   "outputs": [
    {
     "name": "stderr",
     "output_type": "stream",
     "text": [
      "/Users/iwitaly/anaconda/lib/python3.6/site-packages/statsmodels/compat/pandas.py:56: FutureWarning: The pandas.core.datetools module is deprecated and will be removed in a future version. Please use the pandas.tseries module instead.\n",
      "  from pandas.core import datetools\n"
     ]
    }
   ],
   "source": [
    "from io import BytesIO\n",
    "from zipfile import ZipFile\n",
    "from urllib.request import urlopen\n",
    "\n",
    "import numpy as np\n",
    "import pandas as pd\n",
    "import os, sys\n",
    "import requests\n",
    "\n",
    "sys.path.insert(0, '..')\n",
    "\n",
    "from XPandas.data_container import *\n",
    "from XPandas.transformers import TimeSeriesTransformer, TimeSeriesWindowTransformer"
   ]
  },
  {
   "cell_type": "markdown",
   "metadata": {},
   "source": [
    "The usage example shown is based on open source time series [data set](http://timeseriesclassification.com/Downloads/FordA.zip).\n",
    "\n",
    "The first thing we need to do is to read data. Here, we use the `urlopen` function from Python's built-in urllib to download data set and limit the length of each data series."
   ]
  },
  {
   "cell_type": "code",
   "execution_count": 2,
   "metadata": {
    "collapsed": true
   },
   "outputs": [],
   "source": [
    "url = \"http://timeseriesclassification.com/Downloads/FordA.zip\"\n",
    "series_offset = 505"
   ]
  },
  {
   "cell_type": "code",
   "execution_count": 3,
   "metadata": {
    "collapsed": true
   },
   "outputs": [],
   "source": [
    "url = urlopen(url)\n",
    "zipfile = ZipFile(BytesIO(url.read()))\n",
    "lines = zipfile.open('FordA/FordA.csv').readlines()\n",
    "lines = [l.decode('utf-8') for l in lines]\n",
    "lines = lines[series_offset:]"
   ]
  },
  {
   "cell_type": "markdown",
   "metadata": {},
   "source": [
    "``lines`` is now a list of strings representing timeseries in a comma separated format that we can convert into floats"
   ]
  },
  {
   "cell_type": "code",
   "execution_count": 4,
   "metadata": {
    "collapsed": true
   },
   "outputs": [],
   "source": [
    "lines = [list(map(float, l.split(','))) for l in lines]"
   ]
  },
  {
   "cell_type": "code",
   "execution_count": 5,
   "metadata": {},
   "outputs": [
    {
     "data": {
      "text/plain": [
       "[1.1871,\n",
       " 0.4096,\n",
       " -0.43154,\n",
       " -1.231,\n",
       " -1.9055,\n",
       " -2.3824,\n",
       " -2.588,\n",
       " -2.5018,\n",
       " -2.1353,\n",
       " -1.574]"
      ]
     },
     "execution_count": 5,
     "metadata": {},
     "output_type": "execute_result"
    }
   ],
   "source": [
    "lines[0][:10]"
   ]
  },
  {
   "cell_type": "markdown",
   "metadata": {},
   "source": [
    "Let's convert each embedded list into more convenient ``pandas.Series`` object."
   ]
  },
  {
   "cell_type": "code",
   "execution_count": 6,
   "metadata": {
    "collapsed": true
   },
   "outputs": [],
   "source": [
    "lines = [pd.Series(l) for l in lines]"
   ]
  },
  {
   "cell_type": "code",
   "execution_count": 7,
   "metadata": {},
   "outputs": [
    {
     "data": {
      "text/plain": [
       "0    1.18710\n",
       "1    0.40960\n",
       "2   -0.43154\n",
       "3   -1.23100\n",
       "4   -1.90550\n",
       "5   -2.38240\n",
       "6   -2.58800\n",
       "7   -2.50180\n",
       "8   -2.13530\n",
       "9   -1.57400\n",
       "dtype: float64"
      ]
     },
     "execution_count": 7,
     "metadata": {},
     "output_type": "execute_result"
    }
   ],
   "source": [
    "lines[0][:10]"
   ]
  },
  {
   "cell_type": "markdown",
   "metadata": {},
   "source": [
    "## XPandas: Data structures"
   ]
  },
  {
   "cell_type": "markdown",
   "metadata": {},
   "source": [
    "### XSeries"
   ]
  },
  {
   "cell_type": "markdown",
   "metadata": {},
   "source": [
    "``XSeries`` is a 1d data container that can store any objects inside.\n",
    "\n",
    "Using the ``pandas.Series`` objects we can encapsulate the list ``lines`` into ``XSeries`` object. The object has a global index of series and an sub-index for each ``pandas.Series``."
   ]
  },
  {
   "cell_type": "code",
   "execution_count": 8,
   "metadata": {
    "collapsed": true
   },
   "outputs": [],
   "source": [
    "X = XSeries(lines)"
   ]
  },
  {
   "cell_type": "code",
   "execution_count": 9,
   "metadata": {},
   "outputs": [
    {
     "data": {
      "text/plain": [
       "0    0      1.187100\n",
       "1      0.409600\n",
       "2     -0.43154...\n",
       "1    0      0.094261\n",
       "1      0.310310\n",
       "2      0.53060...\n",
       "2    0     -1.157000\n",
       "1     -1.592600\n",
       "2     -1.50960...\n",
       "3    0      0.356960\n",
       "1      0.300850\n",
       "2      0.24314...\n",
       "4    0      0.307980\n",
       "1      0.370350\n",
       "2      0.26015...\n",
       "dtype: object\n",
       "data_type: <class 'pandas.core.series.Series'>"
      ]
     },
     "execution_count": 9,
     "metadata": {},
     "output_type": "execute_result"
    }
   ],
   "source": [
    "X.head()"
   ]
  },
  {
   "cell_type": "markdown",
   "metadata": {},
   "source": [
    "The output reveals the ``data_type`` property of the ``XSeries`` object which contains the type of the contained objects, in this case, ``pandas.Series``. The ``XSeries`` is thus build up of ``pandas.Series``. Specifically, ``X`` supports all methods of its containing object ``pandas.Series``."
   ]
  },
  {
   "cell_type": "markdown",
   "metadata": {},
   "source": [
    "### XDataFrame"
   ]
  },
  {
   "cell_type": "markdown",
   "metadata": {},
   "source": [
    "``XDataFrame`` is an abstract 2d container that is based on ``pandas.DataFrame`` and stores ``XSeries`` objects.\n",
    "\n",
    "The main feature of the ``XDataFrame`` are columns of ``XSeries`` that can contain and manage any **data_type**. For example, one may have a data set consisting of series, images, texts, plain numbers, or even custom objects. Ideally, we would want to handle such different data types in a unified 2d data container, e.g. a chain of transformers to create a simple 2d matrix of training data.\n",
    "\n",
    "The following examples illustrates such a ``XDataFrame`` workflow.\n",
    "\n",
    "Let ``Y`` be a vector of labels for each row."
   ]
  },
  {
   "cell_type": "code",
   "execution_count": 10,
   "metadata": {
    "collapsed": true
   },
   "outputs": [],
   "source": [
    "Y = np.random.binomial(1, 0.5, X.shape[0])\n",
    "Y = XSeries(Y)"
   ]
  },
  {
   "cell_type": "code",
   "execution_count": 11,
   "metadata": {
    "collapsed": true
   },
   "outputs": [],
   "source": [
    "df = XDataFrame({\n",
    "    'X': X,\n",
    "    'Y': Y\n",
    "})"
   ]
  },
  {
   "cell_type": "code",
   "execution_count": 12,
   "metadata": {},
   "outputs": [
    {
     "data": {
      "text/html": [
       "<div>\n",
       "<style>\n",
       "    .dataframe thead tr:only-child th {\n",
       "        text-align: right;\n",
       "    }\n",
       "\n",
       "    .dataframe thead th {\n",
       "        text-align: left;\n",
       "    }\n",
       "\n",
       "    .dataframe tbody tr th {\n",
       "        vertical-align: top;\n",
       "    }\n",
       "</style>\n",
       "<table border=\"1\" class=\"dataframe\">\n",
       "  <thead>\n",
       "    <tr style=\"text-align: right;\">\n",
       "      <th></th>\n",
       "      <th>X</th>\n",
       "      <th>Y</th>\n",
       "    </tr>\n",
       "  </thead>\n",
       "  <tbody>\n",
       "    <tr>\n",
       "      <th>0</th>\n",
       "      <td>0      1.187100\n",
       "1      0.409600\n",
       "2     -0.43154...</td>\n",
       "      <td>0</td>\n",
       "    </tr>\n",
       "    <tr>\n",
       "      <th>1</th>\n",
       "      <td>0      0.094261\n",
       "1      0.310310\n",
       "2      0.53060...</td>\n",
       "      <td>1</td>\n",
       "    </tr>\n",
       "    <tr>\n",
       "      <th>2</th>\n",
       "      <td>0     -1.157000\n",
       "1     -1.592600\n",
       "2     -1.50960...</td>\n",
       "      <td>0</td>\n",
       "    </tr>\n",
       "    <tr>\n",
       "      <th>3</th>\n",
       "      <td>0      0.356960\n",
       "1      0.300850\n",
       "2      0.24314...</td>\n",
       "      <td>0</td>\n",
       "    </tr>\n",
       "    <tr>\n",
       "      <th>4</th>\n",
       "      <td>0      0.307980\n",
       "1      0.370350\n",
       "2      0.26015...</td>\n",
       "      <td>1</td>\n",
       "    </tr>\n",
       "  </tbody>\n",
       "</table>\n",
       "</div>"
      ],
      "text/plain": [
       "                                                   X  Y\n",
       "0  0      1.187100\n",
       "1      0.409600\n",
       "2     -0.43154...  0\n",
       "1  0      0.094261\n",
       "1      0.310310\n",
       "2      0.53060...  1\n",
       "2  0     -1.157000\n",
       "1     -1.592600\n",
       "2     -1.50960...  0\n",
       "3  0      0.356960\n",
       "1      0.300850\n",
       "2      0.24314...  0\n",
       "4  0      0.307980\n",
       "1      0.370350\n",
       "2      0.26015...  1"
      ]
     },
     "execution_count": 12,
     "metadata": {},
     "output_type": "execute_result"
    }
   ],
   "source": [
    "df.head()"
   ]
  },
  {
   "cell_type": "markdown",
   "metadata": {},
   "source": [
    "Add new column to XDataFrame:"
   ]
  },
  {
   "cell_type": "code",
   "execution_count": 13,
   "metadata": {
    "collapsed": true
   },
   "outputs": [],
   "source": [
    "df['X_1'] = XSeries([\n",
    "    pd.Series(np.random.normal(size=100))\n",
    "    for _ in range(X.shape[0])\n",
    "])"
   ]
  },
  {
   "cell_type": "markdown",
   "metadata": {},
   "source": [
    "## XPandas: Transformers"
   ]
  },
  {
   "cell_type": "markdown",
   "metadata": {},
   "source": [
    "A major motivation for this project is the common data science task of extracting features from some complex objects (for example series) before proceeding with the machine learning.\n",
    "\n",
    "Given a ``XSeries`` of ``pandas.Series`` one would, for instance, like to extract features from each series. That's where *Transformers* play a vital role.\n",
    "\n",
    "Each ``Transformer`` object support ``fit, transform`` methods just like [scikit-learn transformers](http://scikit-learn.org/stable/data_transforms.html).\n",
    "\n",
    "Let's explore some examples."
   ]
  },
  {
   "cell_type": "markdown",
   "metadata": {},
   "source": [
    "### TimeSeriesWindowTransformer\n",
    "\n",
    "This transformer calculates moving average with given window size."
   ]
  },
  {
   "cell_type": "code",
   "execution_count": 14,
   "metadata": {
    "collapsed": true
   },
   "outputs": [],
   "source": [
    "tr = TimeSeriesWindowTransformer(windows_size=5)\n",
    "tr.fit(X)\n",
    "transformed_series = tr.transform(X)"
   ]
  },
  {
   "cell_type": "code",
   "execution_count": 15,
   "metadata": {},
   "outputs": [
    {
     "data": {
      "text/plain": [
       "0    4     -0.394268\n",
       "5     -1.108168\n",
       "6     -1.70768...\n",
       "1    4      0.509686\n",
       "5      0.680500\n",
       "6      0.80574...\n",
       "2    4     -1.098344\n",
       "5     -0.755320\n",
       "6     -0.21608...\n",
       "3    4      0.234223\n",
       "5      0.165730\n",
       "6      0.09269...\n",
       "4    4      0.202701\n",
       "5      0.154336\n",
       "6      0.14082...\n",
       "dtype: object\n",
       "data_type: <class 'pandas.core.series.Series'>"
      ]
     },
     "execution_count": 15,
     "metadata": {},
     "output_type": "execute_result"
    }
   ],
   "source": [
    "transformed_series.head()"
   ]
  },
  {
   "cell_type": "markdown",
   "metadata": {},
   "source": [
    "Of course, with a windows_size = 5 first 4 elements are NaN."
   ]
  },
  {
   "cell_type": "code",
   "execution_count": 16,
   "metadata": {},
   "outputs": [
    {
     "data": {
      "text/plain": [
       "4    -0.394268\n",
       "5    -1.108168\n",
       "6    -1.707688\n",
       "7    -2.121740\n",
       "8    -2.302600\n",
       "9    -2.236300\n",
       "10   -1.942152\n",
       "11   -1.469980\n",
       "12   -0.891442\n",
       "13   -0.287676\n",
       "dtype: float64"
      ]
     },
     "execution_count": 16,
     "metadata": {},
     "output_type": "execute_result"
    }
   ],
   "source": [
    "transformed_series[0].head(10)"
   ]
  },
  {
   "cell_type": "markdown",
   "metadata": {},
   "source": [
    "### TimeSeriesTransformer\n",
    "\n",
    "Let's try another transformer, probably the most common one. It extract several quantitative features from each pandas.Series like mean, std, quantiles. You can also pass you own list of features. As a result we retrieve a ``XDataFrame`` object."
   ]
  },
  {
   "cell_type": "code",
   "execution_count": 17,
   "metadata": {
    "collapsed": true
   },
   "outputs": [],
   "source": [
    "tr = TimeSeriesTransformer()\n",
    "tr.fit(X)\n",
    "transformed_series = tr.transform(X)"
   ]
  },
  {
   "cell_type": "code",
   "execution_count": 18,
   "metadata": {},
   "outputs": [
    {
     "data": {
      "text/plain": [
       "XPandas.data_container.data_container.XDataFrame"
      ]
     },
     "execution_count": 18,
     "metadata": {},
     "output_type": "execute_result"
    }
   ],
   "source": [
    "type(transformed_series)"
   ]
  },
  {
   "cell_type": "code",
   "execution_count": 19,
   "metadata": {},
   "outputs": [
    {
     "data": {
      "text/html": [
       "<div>\n",
       "<style>\n",
       "    .dataframe thead tr:only-child th {\n",
       "        text-align: right;\n",
       "    }\n",
       "\n",
       "    .dataframe thead th {\n",
       "        text-align: left;\n",
       "    }\n",
       "\n",
       "    .dataframe tbody tr th {\n",
       "        vertical-align: top;\n",
       "    }\n",
       "</style>\n",
       "<table border=\"1\" class=\"dataframe\">\n",
       "  <thead>\n",
       "    <tr style=\"text-align: right;\">\n",
       "      <th></th>\n",
       "      <th>None_TimeSeriesTransformer_max</th>\n",
       "      <th>None_TimeSeriesTransformer_mean</th>\n",
       "      <th>None_TimeSeriesTransformer_median</th>\n",
       "      <th>None_TimeSeriesTransformer_min</th>\n",
       "      <th>None_TimeSeriesTransformer_quantile_25</th>\n",
       "      <th>None_TimeSeriesTransformer_quantile_75</th>\n",
       "      <th>None_TimeSeriesTransformer_quantile_90</th>\n",
       "      <th>None_TimeSeriesTransformer_quantile_95</th>\n",
       "      <th>None_TimeSeriesTransformer_std</th>\n",
       "    </tr>\n",
       "  </thead>\n",
       "  <tbody>\n",
       "    <tr>\n",
       "      <th>0</th>\n",
       "      <td>2.5263</td>\n",
       "      <td>0.001995</td>\n",
       "      <td>0.011186</td>\n",
       "      <td>-2.7875</td>\n",
       "      <td>-0.73635</td>\n",
       "      <td>0.74192</td>\n",
       "      <td>1.2534</td>\n",
       "      <td>1.5463</td>\n",
       "      <td>0.999998</td>\n",
       "    </tr>\n",
       "    <tr>\n",
       "      <th>1</th>\n",
       "      <td>2.6291</td>\n",
       "      <td>0.001997</td>\n",
       "      <td>-0.024726</td>\n",
       "      <td>-2.4357</td>\n",
       "      <td>-0.67411</td>\n",
       "      <td>0.65808</td>\n",
       "      <td>1.3478</td>\n",
       "      <td>1.6595</td>\n",
       "      <td>0.999997</td>\n",
       "    </tr>\n",
       "    <tr>\n",
       "      <th>2</th>\n",
       "      <td>2.6072</td>\n",
       "      <td>-0.001996</td>\n",
       "      <td>0.060685</td>\n",
       "      <td>-3.0132</td>\n",
       "      <td>-0.67588</td>\n",
       "      <td>0.70123</td>\n",
       "      <td>1.2591</td>\n",
       "      <td>1.5184</td>\n",
       "      <td>1.000000</td>\n",
       "    </tr>\n",
       "    <tr>\n",
       "      <th>3</th>\n",
       "      <td>2.6431</td>\n",
       "      <td>-0.001997</td>\n",
       "      <td>-0.022668</td>\n",
       "      <td>-2.7275</td>\n",
       "      <td>-0.66265</td>\n",
       "      <td>0.56858</td>\n",
       "      <td>1.4102</td>\n",
       "      <td>1.8094</td>\n",
       "      <td>0.999997</td>\n",
       "    </tr>\n",
       "    <tr>\n",
       "      <th>4</th>\n",
       "      <td>3.2398</td>\n",
       "      <td>-0.001995</td>\n",
       "      <td>-0.048518</td>\n",
       "      <td>-3.0085</td>\n",
       "      <td>-0.70775</td>\n",
       "      <td>0.64898</td>\n",
       "      <td>1.2540</td>\n",
       "      <td>1.6699</td>\n",
       "      <td>1.000001</td>\n",
       "    </tr>\n",
       "  </tbody>\n",
       "</table>\n",
       "</div>"
      ],
      "text/plain": [
       "   None_TimeSeriesTransformer_max  None_TimeSeriesTransformer_mean  \\\n",
       "0                          2.5263                         0.001995   \n",
       "1                          2.6291                         0.001997   \n",
       "2                          2.6072                        -0.001996   \n",
       "3                          2.6431                        -0.001997   \n",
       "4                          3.2398                        -0.001995   \n",
       "\n",
       "   None_TimeSeriesTransformer_median  None_TimeSeriesTransformer_min  \\\n",
       "0                           0.011186                         -2.7875   \n",
       "1                          -0.024726                         -2.4357   \n",
       "2                           0.060685                         -3.0132   \n",
       "3                          -0.022668                         -2.7275   \n",
       "4                          -0.048518                         -3.0085   \n",
       "\n",
       "   None_TimeSeriesTransformer_quantile_25  \\\n",
       "0                                -0.73635   \n",
       "1                                -0.67411   \n",
       "2                                -0.67588   \n",
       "3                                -0.66265   \n",
       "4                                -0.70775   \n",
       "\n",
       "   None_TimeSeriesTransformer_quantile_75  \\\n",
       "0                                 0.74192   \n",
       "1                                 0.65808   \n",
       "2                                 0.70123   \n",
       "3                                 0.56858   \n",
       "4                                 0.64898   \n",
       "\n",
       "   None_TimeSeriesTransformer_quantile_90  \\\n",
       "0                                  1.2534   \n",
       "1                                  1.3478   \n",
       "2                                  1.2591   \n",
       "3                                  1.4102   \n",
       "4                                  1.2540   \n",
       "\n",
       "   None_TimeSeriesTransformer_quantile_95  None_TimeSeriesTransformer_std  \n",
       "0                                  1.5463                        0.999998  \n",
       "1                                  1.6595                        0.999997  \n",
       "2                                  1.5184                        1.000000  \n",
       "3                                  1.8094                        0.999997  \n",
       "4                                  1.6699                        1.000001  "
      ]
     },
     "execution_count": 19,
     "metadata": {},
     "output_type": "execute_result"
    }
   ],
   "source": [
    "transformed_series.head()"
   ]
  },
  {
   "cell_type": "markdown",
   "metadata": {},
   "source": [
    "We can also make use of the TSFresh transformer"
   ]
  },
  {
   "cell_type": "code",
   "execution_count": 20,
   "metadata": {
    "collapsed": true
   },
   "outputs": [],
   "source": [
    "from XPandas.transformers import TsFreshSeriesTransformer"
   ]
  },
  {
   "cell_type": "code",
   "execution_count": 21,
   "metadata": {
    "collapsed": true
   },
   "outputs": [],
   "source": [
    "tr = TsFreshSeriesTransformer()\n",
    "tr.fit(X.head())\n",
    "transformed_series = tr.transform(X.head())"
   ]
  },
  {
   "cell_type": "code",
   "execution_count": 22,
   "metadata": {},
   "outputs": [
    {
     "data": {
      "text/html": [
       "<div>\n",
       "<style>\n",
       "    .dataframe thead tr:only-child th {\n",
       "        text-align: right;\n",
       "    }\n",
       "\n",
       "    .dataframe thead th {\n",
       "        text-align: left;\n",
       "    }\n",
       "\n",
       "    .dataframe tbody tr th {\n",
       "        vertical-align: top;\n",
       "    }\n",
       "</style>\n",
       "<table border=\"1\" class=\"dataframe\">\n",
       "  <thead>\n",
       "    <tr style=\"text-align: right;\">\n",
       "      <th></th>\n",
       "      <th>None__abs_energy</th>\n",
       "      <th>None__absolute_sum_of_changes</th>\n",
       "      <th>None__agg_autocorrelation__f_agg_\"mean\"</th>\n",
       "      <th>None__agg_autocorrelation__f_agg_\"median\"</th>\n",
       "      <th>None__agg_autocorrelation__f_agg_\"var\"</th>\n",
       "      <th>None__agg_linear_trend__f_agg_\"max\"__chunk_len_10__attr_\"intercept\"</th>\n",
       "      <th>None__agg_linear_trend__f_agg_\"max\"__chunk_len_10__attr_\"rvalue\"</th>\n",
       "      <th>None__agg_linear_trend__f_agg_\"max\"__chunk_len_10__attr_\"slope\"</th>\n",
       "      <th>None__agg_linear_trend__f_agg_\"max\"__chunk_len_10__attr_\"stderr\"</th>\n",
       "      <th>None__agg_linear_trend__f_agg_\"max\"__chunk_len_50__attr_\"intercept\"</th>\n",
       "      <th>...</th>\n",
       "      <th>None__time_reversal_asymmetry_statistic__lag_1</th>\n",
       "      <th>None__time_reversal_asymmetry_statistic__lag_2</th>\n",
       "      <th>None__time_reversal_asymmetry_statistic__lag_3</th>\n",
       "      <th>None__value_count__value_-inf</th>\n",
       "      <th>None__value_count__value_0</th>\n",
       "      <th>None__value_count__value_1</th>\n",
       "      <th>None__value_count__value_inf</th>\n",
       "      <th>None__value_count__value_nan</th>\n",
       "      <th>None__variance</th>\n",
       "      <th>None__variance_larger_than_standard_deviation</th>\n",
       "    </tr>\n",
       "  </thead>\n",
       "  <tbody>\n",
       "    <tr>\n",
       "      <th>0</th>\n",
       "      <td>500.000126</td>\n",
       "      <td>134.513280</td>\n",
       "      <td>-0.012049</td>\n",
       "      <td>0.020975</td>\n",
       "      <td>0.129473</td>\n",
       "      <td>0.949115</td>\n",
       "      <td>-0.027843</td>\n",
       "      <td>-0.001282</td>\n",
       "      <td>0.006577</td>\n",
       "      <td>1.719095</td>\n",
       "      <td>...</td>\n",
       "      <td>-0.007374</td>\n",
       "      <td>-0.012282</td>\n",
       "      <td>-0.015967</td>\n",
       "      <td>0</td>\n",
       "      <td>0</td>\n",
       "      <td>1</td>\n",
       "      <td>0</td>\n",
       "      <td>0</td>\n",
       "      <td>0.998000</td>\n",
       "      <td>False</td>\n",
       "    </tr>\n",
       "    <tr>\n",
       "      <th>1</th>\n",
       "      <td>499.999290</td>\n",
       "      <td>114.289925</td>\n",
       "      <td>0.003075</td>\n",
       "      <td>-0.001312</td>\n",
       "      <td>0.227381</td>\n",
       "      <td>0.810495</td>\n",
       "      <td>0.014560</td>\n",
       "      <td>0.000742</td>\n",
       "      <td>0.007283</td>\n",
       "      <td>1.736565</td>\n",
       "      <td>...</td>\n",
       "      <td>0.000400</td>\n",
       "      <td>-0.002280</td>\n",
       "      <td>-0.011068</td>\n",
       "      <td>0</td>\n",
       "      <td>0</td>\n",
       "      <td>1</td>\n",
       "      <td>0</td>\n",
       "      <td>0</td>\n",
       "      <td>0.997999</td>\n",
       "      <td>False</td>\n",
       "    </tr>\n",
       "    <tr>\n",
       "      <th>2</th>\n",
       "      <td>500.001514</td>\n",
       "      <td>164.089622</td>\n",
       "      <td>-0.013172</td>\n",
       "      <td>-0.005309</td>\n",
       "      <td>0.066725</td>\n",
       "      <td>1.065365</td>\n",
       "      <td>-0.088829</td>\n",
       "      <td>-0.004117</td>\n",
       "      <td>0.006595</td>\n",
       "      <td>2.183568</td>\n",
       "      <td>...</td>\n",
       "      <td>0.004354</td>\n",
       "      <td>0.003302</td>\n",
       "      <td>-0.017264</td>\n",
       "      <td>0</td>\n",
       "      <td>0</td>\n",
       "      <td>0</td>\n",
       "      <td>0</td>\n",
       "      <td>0</td>\n",
       "      <td>0.998003</td>\n",
       "      <td>False</td>\n",
       "    </tr>\n",
       "    <tr>\n",
       "      <th>3</th>\n",
       "      <td>499.999445</td>\n",
       "      <td>103.510040</td>\n",
       "      <td>-0.005639</td>\n",
       "      <td>-0.022600</td>\n",
       "      <td>0.281820</td>\n",
       "      <td>1.141145</td>\n",
       "      <td>-0.214194</td>\n",
       "      <td>-0.012728</td>\n",
       "      <td>0.008292</td>\n",
       "      <td>2.641368</td>\n",
       "      <td>...</td>\n",
       "      <td>-0.002460</td>\n",
       "      <td>0.000917</td>\n",
       "      <td>0.012002</td>\n",
       "      <td>0</td>\n",
       "      <td>0</td>\n",
       "      <td>0</td>\n",
       "      <td>0</td>\n",
       "      <td>0</td>\n",
       "      <td>0.997999</td>\n",
       "      <td>False</td>\n",
       "    </tr>\n",
       "    <tr>\n",
       "      <th>4</th>\n",
       "      <td>500.003011</td>\n",
       "      <td>154.299542</td>\n",
       "      <td>0.001552</td>\n",
       "      <td>0.006698</td>\n",
       "      <td>0.060942</td>\n",
       "      <td>0.842727</td>\n",
       "      <td>0.119359</td>\n",
       "      <td>0.007096</td>\n",
       "      <td>0.008432</td>\n",
       "      <td>2.007018</td>\n",
       "      <td>...</td>\n",
       "      <td>0.000949</td>\n",
       "      <td>0.005811</td>\n",
       "      <td>0.019023</td>\n",
       "      <td>0</td>\n",
       "      <td>0</td>\n",
       "      <td>0</td>\n",
       "      <td>0</td>\n",
       "      <td>0</td>\n",
       "      <td>0.998006</td>\n",
       "      <td>False</td>\n",
       "    </tr>\n",
       "  </tbody>\n",
       "</table>\n",
       "<p>5 rows × 788 columns</p>\n",
       "</div>"
      ],
      "text/plain": [
       "   None__abs_energy  None__absolute_sum_of_changes  \\\n",
       "0        500.000126                     134.513280   \n",
       "1        499.999290                     114.289925   \n",
       "2        500.001514                     164.089622   \n",
       "3        499.999445                     103.510040   \n",
       "4        500.003011                     154.299542   \n",
       "\n",
       "   None__agg_autocorrelation__f_agg_\"mean\"  \\\n",
       "0                                -0.012049   \n",
       "1                                 0.003075   \n",
       "2                                -0.013172   \n",
       "3                                -0.005639   \n",
       "4                                 0.001552   \n",
       "\n",
       "   None__agg_autocorrelation__f_agg_\"median\"  \\\n",
       "0                                   0.020975   \n",
       "1                                  -0.001312   \n",
       "2                                  -0.005309   \n",
       "3                                  -0.022600   \n",
       "4                                   0.006698   \n",
       "\n",
       "   None__agg_autocorrelation__f_agg_\"var\"  \\\n",
       "0                                0.129473   \n",
       "1                                0.227381   \n",
       "2                                0.066725   \n",
       "3                                0.281820   \n",
       "4                                0.060942   \n",
       "\n",
       "   None__agg_linear_trend__f_agg_\"max\"__chunk_len_10__attr_\"intercept\"  \\\n",
       "0                                           0.949115                     \n",
       "1                                           0.810495                     \n",
       "2                                           1.065365                     \n",
       "3                                           1.141145                     \n",
       "4                                           0.842727                     \n",
       "\n",
       "   None__agg_linear_trend__f_agg_\"max\"__chunk_len_10__attr_\"rvalue\"  \\\n",
       "0                                          -0.027843                  \n",
       "1                                           0.014560                  \n",
       "2                                          -0.088829                  \n",
       "3                                          -0.214194                  \n",
       "4                                           0.119359                  \n",
       "\n",
       "   None__agg_linear_trend__f_agg_\"max\"__chunk_len_10__attr_\"slope\"  \\\n",
       "0                                          -0.001282                 \n",
       "1                                           0.000742                 \n",
       "2                                          -0.004117                 \n",
       "3                                          -0.012728                 \n",
       "4                                           0.007096                 \n",
       "\n",
       "   None__agg_linear_trend__f_agg_\"max\"__chunk_len_10__attr_\"stderr\"  \\\n",
       "0                                           0.006577                  \n",
       "1                                           0.007283                  \n",
       "2                                           0.006595                  \n",
       "3                                           0.008292                  \n",
       "4                                           0.008432                  \n",
       "\n",
       "   None__agg_linear_trend__f_agg_\"max\"__chunk_len_50__attr_\"intercept\"  \\\n",
       "0                                           1.719095                     \n",
       "1                                           1.736565                     \n",
       "2                                           2.183568                     \n",
       "3                                           2.641368                     \n",
       "4                                           2.007018                     \n",
       "\n",
       "                       ...                        \\\n",
       "0                      ...                         \n",
       "1                      ...                         \n",
       "2                      ...                         \n",
       "3                      ...                         \n",
       "4                      ...                         \n",
       "\n",
       "   None__time_reversal_asymmetry_statistic__lag_1  \\\n",
       "0                                       -0.007374   \n",
       "1                                        0.000400   \n",
       "2                                        0.004354   \n",
       "3                                       -0.002460   \n",
       "4                                        0.000949   \n",
       "\n",
       "   None__time_reversal_asymmetry_statistic__lag_2  \\\n",
       "0                                       -0.012282   \n",
       "1                                       -0.002280   \n",
       "2                                        0.003302   \n",
       "3                                        0.000917   \n",
       "4                                        0.005811   \n",
       "\n",
       "   None__time_reversal_asymmetry_statistic__lag_3  \\\n",
       "0                                       -0.015967   \n",
       "1                                       -0.011068   \n",
       "2                                       -0.017264   \n",
       "3                                        0.012002   \n",
       "4                                        0.019023   \n",
       "\n",
       "   None__value_count__value_-inf  None__value_count__value_0  \\\n",
       "0                              0                           0   \n",
       "1                              0                           0   \n",
       "2                              0                           0   \n",
       "3                              0                           0   \n",
       "4                              0                           0   \n",
       "\n",
       "   None__value_count__value_1  None__value_count__value_inf  \\\n",
       "0                           1                             0   \n",
       "1                           1                             0   \n",
       "2                           0                             0   \n",
       "3                           0                             0   \n",
       "4                           0                             0   \n",
       "\n",
       "   None__value_count__value_nan  None__variance  \\\n",
       "0                             0        0.998000   \n",
       "1                             0        0.997999   \n",
       "2                             0        0.998003   \n",
       "3                             0        0.997999   \n",
       "4                             0        0.998006   \n",
       "\n",
       "   None__variance_larger_than_standard_deviation  \n",
       "0                                          False  \n",
       "1                                          False  \n",
       "2                                          False  \n",
       "3                                          False  \n",
       "4                                          False  \n",
       "\n",
       "[5 rows x 788 columns]"
      ]
     },
     "execution_count": 22,
     "metadata": {},
     "output_type": "execute_result"
    }
   ],
   "source": [
    "transformed_series"
   ]
  },
  {
   "cell_type": "markdown",
   "metadata": {},
   "source": [
    "### Custom inline Transformer"
   ]
  },
  {
   "cell_type": "markdown",
   "metadata": {},
   "source": [
    "One can also create inline ``CustomTransfomer`` like this"
   ]
  },
  {
   "cell_type": "code",
   "execution_count": 23,
   "metadata": {
    "collapsed": true
   },
   "outputs": [],
   "source": [
    "from XPandas.transformers import XSeriesTransformer"
   ]
  },
  {
   "cell_type": "code",
   "execution_count": 24,
   "metadata": {
    "collapsed": true
   },
   "outputs": [],
   "source": [
    "my_awesome_transfomer = XSeriesTransformer(transform_function=lambda x: x.std())"
   ]
  },
  {
   "cell_type": "code",
   "execution_count": 25,
   "metadata": {},
   "outputs": [
    {
     "data": {
      "text/plain": [
       "XSeriesTransformer(data_types=None, name='XSeriesTransformer',\n",
       "          transform_function=<function <lambda> at 0x111c64d90>)"
      ]
     },
     "execution_count": 25,
     "metadata": {},
     "output_type": "execute_result"
    }
   ],
   "source": [
    "my_awesome_transfomer.fit(X)"
   ]
  },
  {
   "cell_type": "code",
   "execution_count": 26,
   "metadata": {},
   "outputs": [
    {
     "data": {
      "text/plain": [
       "0    0.999998\n",
       "1    0.999997\n",
       "2    1.000000\n",
       "3    0.999997\n",
       "4    1.000001\n",
       "dtype: float64\n",
       "data_type: <class 'numpy.float64'>"
      ]
     },
     "execution_count": 26,
     "metadata": {},
     "output_type": "execute_result"
    }
   ],
   "source": [
    "my_awesome_transfomer.transform(X).head()"
   ]
  },
  {
   "cell_type": "markdown",
   "metadata": {},
   "source": [
    "If you want to create your custom transformer with any complex logic, please take a look at internal implementation of transformers."
   ]
  },
  {
   "cell_type": "markdown",
   "metadata": {},
   "source": [
    "## XDataFrame transformer"
   ]
  },
  {
   "cell_type": "markdown",
   "metadata": {},
   "source": [
    "To transform a **XDataFrame** one has to specify the transformation logic for the columns that should be transformed using a **XDataFrameTransformer**.\n",
    "\n",
    "The constructor of **XDataFrameTransformer** input mapping dictionary of {col_name: XSeries transformer}.\n",
    "\n",
    "For example, let's apply **TimeSeriesWindowTransformer** to the $X$ column and **TimeSeriesTransformer** to the $X_1$ column.\n",
    "\n",
    "When apply transformation to the column, *it's replaced with transformed*."
   ]
  },
  {
   "cell_type": "code",
   "execution_count": 27,
   "metadata": {
    "collapsed": true
   },
   "outputs": [],
   "source": [
    "from XPandas.transformers import XDataFrameTransformer"
   ]
  },
  {
   "cell_type": "code",
   "execution_count": 28,
   "metadata": {
    "collapsed": true
   },
   "outputs": [],
   "source": [
    "df_transformer = XDataFrameTransformer({\n",
    "    'X': TimeSeriesWindowTransformer(windows_size=4),\n",
    "    'X_1': TimeSeriesTransformer()\n",
    "})"
   ]
  },
  {
   "cell_type": "code",
   "execution_count": 29,
   "metadata": {},
   "outputs": [
    {
     "data": {
      "text/plain": [
       "XDataFrameTransformer(transformations={'X': [TimeSeriesWindowTransformer(windows_size=4)], 'X_1': [TimeSeriesTransformer(features=None)]})"
      ]
     },
     "execution_count": 29,
     "metadata": {},
     "output_type": "execute_result"
    }
   ],
   "source": [
    "df_transformer.fit(df)"
   ]
  },
  {
   "cell_type": "code",
   "execution_count": 30,
   "metadata": {
    "collapsed": true
   },
   "outputs": [],
   "source": [
    "transformed_df = df_transformer.transform(df)"
   ]
  },
  {
   "cell_type": "code",
   "execution_count": 31,
   "metadata": {},
   "outputs": [
    {
     "data": {
      "text/html": [
       "<div>\n",
       "<style>\n",
       "    .dataframe thead tr:only-child th {\n",
       "        text-align: right;\n",
       "    }\n",
       "\n",
       "    .dataframe thead th {\n",
       "        text-align: left;\n",
       "    }\n",
       "\n",
       "    .dataframe tbody tr th {\n",
       "        vertical-align: top;\n",
       "    }\n",
       "</style>\n",
       "<table border=\"1\" class=\"dataframe\">\n",
       "  <thead>\n",
       "    <tr style=\"text-align: right;\">\n",
       "      <th></th>\n",
       "      <th>X_TimeSeriesWindowTransformer</th>\n",
       "      <th>Y</th>\n",
       "      <th>X_1_TimeSeriesTransformer_max</th>\n",
       "      <th>X_1_TimeSeriesTransformer_mean</th>\n",
       "      <th>X_1_TimeSeriesTransformer_median</th>\n",
       "      <th>X_1_TimeSeriesTransformer_min</th>\n",
       "      <th>X_1_TimeSeriesTransformer_quantile_25</th>\n",
       "      <th>X_1_TimeSeriesTransformer_quantile_75</th>\n",
       "      <th>X_1_TimeSeriesTransformer_quantile_90</th>\n",
       "      <th>X_1_TimeSeriesTransformer_quantile_95</th>\n",
       "      <th>X_1_TimeSeriesTransformer_std</th>\n",
       "    </tr>\n",
       "  </thead>\n",
       "  <tbody>\n",
       "    <tr>\n",
       "      <th>0</th>\n",
       "      <td>3     -0.016460\n",
       "4     -0.789610\n",
       "5     -1.48761...</td>\n",
       "      <td>0</td>\n",
       "      <td>3.345381</td>\n",
       "      <td>-0.096329</td>\n",
       "      <td>-0.170409</td>\n",
       "      <td>-2.480605</td>\n",
       "      <td>-0.813151</td>\n",
       "      <td>0.652504</td>\n",
       "      <td>1.279456</td>\n",
       "      <td>1.544454</td>\n",
       "      <td>1.074414</td>\n",
       "    </tr>\n",
       "    <tr>\n",
       "      <th>1</th>\n",
       "      <td>3      0.416408\n",
       "4      0.613542\n",
       "5      0.77304...</td>\n",
       "      <td>1</td>\n",
       "      <td>2.312068</td>\n",
       "      <td>-0.046466</td>\n",
       "      <td>0.096838</td>\n",
       "      <td>-2.158758</td>\n",
       "      <td>-0.861218</td>\n",
       "      <td>0.641127</td>\n",
       "      <td>1.138109</td>\n",
       "      <td>1.522556</td>\n",
       "      <td>0.970865</td>\n",
       "    </tr>\n",
       "    <tr>\n",
       "      <th>2</th>\n",
       "      <td>3     -1.315175\n",
       "4     -1.083680\n",
       "5     -0.54600...</td>\n",
       "      <td>0</td>\n",
       "      <td>1.937398</td>\n",
       "      <td>0.037578</td>\n",
       "      <td>-0.003737</td>\n",
       "      <td>-2.549828</td>\n",
       "      <td>-0.527034</td>\n",
       "      <td>0.666005</td>\n",
       "      <td>1.210568</td>\n",
       "      <td>1.596621</td>\n",
       "      <td>0.901065</td>\n",
       "    </tr>\n",
       "    <tr>\n",
       "      <th>3</th>\n",
       "      <td>3      0.268788\n",
       "4      0.203539\n",
       "5      0.13194...</td>\n",
       "      <td>0</td>\n",
       "      <td>2.760552</td>\n",
       "      <td>-0.026058</td>\n",
       "      <td>-0.062914</td>\n",
       "      <td>-2.805194</td>\n",
       "      <td>-0.663694</td>\n",
       "      <td>0.746644</td>\n",
       "      <td>1.200826</td>\n",
       "      <td>1.352352</td>\n",
       "      <td>1.001159</td>\n",
       "    </tr>\n",
       "    <tr>\n",
       "      <th>4</th>\n",
       "      <td>3      0.255629\n",
       "4      0.176381\n",
       "5      0.10033...</td>\n",
       "      <td>1</td>\n",
       "      <td>2.733081</td>\n",
       "      <td>0.108680</td>\n",
       "      <td>0.123488</td>\n",
       "      <td>-2.797021</td>\n",
       "      <td>-0.565458</td>\n",
       "      <td>0.760682</td>\n",
       "      <td>1.281720</td>\n",
       "      <td>1.567904</td>\n",
       "      <td>1.000222</td>\n",
       "    </tr>\n",
       "  </tbody>\n",
       "</table>\n",
       "</div>"
      ],
      "text/plain": [
       "                       X_TimeSeriesWindowTransformer  Y  \\\n",
       "0  3     -0.016460\n",
       "4     -0.789610\n",
       "5     -1.48761...  0   \n",
       "1  3      0.416408\n",
       "4      0.613542\n",
       "5      0.77304...  1   \n",
       "2  3     -1.315175\n",
       "4     -1.083680\n",
       "5     -0.54600...  0   \n",
       "3  3      0.268788\n",
       "4      0.203539\n",
       "5      0.13194...  0   \n",
       "4  3      0.255629\n",
       "4      0.176381\n",
       "5      0.10033...  1   \n",
       "\n",
       "   X_1_TimeSeriesTransformer_max  X_1_TimeSeriesTransformer_mean  \\\n",
       "0                       3.345381                       -0.096329   \n",
       "1                       2.312068                       -0.046466   \n",
       "2                       1.937398                        0.037578   \n",
       "3                       2.760552                       -0.026058   \n",
       "4                       2.733081                        0.108680   \n",
       "\n",
       "   X_1_TimeSeriesTransformer_median  X_1_TimeSeriesTransformer_min  \\\n",
       "0                         -0.170409                      -2.480605   \n",
       "1                          0.096838                      -2.158758   \n",
       "2                         -0.003737                      -2.549828   \n",
       "3                         -0.062914                      -2.805194   \n",
       "4                          0.123488                      -2.797021   \n",
       "\n",
       "   X_1_TimeSeriesTransformer_quantile_25  \\\n",
       "0                              -0.813151   \n",
       "1                              -0.861218   \n",
       "2                              -0.527034   \n",
       "3                              -0.663694   \n",
       "4                              -0.565458   \n",
       "\n",
       "   X_1_TimeSeriesTransformer_quantile_75  \\\n",
       "0                               0.652504   \n",
       "1                               0.641127   \n",
       "2                               0.666005   \n",
       "3                               0.746644   \n",
       "4                               0.760682   \n",
       "\n",
       "   X_1_TimeSeriesTransformer_quantile_90  \\\n",
       "0                               1.279456   \n",
       "1                               1.138109   \n",
       "2                               1.210568   \n",
       "3                               1.200826   \n",
       "4                               1.281720   \n",
       "\n",
       "   X_1_TimeSeriesTransformer_quantile_95  X_1_TimeSeriesTransformer_std  \n",
       "0                               1.544454                       1.074414  \n",
       "1                               1.522556                       0.970865  \n",
       "2                               1.596621                       0.901065  \n",
       "3                               1.352352                       1.001159  \n",
       "4                               1.567904                       1.000222  "
      ]
     },
     "execution_count": 31,
     "metadata": {},
     "output_type": "execute_result"
    }
   ],
   "source": [
    "transformed_df.head()"
   ]
  },
  {
   "cell_type": "markdown",
   "metadata": {},
   "source": [
    "## Pipeline transformer"
   ]
  },
  {
   "cell_type": "markdown",
   "metadata": {},
   "source": [
    "Well, that's a nice transformer, but can I create [pipelines](http://scikit-learn.org/stable/modules/generated/sklearn.pipeline.Pipeline.html) as in scikit-learn?\n",
    "\n",
    "Sure! Let's see on example where we combine ``TimeSeriesTransformer`` and ``TimeSeriesWindowTransformer`` into a combined pipeline using a ``PipeLineChain``.\n",
    "\n",
    "First let's see example of ``PipeLineChain`` with ``XSeries`` and then with ``XDataFrame``."
   ]
  },
  {
   "cell_type": "code",
   "execution_count": 32,
   "metadata": {
    "collapsed": true
   },
   "outputs": [],
   "source": [
    "from XPandas.transformers import PipeLineChain"
   ]
  },
  {
   "cell_type": "code",
   "execution_count": 33,
   "metadata": {},
   "outputs": [
    {
     "data": {
      "text/plain": [
       "PipeLineChain(steps=[('moving average trans', TimeSeriesWindowTransformer(windows_size=5)), ('extract features', TimeSeriesTransformer(features=None))])"
      ]
     },
     "execution_count": 33,
     "metadata": {},
     "output_type": "execute_result"
    }
   ],
   "source": [
    "chain = PipeLineChain([\n",
    "    ('moving average trans', TimeSeriesWindowTransformer(windows_size=5)),\n",
    "    ('extract features', TimeSeriesTransformer())\n",
    "])\n",
    "chain.fit(X)"
   ]
  },
  {
   "cell_type": "code",
   "execution_count": 34,
   "metadata": {},
   "outputs": [
    {
     "data": {
      "text/plain": [
       "<bound method Pipeline.get_params of PipeLineChain(steps=[('moving average trans', TimeSeriesWindowTransformer(windows_size=5)), ('extract features', TimeSeriesTransformer(features=None))])>"
      ]
     },
     "execution_count": 34,
     "metadata": {},
     "output_type": "execute_result"
    }
   ],
   "source": [
    "chain.get_params"
   ]
  },
  {
   "cell_type": "code",
   "execution_count": 35,
   "metadata": {
    "collapsed": true
   },
   "outputs": [],
   "source": [
    "transformed_X = chain.transform(X)"
   ]
  },
  {
   "cell_type": "code",
   "execution_count": 36,
   "metadata": {},
   "outputs": [
    {
     "data": {
      "text/html": [
       "<div>\n",
       "<style>\n",
       "    .dataframe thead tr:only-child th {\n",
       "        text-align: right;\n",
       "    }\n",
       "\n",
       "    .dataframe thead th {\n",
       "        text-align: left;\n",
       "    }\n",
       "\n",
       "    .dataframe tbody tr th {\n",
       "        vertical-align: top;\n",
       "    }\n",
       "</style>\n",
       "<table border=\"1\" class=\"dataframe\">\n",
       "  <thead>\n",
       "    <tr style=\"text-align: right;\">\n",
       "      <th></th>\n",
       "      <th>None_TimeSeriesWindowTransformer_TimeSeriesTransformer_max</th>\n",
       "      <th>None_TimeSeriesWindowTransformer_TimeSeriesTransformer_mean</th>\n",
       "      <th>None_TimeSeriesWindowTransformer_TimeSeriesTransformer_median</th>\n",
       "      <th>None_TimeSeriesWindowTransformer_TimeSeriesTransformer_min</th>\n",
       "      <th>None_TimeSeriesWindowTransformer_TimeSeriesTransformer_quantile_25</th>\n",
       "      <th>None_TimeSeriesWindowTransformer_TimeSeriesTransformer_quantile_75</th>\n",
       "      <th>None_TimeSeriesWindowTransformer_TimeSeriesTransformer_quantile_90</th>\n",
       "      <th>None_TimeSeriesWindowTransformer_TimeSeriesTransformer_quantile_95</th>\n",
       "      <th>None_TimeSeriesWindowTransformer_TimeSeriesTransformer_std</th>\n",
       "    </tr>\n",
       "  </thead>\n",
       "  <tbody>\n",
       "    <tr>\n",
       "      <th>0</th>\n",
       "      <td>2.16144</td>\n",
       "      <td>0.002078</td>\n",
       "      <td>0.017664</td>\n",
       "      <td>-2.48536</td>\n",
       "      <td>-0.633164</td>\n",
       "      <td>0.658680</td>\n",
       "      <td>1.156081</td>\n",
       "      <td>1.403896</td>\n",
       "      <td>0.896272</td>\n",
       "    </tr>\n",
       "    <tr>\n",
       "      <th>1</th>\n",
       "      <td>2.39636</td>\n",
       "      <td>-0.002229</td>\n",
       "      <td>-0.030936</td>\n",
       "      <td>-2.27418</td>\n",
       "      <td>-0.649324</td>\n",
       "      <td>0.596704</td>\n",
       "      <td>1.193813</td>\n",
       "      <td>1.580243</td>\n",
       "      <td>0.924516</td>\n",
       "    </tr>\n",
       "    <tr>\n",
       "      <th>2</th>\n",
       "      <td>2.32512</td>\n",
       "      <td>0.005656</td>\n",
       "      <td>0.057383</td>\n",
       "      <td>-2.43876</td>\n",
       "      <td>-0.567000</td>\n",
       "      <td>0.615622</td>\n",
       "      <td>1.025741</td>\n",
       "      <td>1.343563</td>\n",
       "      <td>0.855456</td>\n",
       "    </tr>\n",
       "    <tr>\n",
       "      <th>3</th>\n",
       "      <td>2.44430</td>\n",
       "      <td>0.000632</td>\n",
       "      <td>-0.006893</td>\n",
       "      <td>-2.51592</td>\n",
       "      <td>-0.628024</td>\n",
       "      <td>0.544161</td>\n",
       "      <td>1.332912</td>\n",
       "      <td>1.674656</td>\n",
       "      <td>0.938187</td>\n",
       "    </tr>\n",
       "    <tr>\n",
       "      <th>4</th>\n",
       "      <td>2.64094</td>\n",
       "      <td>-0.001295</td>\n",
       "      <td>-0.036442</td>\n",
       "      <td>-2.47826</td>\n",
       "      <td>-0.587780</td>\n",
       "      <td>0.594925</td>\n",
       "      <td>1.130192</td>\n",
       "      <td>1.429327</td>\n",
       "      <td>0.860424</td>\n",
       "    </tr>\n",
       "  </tbody>\n",
       "</table>\n",
       "</div>"
      ],
      "text/plain": [
       "   None_TimeSeriesWindowTransformer_TimeSeriesTransformer_max  \\\n",
       "0                                            2.16144            \n",
       "1                                            2.39636            \n",
       "2                                            2.32512            \n",
       "3                                            2.44430            \n",
       "4                                            2.64094            \n",
       "\n",
       "   None_TimeSeriesWindowTransformer_TimeSeriesTransformer_mean  \\\n",
       "0                                           0.002078             \n",
       "1                                          -0.002229             \n",
       "2                                           0.005656             \n",
       "3                                           0.000632             \n",
       "4                                          -0.001295             \n",
       "\n",
       "   None_TimeSeriesWindowTransformer_TimeSeriesTransformer_median  \\\n",
       "0                                           0.017664               \n",
       "1                                          -0.030936               \n",
       "2                                           0.057383               \n",
       "3                                          -0.006893               \n",
       "4                                          -0.036442               \n",
       "\n",
       "   None_TimeSeriesWindowTransformer_TimeSeriesTransformer_min  \\\n",
       "0                                           -2.48536            \n",
       "1                                           -2.27418            \n",
       "2                                           -2.43876            \n",
       "3                                           -2.51592            \n",
       "4                                           -2.47826            \n",
       "\n",
       "   None_TimeSeriesWindowTransformer_TimeSeriesTransformer_quantile_25  \\\n",
       "0                                          -0.633164                    \n",
       "1                                          -0.649324                    \n",
       "2                                          -0.567000                    \n",
       "3                                          -0.628024                    \n",
       "4                                          -0.587780                    \n",
       "\n",
       "   None_TimeSeriesWindowTransformer_TimeSeriesTransformer_quantile_75  \\\n",
       "0                                           0.658680                    \n",
       "1                                           0.596704                    \n",
       "2                                           0.615622                    \n",
       "3                                           0.544161                    \n",
       "4                                           0.594925                    \n",
       "\n",
       "   None_TimeSeriesWindowTransformer_TimeSeriesTransformer_quantile_90  \\\n",
       "0                                           1.156081                    \n",
       "1                                           1.193813                    \n",
       "2                                           1.025741                    \n",
       "3                                           1.332912                    \n",
       "4                                           1.130192                    \n",
       "\n",
       "   None_TimeSeriesWindowTransformer_TimeSeriesTransformer_quantile_95  \\\n",
       "0                                           1.403896                    \n",
       "1                                           1.580243                    \n",
       "2                                           1.343563                    \n",
       "3                                           1.674656                    \n",
       "4                                           1.429327                    \n",
       "\n",
       "   None_TimeSeriesWindowTransformer_TimeSeriesTransformer_std  \n",
       "0                                           0.896272           \n",
       "1                                           0.924516           \n",
       "2                                           0.855456           \n",
       "3                                           0.938187           \n",
       "4                                           0.860424           "
      ]
     },
     "execution_count": 36,
     "metadata": {},
     "output_type": "execute_result"
    }
   ],
   "source": [
    "transformed_X.head()"
   ]
  },
  {
   "cell_type": "markdown",
   "metadata": {
    "collapsed": true
   },
   "source": [
    "All right! Let's try to add scikit-learn transformer to the PipeLineChain. For example, let's do PCA on transformed_X."
   ]
  },
  {
   "cell_type": "code",
   "execution_count": 37,
   "metadata": {
    "collapsed": true
   },
   "outputs": [],
   "source": [
    "from sklearn.decomposition import PCA"
   ]
  },
  {
   "cell_type": "code",
   "execution_count": 38,
   "metadata": {},
   "outputs": [
    {
     "data": {
      "text/plain": [
       "PipeLineChain(steps=[('moving average trans', TimeSeriesWindowTransformer(windows_size=5)), ('extract features', TimeSeriesTransformer(features=None)), ('pca', PCA(copy=True, iterated_power='auto', n_components=5, random_state=None,\n",
       "  svd_solver='auto', tol=0.0, whiten=False))])"
      ]
     },
     "execution_count": 38,
     "metadata": {},
     "output_type": "execute_result"
    }
   ],
   "source": [
    "chain = PipeLineChain([\n",
    "    ('moving average trans', TimeSeriesWindowTransformer(windows_size=5)),\n",
    "    ('extract features', TimeSeriesTransformer()),\n",
    "    ('pca', PCA(n_components=5))\n",
    "])\n",
    "chain.fit(X)"
   ]
  },
  {
   "cell_type": "code",
   "execution_count": 39,
   "metadata": {
    "collapsed": true
   },
   "outputs": [],
   "source": [
    "transformed_X = chain.transform(X)"
   ]
  },
  {
   "cell_type": "code",
   "execution_count": 40,
   "metadata": {},
   "outputs": [
    {
     "data": {
      "text/html": [
       "<div>\n",
       "<style>\n",
       "    .dataframe thead tr:only-child th {\n",
       "        text-align: right;\n",
       "    }\n",
       "\n",
       "    .dataframe thead th {\n",
       "        text-align: left;\n",
       "    }\n",
       "\n",
       "    .dataframe tbody tr th {\n",
       "        vertical-align: top;\n",
       "    }\n",
       "</style>\n",
       "<table border=\"1\" class=\"dataframe\">\n",
       "  <thead>\n",
       "    <tr style=\"text-align: right;\">\n",
       "      <th></th>\n",
       "      <th>0</th>\n",
       "      <th>1</th>\n",
       "      <th>2</th>\n",
       "      <th>3</th>\n",
       "      <th>4</th>\n",
       "    </tr>\n",
       "  </thead>\n",
       "  <tbody>\n",
       "    <tr>\n",
       "      <th>0</th>\n",
       "      <td>-0.133152</td>\n",
       "      <td>-0.242552</td>\n",
       "      <td>0.097523</td>\n",
       "      <td>-0.004435</td>\n",
       "      <td>-0.009747</td>\n",
       "    </tr>\n",
       "    <tr>\n",
       "      <th>1</th>\n",
       "      <td>-0.125413</td>\n",
       "      <td>0.076021</td>\n",
       "      <td>-0.089267</td>\n",
       "      <td>0.010531</td>\n",
       "      <td>0.017437</td>\n",
       "    </tr>\n",
       "    <tr>\n",
       "      <th>2</th>\n",
       "      <td>-0.028607</td>\n",
       "      <td>-0.088828</td>\n",
       "      <td>0.205043</td>\n",
       "      <td>0.098009</td>\n",
       "      <td>0.032338</td>\n",
       "    </tr>\n",
       "    <tr>\n",
       "      <th>3</th>\n",
       "      <td>0.071478</td>\n",
       "      <td>-0.058813</td>\n",
       "      <td>-0.247669</td>\n",
       "      <td>-0.023550</td>\n",
       "      <td>-0.052968</td>\n",
       "    </tr>\n",
       "    <tr>\n",
       "      <th>4</th>\n",
       "      <td>0.200611</td>\n",
       "      <td>0.110884</td>\n",
       "      <td>0.064200</td>\n",
       "      <td>0.012187</td>\n",
       "      <td>-0.038497</td>\n",
       "    </tr>\n",
       "  </tbody>\n",
       "</table>\n",
       "</div>"
      ],
      "text/plain": [
       "          0         1         2         3         4\n",
       "0 -0.133152 -0.242552  0.097523 -0.004435 -0.009747\n",
       "1 -0.125413  0.076021 -0.089267  0.010531  0.017437\n",
       "2 -0.028607 -0.088828  0.205043  0.098009  0.032338\n",
       "3  0.071478 -0.058813 -0.247669 -0.023550 -0.052968\n",
       "4  0.200611  0.110884  0.064200  0.012187 -0.038497"
      ]
     },
     "execution_count": 40,
     "metadata": {},
     "output_type": "execute_result"
    }
   ],
   "source": [
    "transformed_X.head()"
   ]
  },
  {
   "cell_type": "markdown",
   "metadata": {},
   "source": [
    "Let's do even more interesting things! Adding a scikit-learn estimator at the end of PipeLineChain!"
   ]
  },
  {
   "cell_type": "code",
   "execution_count": 41,
   "metadata": {
    "collapsed": true
   },
   "outputs": [],
   "source": [
    "from sklearn.linear_model import LogisticRegression\n",
    "from sklearn.model_selection import train_test_split\n",
    "from sklearn.metrics import accuracy_score"
   ]
  },
  {
   "cell_type": "code",
   "execution_count": 42,
   "metadata": {
    "collapsed": true
   },
   "outputs": [],
   "source": [
    "X_train, X_test, y_train, y_test = train_test_split(X, Y)"
   ]
  },
  {
   "cell_type": "markdown",
   "metadata": {},
   "source": [
    "Be sure that types of X_train and X_test are XSeries."
   ]
  },
  {
   "cell_type": "code",
   "execution_count": 43,
   "metadata": {},
   "outputs": [
    {
     "name": "stdout",
     "output_type": "stream",
     "text": [
      "<class 'XPandas.data_container.data_container.XSeries'>\n",
      "<class 'XPandas.data_container.data_container.XSeries'>\n"
     ]
    }
   ],
   "source": [
    "print(type(X_train))\n",
    "print(type(X_test))"
   ]
  },
  {
   "cell_type": "code",
   "execution_count": 44,
   "metadata": {
    "collapsed": true
   },
   "outputs": [],
   "source": [
    "chain = PipeLineChain([\n",
    "    ('moving average trans', TimeSeriesWindowTransformer(windows_size=5)),\n",
    "    ('extract features', TimeSeriesTransformer()),\n",
    "    ('pca', PCA(n_components=5)),\n",
    "    ('logit_regression', LogisticRegression())\n",
    "    \n",
    "])\n",
    "chain = chain.fit(X_train, y_train)"
   ]
  },
  {
   "cell_type": "code",
   "execution_count": 45,
   "metadata": {
    "collapsed": true
   },
   "outputs": [],
   "source": [
    "prediction = chain.predict(X_test)"
   ]
  },
  {
   "cell_type": "code",
   "execution_count": 46,
   "metadata": {},
   "outputs": [
    {
     "data": {
      "text/plain": [
       "0.49715678310316813"
      ]
     },
     "execution_count": 46,
     "metadata": {},
     "output_type": "execute_result"
    }
   ],
   "source": [
    "accuracy_score(y_test, prediction)"
   ]
  },
  {
   "cell_type": "markdown",
   "metadata": {},
   "source": [
    "Let's now try ``PipeLineChain`` with ``XDataFrameTransformer``.\n",
    "\n",
    "Imagine data set of feature columns gender (0 or 1), age (int), series( pandas.Series), target (0 or 1). Let's try to create ``PipeLineChain`` that extracts features from series and performs ``PCA`` over all feature set and then performs LogitRegression classification."
   ]
  },
  {
   "cell_type": "code",
   "execution_count": 47,
   "metadata": {
    "collapsed": true
   },
   "outputs": [],
   "source": [
    "n = 100\n",
    "\n",
    "df_features = XDataFrame({\n",
    "    'gender': XSeries(np.random.binomial(1, 0.7, n)),\n",
    "    'age': XSeries(np.random.poisson(25, n)),\n",
    "    'series': XSeries([\n",
    "        pd.Series(np.random.normal(size=500))\n",
    "    ] * n)\n",
    "})\n",
    "\n",
    "target = XSeries(np.random.binomial(1, 0.45, n))"
   ]
  },
  {
   "cell_type": "code",
   "execution_count": 48,
   "metadata": {
    "collapsed": true
   },
   "outputs": [],
   "source": [
    "features_transformer = XDataFrameTransformer({\n",
    "    'series': TimeSeriesTransformer()\n",
    "})"
   ]
  },
  {
   "cell_type": "code",
   "execution_count": 49,
   "metadata": {
    "collapsed": true
   },
   "outputs": [],
   "source": [
    "pipe_line = PipeLineChain([\n",
    "    ('extract_from_series', features_transformer),\n",
    "    ('pca', PCA(n_components=5)),\n",
    "    ('logit_regression', LogisticRegression())\n",
    "])"
   ]
  },
  {
   "cell_type": "code",
   "execution_count": 50,
   "metadata": {
    "collapsed": true
   },
   "outputs": [],
   "source": [
    "df_features_train, df_features_test, \\\n",
    "        y_train, y_test = train_test_split(df_features, target)"
   ]
  },
  {
   "cell_type": "code",
   "execution_count": 51,
   "metadata": {},
   "outputs": [
    {
     "data": {
      "text/plain": [
       "PipeLineChain(steps=[('extract_from_series', XDataFrameTransformer(transformations={'series': [TimeSeriesTransformer(features=None)]})), ('pca', PCA(copy=True, iterated_power='auto', n_components=5, random_state=None,\n",
       "  svd_solver='auto', tol=0.0, whiten=False)), ('logit_regression', LogisticRegression(C=1.0, cla...ty='l2', random_state=None, solver='liblinear', tol=0.0001,\n",
       "          verbose=0, warm_start=False))])"
      ]
     },
     "execution_count": 51,
     "metadata": {},
     "output_type": "execute_result"
    }
   ],
   "source": [
    "pipe_line.fit(df_features_train, y_train)"
   ]
  },
  {
   "cell_type": "code",
   "execution_count": 52,
   "metadata": {},
   "outputs": [
    {
     "data": {
      "text/plain": [
       "array([0, 0, 0, 0, 0, 0, 0, 0, 0, 0, 0, 0, 0, 0, 0, 0, 0, 0, 0, 0, 0, 0, 0,\n",
       "       0, 0])"
      ]
     },
     "execution_count": 52,
     "metadata": {},
     "output_type": "execute_result"
    }
   ],
   "source": [
    "pipe_line.predict(df_features_test)"
   ]
  },
  {
   "cell_type": "code",
   "execution_count": null,
   "metadata": {
    "collapsed": true
   },
   "outputs": [],
   "source": []
  }
 ],
 "metadata": {
  "kernelspec": {
   "display_name": "Python 3",
   "language": "python",
   "name": "python3"
  },
  "language_info": {
   "codemirror_mode": {
    "name": "ipython",
    "version": 3
   },
   "file_extension": ".py",
   "mimetype": "text/x-python",
   "name": "python",
   "nbconvert_exporter": "python",
   "pygments_lexer": "ipython3",
   "version": "3.6.1"
  }
 },
 "nbformat": 4,
 "nbformat_minor": 2
}
